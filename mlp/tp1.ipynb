{
 "cells": [
  {
   "cell_type": "markdown",
   "metadata": {
    "collapsed": true
   },
   "source": [
    "## Building the Model"
   ]
  },
  {
   "cell_type": "markdown",
   "metadata": {},
   "source": [
    "We have come up with the following initial architecture: $h^1$ = 500, $h^2$ = 600, $mu$ (learning rate) = 0.01, batch size = 32, activation function = ReLU. The neural network code is provided in [neuralnetwork.py](neuralnetwork.py) with accompanying utility functions in [utils.py](utils.py)\n"
   ]
  },
  {
   "cell_type": "markdown",
   "metadata": {},
   "source": [
    "The resulting number of parameters (including the biases) is 699110. It can be calculated by the applying the following formula to each layer: $(n\\_inputs + 1) * neuron\\_count$ and then summing it up. The $+1$ in the equation accounts for the biases."
   ]
  },
  {
   "cell_type": "markdown",
   "metadata": {},
   "source": [
    "### Initialization"
   ]
  },
  {
   "cell_type": "markdown",
   "metadata": {},
   "source": [
    "The three weight initializations are performed by the following snippet:\n",
    "\n",
    "```python\n",
    "    def initialize_weights(self, i, j):\n",
    "        \"\"\"\n",
    "        Initialize the weight matrix i x j for the layer of n entries\n",
    "        :param i: number of rows of the matrix W (output of the layer)\n",
    "        :param j: number of columns (input to the layer)\n",
    "        :return: two-dimensional numpy array\n",
    "        \"\"\"\n",
    "        if self.weight_init == 'zeros':\n",
    "            weights = np.zeros((i, j))\n",
    "        elif self.weight_init == 'normal':\n",
    "            weights = np.array(np.random.normal(0, 1, (i, j)))\n",
    "        elif self.weight_init == 'glorot':\n",
    "            d = np.sqrt(6 / (i + j))\n",
    "            weights = np.random.uniform(-d, d, (i, j))\n",
    "        else:\n",
    "            raise RuntimeError('Have not found initializing method for ', self.weight_init)\n",
    "        return weights\n",
    "```\n",
    "Having trained neural networks with three different weight initializions (code snippet below), we save the results in a csv file wich is then read out and plotted. "
   ]
  },
  {
   "cell_type": "code",
   "execution_count": 7,
   "metadata": {},
   "outputs": [
    {
     "name": "stdout",
     "output_type": "stream",
     "text": [
      "zeros \n",
      " [0.90136 0.88644 0.88644 0.88644 0.88644 0.88644 0.88644 0.88644 0.88644\n",
      " 0.88644]\n",
      "normal \n",
      " [0.85996 0.0602  0.03438 0.0249  0.01802 0.01188 0.0062  0.0062  0.00404\n",
      " 0.0027 ]\n",
      "glorot \n",
      " [0.91968 0.0909  0.07462 0.06214 0.0546  0.04844 0.04714 0.038   0.03532\n",
      " 0.0314 ]\n"
     ]
    },
    {
     "data": {
      "image/png": "[encoded data removed]",
      "text/plain": [
       "<Figure size 432x288 with 1 Axes>"
      ]
     },
     "metadata": {
      "needs_background": "light"
     },
     "output_type": "display_data"
    }
   ],
   "source": [
    "from matplotlib import pyplot as plt\n",
    "import numpy as np\n",
    "\n",
    "reports = [('zeros', 'report_epochs=10,hidden_dims=[500,600],mu=0.01,batch_size=32,weight_init=zeros.csv'),\n",
    "           ('normal', 'report_epochs=10,hidden_dims=[500,600],mu=0.01,batch_size=32,weight_init=normal.csv'),\n",
    "           ('glorot', 'report_epochs=10,hidden_dims=[500,600],mu=0.01,batch_size=32,weight_init=glorot.csv')\n",
    "]\n",
    "\n",
    "for report in reports:\n",
    "    weight_init, file_name = report\n",
    "    with open(\"reports/{}\".format(file_name), \"r\") as f:\n",
    "        stats = np.loadtxt(f, delimiter=\",\", skiprows=1)\n",
    "        train = stats[:, 1]\n",
    "        print(weight_init, '\\n', train)\n",
    "        plt.plot(train, label=weight_init)\n",
    "plt.xticks(range(len(train)))\n",
    "plt.legend()\n",
    "plt.title('Average loss (on training data)')\n",
    "plt.xlabel('Epoch')\n",
    "plt.ylabel('Average loss')\n",
    "plt.show()"
   ]
  },
  {
   "cell_type": "markdown",
   "metadata": {},
   "source": [
    "**Zero initialization**. As can be seen, initializing weights with zeros results in virtually no learning as depicted by an almost flat learning curve. This can be explained by the backpropagation algorithm. \n",
    "\n",
    "On the forward pass all the activations (ReLUs in our case) output zeros and being multiplied by the zero weights result in zero logits. The softmax function then assigns equal probability to each prediction being 0.1 (as there are 10 classes). On the backprop the only the biases of the third layer $b^{(3)}$ have a nonzero gradient, all other parameters, including biases at other layers, are zero. \n",
    "\n",
    "This is because the partial derivative of the of the loss $L$ with respect to bias $b^{(k)}_i$ at layer $k$ is equal to $\\frac{\\partial}{\\partial b^{(k)}_i} -log f(x)_y=\\frac{\\partial -log f(x)_y}{\\partial a^{(k)}(x)_i}$. Since the preactivation at the third layer is $\\frac{\\partial}{\\partial a^{(L+1)}(x)_c}-log f(x)_y = f(x)_c - 1_{(y=c)}$ we have nonzero derivative values at the preactivation of the output layer and therefore nonzero values for the bias at the output layer. All the other parameter values are zero because the ReLUs output zeros for the zero inputs. \n",
    "\n",
    "\n",
    "**Normal and Glorot initialization**. We observe that the learning curves for the both initialization strategies exhibit similar behavior. However, the weight values under the 'normal' initialization are higher then those under glorot which affects the learning rate. For instance, though we have seen that the normal has a better training performance when $mu$ is at $0.01$, if we change it to $0.1$ the network does not train anymore because of the numerical overflow. The same learning rate of $0.1$ for glorot actually reduces the avarage loss much quicker as can be seen in the figure below."
   ]
  },
  {
   "cell_type": "code",
   "execution_count": null,
   "metadata": {},
   "outputs": [],
   "source": []
  },
  {
   "cell_type": "code",
   "execution_count": null,
   "metadata": {},
   "outputs": [],
   "source": []
  }
 ],
 "metadata": {
  "kernelspec": {
   "display_name": "Python 3",
   "language": "python",
   "name": "python3"
  },
  "language_info": {
   "codemirror_mode": {
    "name": "ipython",
    "version": 3
   },
   "file_extension": ".py",
   "mimetype": "text/x-python",
   "name": "python",
   "nbconvert_exporter": "python",
   "pygments_lexer": "ipython3",
   "version": "3.6.7"
  }
 },
 "nbformat": 4,
 "nbformat_minor": 1
}
