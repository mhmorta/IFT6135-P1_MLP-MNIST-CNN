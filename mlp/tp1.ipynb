{
 "cells": [
  {
   "cell_type": "markdown",
   "metadata": {
    "collapsed": true
   },
   "source": [
    "## Building the Model"
   ]
  },
  {
   "cell_type": "markdown",
   "metadata": {},
   "source": [
    "We have come up with the following initial architecture: $h^1$ = 500, $h^2$ = 600, $mu$ (learning rate) = 0.01, batch size = 32, activation function = ReLU. The neural network code is provided in [neuralnetwork.py](neuralnetwork.py) with accompanying utility functions in [utils.py](utils.py)\n"
   ]
  },
  {
   "cell_type": "markdown",
   "metadata": {},
   "source": [
    "The resulting number of parameters (including the biases) is 699110. It can be calculated by the applying the following formula to each layer: $(n\\_inputs + 1) * neuron\\_count$ and then summing it up. The $+1$ in the equation accounts for the biases."
   ]
  },
  {
   "cell_type": "markdown",
   "metadata": {},
   "source": [
    "### Initialization"
   ]
  },
  {
   "cell_type": "markdown",
   "metadata": {},
   "source": [
    "Having trained neural networks with three different weight initializions (code snippet below), we save the results in a csv file wich is then read out and plotted. The three weight initializations are "
   ]
  },
  {
   "cell_type": "code",
   "execution_count": 6,
   "metadata": {},
   "outputs": [
    {
     "name": "stdout",
     "output_type": "stream",
     "text": [
      "zeros \n",
      " [0.90136 0.88644 0.88644 0.88644 0.88644 0.88644 0.88644 0.88644 0.88644\n",
      " 0.88644]\n",
      "normal \n",
      " [0.85996 0.0602  0.03438 0.0249  0.01802 0.01188 0.0062  0.0062  0.00404\n",
      " 0.0027 ]\n",
      "glorot \n",
      " [0.91968 0.0909  0.07462 0.06214 0.0546  0.04844 0.04714 0.038   0.03532\n",
      " 0.0314 ]\n"
     ]
    },
    {
     "data": {
      "image/png": "[encoded data removed]",
      "text/plain": [
       "<Figure size 432x288 with 1 Axes>"
      ]
     },
     "metadata": {
      "needs_background": "light"
     },
     "output_type": "display_data"
    }
   ],
   "source": [
    "from matplotlib import pyplot as plt\n",
    "import numpy as np\n",
    "\n",
    "reports = [('zeros', 'report_epochs=10,hidden_dims=[500,600],mu=0.01,batch_size=32,weight_init=zeros.csv'),\n",
    "           ('normal', 'report_epochs=10,hidden_dims=[500,600],mu=0.01,batch_size=32,weight_init=normal.csv'),\n",
    "           ('glorot', 'report_epochs=10,hidden_dims=[500,600],mu=0.01,batch_size=32,weight_init=glorot.csv')\n",
    "]\n",
    "\n",
    "for report in reports:\n",
    "    weight_init, file_name = report\n",
    "    with open(\"reports/{}\".format(file_name), \"r\") as f:\n",
    "        stats = np.loadtxt(f, delimiter=\",\", skiprows=1)\n",
    "        train = stats[:, 1]\n",
    "        print(weight_init, '\\n', train)\n",
    "        plt.plot(train, label=weight_init)\n",
    "plt.xticks(range(len(train)))\n",
    "plt.legend()\n",
    "plt.title('Average loss')\n",
    "plt.show()"
   ]
  },
  {
   "cell_type": "code",
   "execution_count": null,
   "metadata": {},
   "outputs": [],
   "source": []
  }
 ],
 "metadata": {
  "kernelspec": {
   "display_name": "Python 3",
   "language": "python",
   "name": "python3"
  },
  "language_info": {
   "codemirror_mode": {
    "name": "ipython",
    "version": 3
   },
   "file_extension": ".py",
   "mimetype": "text/x-python",
   "name": "python",
   "nbconvert_exporter": "python",
   "pygments_lexer": "ipython3",
   "version": "3.6.7"
  }
 },
 "nbformat": 4,
 "nbformat_minor": 1
}
