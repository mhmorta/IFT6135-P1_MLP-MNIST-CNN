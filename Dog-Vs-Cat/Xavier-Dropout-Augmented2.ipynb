{
 "cells": [
  {
   "cell_type": "code",
   "execution_count": 1,
   "metadata": {},
   "outputs": [],
   "source": [
    "import torch\n",
    "import torch.nn as nn\n",
    "import torch.optim as optim\n",
    "import torch.nn.init as init\n",
    "import torch.nn.functional as F\n",
    "import torchvision\n",
    "import torchvision.transforms\n",
    "import matplotlib.pyplot as plt\n",
    "import numpy as np\n",
    "import glob\n",
    "import pandas as pd\n",
    "from torch.utils.data import DataLoader\n",
    "from torchsummary import summary\n",
    "from IPython.core.debugger import set_trace\n",
    "\n",
    "from Tools import Trainer"
   ]
  },
  {
   "cell_type": "markdown",
   "metadata": {},
   "source": [
    "## Loading datasets"
   ]
  },
  {
   "cell_type": "code",
   "execution_count": 2,
   "metadata": {},
   "outputs": [],
   "source": [
    "from Tools.Dataloader import datasets_loader\n",
    "\n",
    "normalize = torchvision.transforms.Normalize((0.4895832, 0.4546405, 0.41594946), \n",
    "                                (0.2520022, 0.24522494, 0.24728711))\n",
    "train_val_transforms = torchvision.transforms.Compose([\n",
    "                            torchvision.transforms.RandomCrop(64),\n",
    "                            torchvision.transforms.RandomHorizontalFlip(),\n",
    "                            torchvision.transforms.ToTensor(),\n",
    "                            normalize])\n",
    "\n",
    "norm_transforms = torchvision.transforms.Compose([torchvision.transforms.ToTensor(),\n",
    "                                                normalize])       \n",
    "                                                  \n",
    "test_transforms = torchvision.transforms.Compose([\n",
    "    torchvision.transforms.FiveCrop(64), # this is a list of PIL Images\n",
    "    torchvision.transforms.Lambda(lambda crops: torch.stack([norm_transforms(crop) for crop in crops])), # returns a 4D tensor\n",
    "])\n",
    "                                                  \n",
    "train_loader, valid_loader, test_loader = datasets_loader(train_val_transforms, test_transforms)"
   ]
  },
  {
   "cell_type": "code",
   "execution_count": 3,
   "metadata": {},
   "outputs": [
    {
     "name": "stdout",
     "output_type": "stream",
     "text": [
      "Dataset ImageFolder\n",
      "    Number of datapoints: 19998\n",
      "    Root Location: ./data/trainset/\n",
      "    Transforms (if any): Compose(\n",
      "                             RandomCrop(size=(64, 64), padding=0)\n",
      "                             RandomHorizontalFlip(p=0.5)\n",
      "                             ToTensor()\n",
      "                             Normalize(mean=(0.4895832, 0.4546405, 0.41594946), std=(0.2520022, 0.24522494, 0.24728711))\n",
      "                         )\n",
      "    Target Transforms (if any): None\n",
      "<Tools.Dataloader.DriveData object at 0x7f317a985550>\n"
     ]
    }
   ],
   "source": [
    "print(train_loader.dataset.dataset)\n",
    "print(test_loader.dataset)"
   ]
  },
  {
   "cell_type": "markdown",
   "metadata": {},
   "source": [
    "## Hyper-parameters"
   ]
  },
  {
   "cell_type": "code",
   "execution_count": 4,
   "metadata": {},
   "outputs": [],
   "source": [
    "hyperparams = {'num_epochs': 30,\n",
    "               'lr0' :0.1, \n",
    "               'dropout':0.2,\n",
    "               'gamma': 1,\n",
    "               'adjust_lr': False,\n",
    "               'save_checkpoint': True      \n",
    "                  }\n",
    "cuda_available = torch.cuda.is_available()"
   ]
  },
  {
   "cell_type": "markdown",
   "metadata": {},
   "source": [
    "## Creating the model"
   ]
  },
  {
   "cell_type": "code",
   "execution_count": 5,
   "metadata": {},
   "outputs": [],
   "source": [
    "from Classifier.XavierCNN import XavierDropout\n",
    "\n",
    "model = XavierDropout(hyperparams)\n",
    "if cuda_available:\n",
    "    model = model.cuda()\n",
    "\n",
    "optimizer = torch.optim.SGD(model.parameters(), lr=hyperparams['lr0'])\n",
    "criterion = nn.CrossEntropyLoss()"
   ]
  },
  {
   "cell_type": "code",
   "execution_count": 6,
   "metadata": {},
   "outputs": [
    {
     "name": "stdout",
     "output_type": "stream",
     "text": [
      "----------------------------------------------------------------\n",
      "        Layer (type)               Output Shape         Param #\n",
      "================================================================\n",
      "            Conv2d-1           [-1, 16, 64, 64]             448\n",
      "              ReLU-2           [-1, 16, 64, 64]               0\n",
      "   GaussianDropout-3           [-1, 16, 64, 64]               0\n",
      "            Conv2d-4           [-1, 32, 64, 64]           4,640\n",
      "              ReLU-5           [-1, 32, 64, 64]               0\n",
      "         MaxPool2d-6           [-1, 32, 32, 32]               0\n",
      "   GaussianDropout-7           [-1, 32, 32, 32]               0\n",
      "            Conv2d-8           [-1, 64, 32, 32]          18,496\n",
      "              ReLU-9           [-1, 64, 32, 32]               0\n",
      "  GaussianDropout-10           [-1, 64, 32, 32]               0\n",
      "           Conv2d-11          [-1, 128, 32, 32]          73,856\n",
      "             ReLU-12          [-1, 128, 32, 32]               0\n",
      "  GaussianDropout-13          [-1, 128, 32, 32]               0\n",
      "        MaxPool2d-14          [-1, 128, 16, 16]               0\n",
      "           Conv2d-15          [-1, 128, 16, 16]         147,584\n",
      "             ReLU-16          [-1, 128, 16, 16]               0\n",
      "  GaussianDropout-17          [-1, 128, 16, 16]               0\n",
      "        MaxPool2d-18            [-1, 128, 8, 8]               0\n",
      "           Conv2d-19            [-1, 256, 8, 8]         295,168\n",
      "             ReLU-20            [-1, 256, 8, 8]               0\n",
      "        MaxPool2d-21            [-1, 256, 4, 4]               0\n",
      "  GaussianDropout-22            [-1, 256, 4, 4]               0\n",
      "           Conv2d-23            [-1, 256, 4, 4]         590,080\n",
      "             ReLU-24            [-1, 256, 4, 4]               0\n",
      "  GaussianDropout-25            [-1, 256, 4, 4]               0\n",
      "        MaxPool2d-26            [-1, 256, 2, 2]               0\n",
      "           Conv2d-27            [-1, 512, 2, 2]       1,180,160\n",
      "             ReLU-28            [-1, 512, 2, 2]               0\n",
      "  GaussianDropout-29            [-1, 512, 2, 2]               0\n",
      "        MaxPool2d-30            [-1, 512, 1, 1]               0\n",
      "           Conv2d-31            [-1, 512, 1, 1]       2,359,808\n",
      "             ReLU-32            [-1, 512, 1, 1]               0\n",
      "        MaxPool2d-33            [-1, 512, 1, 1]               0\n",
      "           Linear-34                    [-1, 2]           1,026\n",
      "================================================================\n",
      "Total params: 4,671,266\n",
      "Trainable params: 4,671,266\n",
      "Non-trainable params: 0\n",
      "----------------------------------------------------------------\n",
      "Input size (MB): 0.05\n",
      "Forward/backward pass size (MB): 10.04\n",
      "Params size (MB): 17.82\n",
      "Estimated Total Size (MB): 27.91\n",
      "----------------------------------------------------------------\n"
     ]
    }
   ],
   "source": [
    "summary(model, (3, 64, 64))"
   ]
  },
  {
   "cell_type": "markdown",
   "metadata": {},
   "source": [
    "## Training "
   ]
  },
  {
   "cell_type": "code",
   "execution_count": 7,
   "metadata": {},
   "outputs": [
    {
     "name": "stdout",
     "output_type": "stream",
     "text": [
      "------ Epoch # 1 ------\n",
      " Iteration 40: TRAIN 0.6929\n",
      " Iteration 80: TRAIN 0.6910\n",
      " Iteration 120: TRAIN 0.6896\n",
      "------ Epoch # 2 ------\n",
      " Iteration 160: TRAIN 0.6828\n",
      " Iteration 200: TRAIN 0.6801\n",
      " [Loss] TRAIN 0.6729 / VALID 0.6752\n",
      " [ACC] TRAIN 0.5870 / VALID 0.5756\n",
      "new checkpoint is saved!\n",
      " Iteration 240: TRAIN 0.6780\n",
      " Iteration 280: TRAIN 0.6750\n",
      "------ Epoch # 3 ------\n",
      " Iteration 320: TRAIN 0.6627\n",
      " Iteration 360: TRAIN 0.6644\n",
      " Iteration 400: TRAIN 0.6557\n",
      " [Loss] TRAIN 0.6424 / VALID 0.6547\n",
      " [ACC] TRAIN 0.6222 / VALID 0.5966\n",
      "new checkpoint is saved!\n",
      " Iteration 440: TRAIN 0.6494\n",
      "------ Epoch # 4 ------\n",
      " Iteration 480: TRAIN 0.6358\n",
      " Iteration 520: TRAIN 0.6281\n",
      " Iteration 560: TRAIN 0.6177\n",
      "------ Epoch # 5 ------\n",
      " Iteration 600: TRAIN 0.6127\n",
      " [Loss] TRAIN 0.5958 / VALID 0.6088\n",
      " [ACC] TRAIN 0.6982 / VALID 0.6827\n",
      "new checkpoint is saved!\n",
      " Iteration 640: TRAIN 0.6059\n",
      " Iteration 680: TRAIN 0.6011\n",
      " Iteration 720: TRAIN 0.5872\n",
      "------ Epoch # 6 ------\n",
      " Iteration 760: TRAIN 0.5758\n",
      " Iteration 800: TRAIN 0.5721\n",
      " [Loss] TRAIN 0.5617 / VALID 0.5786\n",
      " [ACC] TRAIN 0.7175 / VALID 0.6907\n",
      "new checkpoint is saved!\n",
      " Iteration 840: TRAIN 0.5707\n",
      " Iteration 880: TRAIN 0.5599\n",
      "------ Epoch # 7 ------\n",
      " Iteration 920: TRAIN 0.5426\n",
      " Iteration 960: TRAIN 0.5365\n",
      " Iteration 1000: TRAIN 0.5332\n",
      " [Loss] TRAIN 0.5374 / VALID 0.5572\n",
      " [ACC] TRAIN 0.7407 / VALID 0.7247\n",
      "new checkpoint is saved!\n",
      " Iteration 1040: TRAIN 0.5412\n",
      "------ Epoch # 8 ------\n",
      " Iteration 1080: TRAIN 0.5247\n",
      " Iteration 1120: TRAIN 0.5158\n",
      " Iteration 1160: TRAIN 0.5113\n",
      "------ Epoch # 9 ------\n",
      " Iteration 1200: TRAIN 0.5222\n",
      " [Loss] TRAIN 0.4826 / VALID 0.5095\n",
      " [ACC] TRAIN 0.7708 / VALID 0.7317\n",
      "new checkpoint is saved!\n",
      " Iteration 1240: TRAIN 0.5035\n",
      " Iteration 1280: TRAIN 0.4918\n",
      " Iteration 1320: TRAIN 0.4768\n",
      "------ Epoch # 10 ------\n",
      " Iteration 1360: TRAIN 0.4731\n",
      " Iteration 1400: TRAIN 0.4567\n",
      " [Loss] TRAIN 0.4611 / VALID 0.4974\n",
      " [ACC] TRAIN 0.7823 / VALID 0.7698\n",
      "new checkpoint is saved!\n",
      " Iteration 1440: TRAIN 0.4753\n",
      " Iteration 1480: TRAIN 0.4609\n",
      "------ Epoch # 11 ------\n",
      " Iteration 1520: TRAIN 0.4639\n",
      " Iteration 1560: TRAIN 0.4545\n",
      " Iteration 1600: TRAIN 0.4511\n",
      " [Loss] TRAIN 0.4385 / VALID 0.4647\n",
      " [ACC] TRAIN 0.7870 / VALID 0.7718\n",
      "new checkpoint is saved!\n",
      "------ Epoch # 12 ------\n",
      " Iteration 1640: TRAIN 0.4420\n",
      " Iteration 1680: TRAIN 0.4181\n",
      " Iteration 1720: TRAIN 0.4343\n",
      " Iteration 1760: TRAIN 0.4304\n",
      "------ Epoch # 13 ------\n",
      " Iteration 1800: TRAIN 0.4479\n",
      " [Loss] TRAIN 0.3936 / VALID 0.4297\n",
      " [ACC] TRAIN 0.8231 / VALID 0.7878\n",
      "new checkpoint is saved!\n",
      " Iteration 1840: TRAIN 0.4138\n",
      " Iteration 1880: TRAIN 0.4064\n",
      " Iteration 1920: TRAIN 0.4079\n",
      "------ Epoch # 14 ------\n",
      " Iteration 1960: TRAIN 0.4022\n",
      " Iteration 2000: TRAIN 0.3792\n",
      " [Loss] TRAIN 0.3967 / VALID 0.4556\n",
      " [ACC] TRAIN 0.8179 / VALID 0.7998\n",
      "new checkpoint is saved!\n",
      " Iteration 2040: TRAIN 0.3853\n",
      " Iteration 2080: TRAIN 0.3818\n",
      "------ Epoch # 15 ------\n",
      " Iteration 2120: TRAIN 0.3749\n",
      " Iteration 2160: TRAIN 0.3804\n",
      " Iteration 2200: TRAIN 0.3615\n",
      " [Loss] TRAIN 0.3208 / VALID 0.3656\n",
      " [ACC] TRAIN 0.8619 / VALID 0.8478\n",
      "new checkpoint is saved!\n",
      "------ Epoch # 16 ------\n",
      " Iteration 2240: TRAIN 0.3589\n",
      " Iteration 2280: TRAIN 0.3462\n",
      " Iteration 2320: TRAIN 0.3529\n",
      " Iteration 2360: TRAIN 0.3945\n",
      "------ Epoch # 17 ------\n",
      " Iteration 2400: TRAIN 0.3523\n",
      " [Loss] TRAIN 0.3077 / VALID 0.3721\n",
      " [ACC] TRAIN 0.8673 / VALID 0.8348\n",
      "new checkpoint is saved!\n",
      " Iteration 2440: TRAIN 0.3376\n",
      " Iteration 2480: TRAIN 0.3367\n",
      " Iteration 2520: TRAIN 0.3287\n",
      "------ Epoch # 18 ------\n",
      " Iteration 2560: TRAIN 0.3183\n",
      " Iteration 2600: TRAIN 0.3103\n",
      " [Loss] TRAIN 0.2845 / VALID 0.3449\n",
      " [ACC] TRAIN 0.8812 / VALID 0.8448\n",
      "new checkpoint is saved!\n",
      " Iteration 2640: TRAIN 0.3171\n",
      " Iteration 2680: TRAIN 0.3117\n",
      "------ Epoch # 19 ------\n",
      " Iteration 2720: TRAIN 0.2960\n",
      " Iteration 2760: TRAIN 0.2887\n",
      " Iteration 2800: TRAIN 0.3003\n",
      " [Loss] TRAIN 0.2659 / VALID 0.3594\n",
      " [ACC] TRAIN 0.8895 / VALID 0.8368\n",
      "new checkpoint is saved!\n",
      "------ Epoch # 20 ------\n",
      " Iteration 2840: TRAIN 0.2920\n",
      " Iteration 2880: TRAIN 0.2870\n",
      " Iteration 2920: TRAIN 0.2701\n",
      " Iteration 2960: TRAIN 0.2860\n",
      "------ Epoch # 21 ------\n",
      " Iteration 3000: TRAIN 0.2777\n",
      " [Loss] TRAIN 0.3085 / VALID 0.3891\n",
      " [ACC] TRAIN 0.8657 / VALID 0.8258\n",
      "new checkpoint is saved!\n",
      " Iteration 3040: TRAIN 0.2699\n",
      " Iteration 3080: TRAIN 0.2664\n",
      " Iteration 3120: TRAIN 0.2625\n",
      "------ Epoch # 22 ------\n",
      " Iteration 3160: TRAIN 0.2417\n",
      " Iteration 3200: TRAIN 0.2512\n",
      " [Loss] TRAIN 0.2565 / VALID 0.3589\n",
      " [ACC] TRAIN 0.8929 / VALID 0.8428\n",
      "new checkpoint is saved!\n",
      " Iteration 3240: TRAIN 0.2501\n",
      "------ Epoch # 23 ------\n",
      " Iteration 3280: TRAIN 0.2430\n",
      " Iteration 3320: TRAIN 0.2392\n",
      " Iteration 3360: TRAIN 0.2666\n",
      " Iteration 3400: TRAIN 0.2306\n",
      " [Loss] TRAIN 0.2234 / VALID 0.3622\n",
      " [ACC] TRAIN 0.9050 / VALID 0.8438\n",
      "new checkpoint is saved!\n",
      "------ Epoch # 24 ------\n",
      " Iteration 3440: TRAIN 0.2317\n",
      " Iteration 3480: TRAIN 0.2251\n",
      " Iteration 3520: TRAIN 0.2210\n",
      " Iteration 3560: TRAIN 0.2156\n",
      "------ Epoch # 25 ------\n",
      " Iteration 3600: TRAIN 0.2393\n",
      " [Loss] TRAIN 0.1988 / VALID 0.3682\n",
      " [ACC] TRAIN 0.9196 / VALID 0.8579\n",
      "new checkpoint is saved!\n",
      " Iteration 3640: TRAIN 0.2159\n",
      " Iteration 3680: TRAIN 0.2027\n",
      " Iteration 3720: TRAIN 0.2246\n",
      "------ Epoch # 26 ------\n",
      " Iteration 3760: TRAIN 0.1949\n",
      " Iteration 3800: TRAIN 0.1984\n",
      " [Loss] TRAIN 0.2092 / VALID 0.4117\n",
      " [ACC] TRAIN 0.9122 / VALID 0.8438\n",
      "new checkpoint is saved!\n",
      " Iteration 3840: TRAIN 0.1998\n",
      "------ Epoch # 27 ------\n",
      " Iteration 3880: TRAIN 0.2071\n",
      " Iteration 3920: TRAIN 0.1817\n",
      " Iteration 3960: TRAIN 0.2058\n",
      " Iteration 4000: TRAIN 0.1908\n",
      " [Loss] TRAIN 0.1805 / VALID 0.3624\n",
      " [ACC] TRAIN 0.9276 / VALID 0.8539\n",
      "new checkpoint is saved!\n",
      "------ Epoch # 28 ------\n",
      " Iteration 4040: TRAIN 0.1793\n",
      " Iteration 4080: TRAIN 0.1722\n",
      " Iteration 4120: TRAIN 0.1695\n",
      " Iteration 4160: TRAIN 0.1792\n",
      "------ Epoch # 29 ------\n",
      " Iteration 4200: TRAIN 0.1635\n",
      " [Loss] TRAIN 0.1926 / VALID 0.4623\n",
      " [ACC] TRAIN 0.9235 / VALID 0.8438\n",
      "new checkpoint is saved!\n",
      " Iteration 4240: TRAIN 0.1988\n",
      " Iteration 4280: TRAIN 0.1708\n",
      " Iteration 4320: TRAIN 0.1563\n",
      "------ Epoch # 30 ------\n",
      " Iteration 4360: TRAIN 0.1544\n",
      " Iteration 4400: TRAIN 0.1558\n",
      " [Loss] TRAIN 0.1235 / VALID 0.3565\n",
      " [ACC] TRAIN 0.9524 / VALID 0.8769\n",
      "new checkpoint is saved!\n",
      " Iteration 4440: TRAIN 0.1651\n",
      "Done...\n"
     ]
    }
   ],
   "source": [
    "from Tools.Trainer import Trainer\n",
    "\n",
    "trainer = Trainer(model, optimizer, criterion, train_loader, valid_loader, test_loader, hyperparams)\n",
    "nll_train, nll_valid, acc_train, acc_valid =  trainer.train_model()\n",
    "print('Done...')"
   ]
  },
  {
   "cell_type": "markdown",
   "metadata": {},
   "source": [
    "## Visualization"
   ]
  },
  {
   "cell_type": "markdown",
   "metadata": {},
   "source": [
    "### accuracy and loss plots"
   ]
  },
  {
   "cell_type": "code",
   "execution_count": 8,
   "metadata": {},
   "outputs": [
    {
     "data": {
      "image/png": "[encoded data removed]",
      "text/plain": [
       "<Figure size 432x288 with 1 Axes>"
      ]
     },
     "metadata": {
      "needs_background": "light"
     },
     "output_type": "display_data"
    },
    {
     "data": {
      "image/png": "[encoded data removed]",
      "text/plain": [
       "<Figure size 432x288 with 1 Axes>"
      ]
     },
     "metadata": {
      "needs_background": "light"
     },
     "output_type": "display_data"
    }
   ],
   "source": [
    "import Tools.Visualization as V\n",
    "V.plots(nll_train, nll_valid, acc_train, acc_valid)"
   ]
  },
  {
   "cell_type": "markdown",
   "metadata": {},
   "source": [
    "### Confusion Matrix"
   ]
  },
  {
   "cell_type": "code",
   "execution_count": 9,
   "metadata": {},
   "outputs": [
    {
     "data": {
      "image/png": "[encoded data removed]",
      "text/plain": [
       "<Figure size 432x288 with 2 Axes>"
      ]
     },
     "metadata": {
      "needs_background": "light"
     },
     "output_type": "display_data"
    }
   ],
   "source": [
    "import Tools.Visualization as V\n",
    "cnf_matrix = trainer.confusion_matrix()\n",
    "V.plot_confusion_matrix(cnf_matrix)"
   ]
  },
  {
   "cell_type": "markdown",
   "metadata": {},
   "source": [
    "## Saving the model"
   ]
  },
  {
   "cell_type": "code",
   "execution_count": 57,
   "metadata": {},
   "outputs": [],
   "source": [
    "torch.save(model, \"./Experiments/Xavier-Dropout-augmented-89.5\")"
   ]
  },
  {
   "cell_type": "markdown",
   "metadata": {},
   "source": [
    "## Generate Submission"
   ]
  },
  {
   "cell_type": "code",
   "execution_count": 11,
   "metadata": {},
   "outputs": [
    {
     "name": "stdout",
     "output_type": "stream",
     "text": [
      "Done...\n"
     ]
    }
   ],
   "source": [
    "# import Tools.Trainer as T\n",
    "# results = T.predict_test_set_5crop(model, test_loader)\n",
    "# print(results.size())\n",
    "# T.generate_submission(results)"
   ]
  },
  {
   "cell_type": "code",
   "execution_count": 53,
   "metadata": {},
   "outputs": [],
   "source": [
    "def predict_test_set_5crop(model, test_loader):\n",
    "    results = [[]]\n",
    "    for batch_idx, (inputs, targets) in enumerate(test_loader):\n",
    "        if cuda_available:\n",
    "            inputs, targets = inputs.cuda(), targets.cuda()\n",
    "        bs, ncrops, c, h, w = inputs.size()\n",
    "        result = model(inputs.view(-1, c, h, w)) # fuse batch size and ncrops\n",
    "        result_avg = result.view(bs, ncrops, -1).mean(1) # avg over crops\n",
    "        _, result_avg = torch.max(result_avg, 1)\n",
    "        results = np.append(results, result_avg.cpu().detach().numpy())\n",
    "    results = np.int8(results)\n",
    "    return results"
   ]
  },
  {
   "cell_type": "code",
   "execution_count": 54,
   "metadata": {},
   "outputs": [
    {
     "name": "stdout",
     "output_type": "stream",
     "text": [
      "(4999,)\n"
     ]
    }
   ],
   "source": [
    "results = predict_test_set_5crop(model, test_loader)\n",
    "print(results.shape)"
   ]
  },
  {
   "cell_type": "code",
   "execution_count": 56,
   "metadata": {},
   "outputs": [
    {
     "name": "stdout",
     "output_type": "stream",
     "text": [
      "Done...\n"
     ]
    }
   ],
   "source": [
    "T.generate_submission(results)"
   ]
  },
  {
   "cell_type": "code",
   "execution_count": null,
   "metadata": {},
   "outputs": [],
   "source": []
  }
 ],
 "metadata": {
  "kernelspec": {
   "display_name": "Python 3",
   "language": "python",
   "name": "python3"
  },
  "language_info": {
   "codemirror_mode": {
    "name": "ipython",
    "version": 3
   },
   "file_extension": ".py",
   "mimetype": "text/x-python",
   "name": "python",
   "nbconvert_exporter": "python",
   "pygments_lexer": "ipython3",
   "version": "3.7.1"
  }
 },
 "nbformat": 4,
 "nbformat_minor": 2
}
