{
 "cells": [
  {
   "cell_type": "code",
   "execution_count": 22,
   "metadata": {},
   "outputs": [],
   "source": [
    "import torch\n",
    "import torch.nn as nn\n",
    "import torch.optim as optim\n",
    "import torch.nn.init as init\n",
    "import torch.nn.functional as F\n",
    "import torchvision\n",
    "import torchvision.transforms\n",
    "import matplotlib.pyplot as plt\n",
    "import numpy as np\n",
    "import glob\n",
    "import pandas as pd\n",
    "from torch.utils.data import DataLoader\n",
    "from torchsummary import summary\n",
    "from torch.autograd import Variable\n",
    "from IPython.core.debugger import set_trace"
   ]
  },
  {
   "cell_type": "code",
   "execution_count": 2,
   "metadata": {},
   "outputs": [],
   "source": [
    "torch.manual_seed(0);"
   ]
  },
  {
   "cell_type": "markdown",
   "metadata": {},
   "source": [
    "## Loading dataset"
   ]
  },
  {
   "cell_type": "code",
   "execution_count": 24,
   "metadata": {},
   "outputs": [
    {
     "name": "stdout",
     "output_type": "stream",
     "text": [
      "Dataset ImageFolder\n",
      "    Number of datapoints: 19998\n",
      "    Root Location: ./data/trainset/\n",
      "    Transforms (if any): Compose(\n",
      "                             ToTensor()\n",
      "                         )\n",
      "    Target Transforms (if any): None\n",
      "<torch.utils.data.dataset.Subset object at 0x7f96bc29b9e8>\n"
     ]
    }
   ],
   "source": [
    "transforms = torchvision.transforms.Compose([torchvision.transforms.ToTensor()])\n",
    "\n",
    "data = torchvision.datasets.ImageFolder(\n",
    "                    root='./data/trainset/',\n",
    "                    transform=transforms\n",
    "                    )\n",
    "\n",
    "test_data = torchvision.datasets.ImageFolder(\n",
    "                    root= './data/test/', \n",
    "                    transform=transforms)\n",
    "\n",
    "dataset_ratio = np.array([95, 5])/100\n",
    "\n",
    "sizes = [int(x*len(data)) for x in dataset_ratio]\n",
    "sizes[0] += len(data) - sum(sizes)\n",
    "\n",
    "train_dataset, valid_dataset = torch.utils.data.random_split(dataset=data, lengths=sizes)\n",
    "\n",
    "train_loader = torch.utils.data.DataLoader(\n",
    "                    train_dataset,\n",
    "                    batch_size=64,\n",
    "                    num_workers=2,\n",
    "                    shuffle=True\n",
    "                    )\n",
    "\n",
    "valid_loader = torch.utils.data.DataLoader(\n",
    "                    valid_dataset,\n",
    "                    batch_size=64,\n",
    "                    num_workers=2,\n",
    "                    shuffle=True\n",
    "                    )\n",
    "\n",
    "test_loader = torch.utils.data.DataLoader(\n",
    "                    test_data,\n",
    "                    batch_size=64,\n",
    "                    num_workers=2,\n",
    "                    shuffle=False\n",
    "                    )\n",
    "print(data)\n",
    "print(valid_dataset)"
   ]
  },
  {
   "cell_type": "code",
   "execution_count": null,
   "metadata": {},
   "outputs": [],
   "source": [
    "## get the mean and variance of our dataset for normalization\n",
    "\n",
    "train = trainloader.__iter__().next()[0]\n",
    "print (len(trainloader.dataset))\n",
    "print('Mean: {}'.format(np.mean(train.numpy(), axis=(0, 2, 3))))\n",
    "print('STD: {}'.format(np.std(train.numpy(), axis=(0, 2, 3))))"
   ]
  },
  {
   "cell_type": "code",
   "execution_count": 19,
   "metadata": {},
   "outputs": [
    {
     "name": "stdout",
     "output_type": "stream",
     "text": [
      "True\n"
     ]
    }
   ],
   "source": [
    "cuda_available = torch.cuda.is_available()\n",
    "print(cuda_available)"
   ]
  },
  {
   "cell_type": "markdown",
   "metadata": {},
   "source": [
    "## Hyper-parameters of the model"
   ]
  },
  {
   "cell_type": "code",
   "execution_count": 34,
   "metadata": {},
   "outputs": [],
   "source": [
    "# learning_rate = 1e-3\n",
    "lr0 = 0.1\n",
    "optim = 'sgd'\n",
    "num_epochs = 100\n",
    "store_every = 200\n"
   ]
  },
  {
   "cell_type": "code",
   "execution_count": 24,
   "metadata": {},
   "outputs": [],
   "source": [
    "def dropout(p=None, dim=None, method='standard'):\n",
    "    if method == 'standard':\n",
    "        return nn.Dropout(p)\n",
    "    elif method == 'gaussian':\n",
    "        return GaussianDropout(p/(1-p))\n",
    "    elif method == 'variational':\n",
    "        return VariationalDropout(p/(1-p), dim)"
   ]
  },
  {
   "cell_type": "code",
   "execution_count": 25,
   "metadata": {},
   "outputs": [],
   "source": [
    "class GaussianDropout(nn.Module):\n",
    "    def __init__(self, alpha=1.0):\n",
    "        super(GaussianDropout, self).__init__()\n",
    "        self.alpha = torch.Tensor([alpha])\n",
    "        \n",
    "    def forward(self, x):\n",
    "        \"\"\"\n",
    "        Sample noise   e ~ N(1, alpha)\n",
    "        Multiply noise h = h_ * e\n",
    "        \"\"\"\n",
    "        if self.train():\n",
    "            # N(1, alpha)\n",
    "            epsilon = torch.randn(x.size()) * self.alpha + 1\n",
    "\n",
    "            epsilon = Variable(epsilon)\n",
    "            if x.is_cuda:\n",
    "                epsilon = epsilon.cuda()\n",
    "\n",
    "            return x * epsilon\n",
    "        else:\n",
    "            return x"
   ]
  },
  {
   "cell_type": "markdown",
   "metadata": {},
   "source": [
    "## Defining a residual convolution block to be used in the models"
   ]
  },
  {
   "cell_type": "code",
   "execution_count": 27,
   "metadata": {},
   "outputs": [],
   "source": [
    "class ResidualConv(nn.Module):\n",
    "    def __init__(self, in_channels, out_channels, kernel_size=(3, 3), padding=1, activation = nn.ReLU):\n",
    "        super(ResidualConv, self).__init__()\n",
    "        self.in_channels = in_channels\n",
    "        self.out_channels = out_channels\n",
    "        self.activation = activation\n",
    "        \n",
    "        self.conv1 = nn.Conv2d(in_channels, out_channels, kernel_size=kernel_size)\n",
    "        self.relu1 = nn.ReLU(in_channels)\n",
    "        \n",
    "        self.conv2 = nn.Conv2d(out_channels, out_channels, kernel_size=kernel_size)\n",
    "        self.relu2 = nn.ReLU(in_channels)\n",
    "        \n",
    "        if in_channels != out_channels:\n",
    "#             self.projected_conv = self.conv1x1(in_channels, out_channels)\n",
    "            self.project_linear = nn.Linear(in_channels, out_channels)\n",
    "    def forward(x):\n",
    "        identity = x\n",
    "\n",
    "        out = self.conv1(x)\n",
    "        out = self.relu1(out)\n",
    "\n",
    "        out = self.conv2(out)\n",
    "        if self.in_channels == self.out_channels:\n",
    "            out += identity\n",
    "        else:\n",
    "            out += self.project_linear(identity)\n",
    "        out = self.relu2(out)\n",
    "        \n",
    "    def conv1x1(in_channels, out_channels, stride=1):\n",
    "        \"\"\"1x1 convolution\"\"\"\n",
    "        print()\n",
    "        return nn.Conv2d(in_channels, out_channels, kernel_size=1, stride=stride, bias=False)"
   ]
  },
  {
   "cell_type": "code",
   "execution_count": 28,
   "metadata": {},
   "outputs": [],
   "source": [
    "class ResidualClassifier(nn.Module):\n",
    "    def __init__(self):\n",
    "        super(ResidualClassifier, self).__init__()\n",
    "        self.conv = nn.Sequential(\n",
    "            # Layer 1\n",
    "            ResidualConv(in_channels=3, out_channels=16, kernel_size=(3, 3), padding=1),\n",
    "            nn.ReLU(),\n",
    "            nn.MaxPool2d(kernel_size=(2, 2), stride=2),\n",
    "            \n",
    "            # Layer 2\n",
    "            ResidualConv(in_channels=16, out_channels=32, kernel_size=(3, 3), padding=1),\n",
    "            nn.ReLU(),\n",
    "            nn.MaxPool2d(kernel_size=(2, 2), stride=2),\n",
    "            \n",
    "            # Layer 3\n",
    "            ResidualConv(in_channels=32, out_channels=64, kernel_size=(3, 3), padding=1),\n",
    "            nn.ReLU(),\n",
    "            nn.MaxPool2d(kernel_size=(2, 2), stride=2),\n",
    "            )\n",
    "        # Logistic Regression\n",
    "        self.clf = nn.Linear(64, 2)\n",
    "        self.soft = nn.Softmax(dim=1)\n",
    "\n",
    "        def forward(x):\n",
    "            return self.soft(self.clf(self.conv(x).squeeze()))"
   ]
  },
  {
   "cell_type": "markdown",
   "metadata": {},
   "source": [
    "## Vanila CNN"
   ]
  },
  {
   "cell_type": "code",
   "execution_count": 6,
   "metadata": {},
   "outputs": [],
   "source": [
    "class VanilaCNN(nn.Module):\n",
    "    \"\"\"Convnet Classifier\"\"\"\n",
    "    def __init__(self):\n",
    "        super(VanilaCNN, self).__init__()\n",
    "        self.conv = nn.Sequential(\n",
    "            # Layer 1\n",
    "            nn.Conv2d(in_channels=3, out_channels=16, kernel_size=(3, 3), padding=1),\n",
    "            nn.ReLU(),\n",
    "            nn.MaxPool2d(kernel_size=(2, 2), stride=2),\n",
    "            \n",
    "            # Layer 2\n",
    "            nn.Conv2d(in_channels=16, out_channels=32, kernel_size=(3, 3), padding=1),\n",
    "            nn.ReLU(),\n",
    "            nn.MaxPool2d(kernel_size=(2, 2), stride=2),\n",
    "            \n",
    "            # Layer 3\n",
    "            nn.Conv2d(in_channels=32, out_channels=64, kernel_size=(3, 3), padding=1),\n",
    "            nn.ReLU(),\n",
    "            nn.MaxPool2d(kernel_size=(2, 2), stride=2),\n",
    "            \n",
    "            # Layer 4\n",
    "            nn.Conv2d(in_channels=64, out_channels=128, kernel_size=(3, 3), padding=1),\n",
    "            nn.ReLU(),\n",
    "            nn.MaxPool2d(kernel_size=(2, 2), stride=2),\n",
    "            \n",
    "            # Layer 5\n",
    "            nn.Conv2d(in_channels=128, out_channels=128, kernel_size=(3, 3), padding=1),\n",
    "            nn.ReLU(),\n",
    "            nn.MaxPool2d(kernel_size=(2, 2), stride=2),\n",
    "            \n",
    "            # Layer 6\n",
    "            nn.Conv2d(in_channels=128, out_channels=256, kernel_size=(3, 3), padding=1),\n",
    "            nn.ReLU(),\n",
    "            nn.MaxPool2d(kernel_size=(2, 2), stride=2)\n",
    "        )\n",
    "        # Logistic Regression\n",
    "        self.clf = nn.Linear(256, 2)\n",
    "        self.soft = nn.Softmax(dim=1)\n",
    "\n",
    "    def forward(self, x):\n",
    "        return self.soft(self.clf(self.conv(x).squeeze()))"
   ]
  },
  {
   "cell_type": "markdown",
   "metadata": {},
   "source": [
    "## Classifier with weight inialization"
   ]
  },
  {
   "cell_type": "code",
   "execution_count": 35,
   "metadata": {},
   "outputs": [],
   "source": [
    "class XavierClassifier(nn.Module):\n",
    "    def __init__(self):\n",
    "        super(XavierClassifier, self).__init__()\n",
    "        self.conv = nn.Sequential(\n",
    "            # Layer 1\n",
    "            nn.Conv2d(in_channels=3, out_channels=16,kernel_size=(3,3) , padding=1),\n",
    "            nn.ReLU(),\n",
    "            dropout(0.5, 16,'gaussian'),\n",
    "            # Layer 2\n",
    "            nn.Conv2d(in_channels=16, out_channels=32,kernel_size=(3,3) , padding=1),\n",
    "            nn.ReLU(),\n",
    "            nn.MaxPool2d(kernel_size=(2,2), stride=2),\n",
    "            # Layer 3\n",
    "            nn.Conv2d(in_channels=32, out_channels=64,kernel_size=(3,3) , padding=1),\n",
    "            nn.ReLU(),\n",
    "            # Layer 4\n",
    "            nn.Conv2d(in_channels=64, out_channels=128,kernel_size=(3,3) , padding=1),\n",
    "            nn.ReLU(),\n",
    "            nn.MaxPool2d(kernel_size=(2,2), stride=2),\n",
    "            # Layer 5\n",
    "            nn.Conv2d(in_channels=128, out_channels=128,kernel_size=(3,3) , padding=1),\n",
    "            nn.ReLU(),\n",
    "            nn.MaxPool2d(kernel_size=(2,2), stride=2),\n",
    "            # Layer 6\n",
    "            nn.Conv2d(in_channels=128, out_channels=256,kernel_size=(3,3) , padding=1),\n",
    "            nn.ReLU(),\n",
    "            nn.MaxPool2d(kernel_size=(2,2), stride=2),\n",
    "             # Layer 7\n",
    "            nn.Conv2d(in_channels=256, out_channels=256,kernel_size=(3,3) , padding=1),\n",
    "my_classifier = 'XavierClassifier'\n",
    "\n",
    "if my_classifier=='ResidualClassifier':\n",
    "    model = ResidualClassifier()\n",
    "elif my_classifier=='VanilaCNN':\n",
    "    model = VanilaCNN() \n",
    "elif my_classifier=='XavierClassifier':\n",
    "    model = XavierClassifier() \n",
    "    \n",
    "learning_rate = 0.1\n",
    "\n",
    "if cuda_available:\n",
    "    model = model.cuda()\n",
    "if optim == 'sgd':\n",
    "    optimizer = torch.optim.SGD(model.parameters(), lr=learning_rate)\n",
    "#     optimizer = torch.optim.SGD(model.parameters(),lr=learning_rate, momentum=0.95)\n",
    "elif optim == 'adam':\n",
    "    optimizer = torch.optim.Adam(model.parameters(), lr=learning_rate)\n",
    "criterion = nn.CrossEntropyLoss()"
   ]
  },
  {
   "cell_type": "code",
<<<<<<< HEAD
   "execution_count": 14,
=======
<<<<<<< HEAD
   "execution_count": 41,
>>>>>>> 2713aa532c83c7b8f809e2f3e037ebf5b35c8673
   "metadata": {},
   "outputs": [
    {
     "name": "stdout",
     "output_type": "stream",
     "text": [
      "VanilaCNN(\n",
      "  (conv): Sequential(\n",
      "    (0): Conv2d(3, 16, kernel_size=(3, 3), stride=(1, 1), padding=(1, 1))\n",
      "    (1): ReLU()\n",
<<<<<<< HEAD
=======
      "    (2): Conv2d(16, 32, kernel_size=(3, 3), stride=(1, 1), padding=(1, 1))\n",
      "    (3): ReLU()\n",
      "    (4): MaxPool2d(kernel_size=(2, 2), stride=2, padding=0, dilation=1, ceil_mode=False)\n",
      "    (5): Conv2d(32, 64, kernel_size=(3, 3), stride=(1, 1), padding=(1, 1))\n",
      "    (6): ReLU()\n",
      "    (7): Conv2d(64, 128, kernel_size=(3, 3), stride=(1, 1), padding=(1, 1))\n",
      "    (8): ReLU()\n",
      "    (9): MaxPool2d(kernel_size=(2, 2), stride=2, padding=0, dilation=1, ceil_mode=False)\n",
      "    (10): Conv2d(128, 128, kernel_size=(3, 3), stride=(1, 1), padding=(1, 1))\n",
      "    (11): ReLU()\n",
      "    (12): MaxPool2d(kernel_size=(2, 2), stride=2, padding=0, dilation=1, ceil_mode=False)\n",
      "    (13): Conv2d(128, 256, kernel_size=(3, 3), stride=(1, 1), padding=(1, 1))\n",
      "    (14): ReLU()\n",
      "    (15): MaxPool2d(kernel_size=(2, 2), stride=2, padding=0, dilation=1, ceil_mode=False)\n",
      "    (16): Conv2d(256, 256, kernel_size=(3, 3), stride=(1, 1), padding=(1, 1))\n",
      "    (17): ReLU()\n",
      "    (18): MaxPool2d(kernel_size=(2, 2), stride=2, padding=0, dilation=1, ceil_mode=False)\n",
      "    (19): Conv2d(256, 512, kernel_size=(3, 3), stride=(1, 1), padding=(1, 1))\n",
      "    (20): ReLU()\n",
      "    (21): Conv2d(512, 512, kernel_size=(3, 3), stride=(1, 1), padding=(1, 1))\n",
      "    (22): ReLU()\n",
      "    (23): MaxPool2d(kernel_size=(2, 2), stride=2, padding=0, dilation=1, ceil_mode=False)\n",
      "  )\n",
      "  (net): Linear(in_features=512, out_features=2, bias=True)\n",
      "  (soft): Softmax()\n",
      ")\n"
     ]
    }
   ],
   "source": [
    "print(XavierClassifier() )"
=======
   "execution_count": 10,
   "metadata": {},
   "outputs": [],
   "source": [
    "# print(XavierClassifier())"
>>>>>>> VGG
   ]
  },
  {
   "cell_type": "code",
<<<<<<< HEAD
   "execution_count": 42,
   "metadata": {},
=======
   "execution_count": 9,
   "metadata": {},
   "outputs": [],
   "source": [
    "# print(ResidualClassifier())"
   ]
  },
  {
   "cell_type": "code",
   "execution_count": 11,
   "metadata": {
    "scrolled": false
   },
>>>>>>> VGG
   "outputs": [
    {
     "name": "stdout",
     "output_type": "stream",
     "text": [
<<<<<<< HEAD
      "ResidualClassifier(\n",
      "  (conv): Sequential(\n",
      "    (0): ResidualConv(\n",
      "      (conv1): Conv2d(3, 16, kernel_size=(3, 3), stride=(1, 1))\n",
      "      (relu1): ReLU(inplace)\n",
      "      (conv2): Conv2d(16, 16, kernel_size=(3, 3), stride=(1, 1))\n",
      "      (relu2): ReLU(inplace)\n",
      "      (project_linear): Linear(in_features=3, out_features=16, bias=True)\n",
      "    )\n",
      "    (1): ReLU()\n",
>>>>>>> 2713aa532c83c7b8f809e2f3e037ebf5b35c8673
      "    (2): MaxPool2d(kernel_size=(2, 2), stride=2, padding=0, dilation=1, ceil_mode=False)\n",
      "    (3): Conv2d(16, 32, kernel_size=(3, 3), stride=(1, 1), padding=(1, 1))\n",
      "    (4): ReLU()\n",
      "    (5): MaxPool2d(kernel_size=(2, 2), stride=2, padding=0, dilation=1, ceil_mode=False)\n",
      "    (6): Conv2d(32, 64, kernel_size=(3, 3), stride=(1, 1), padding=(1, 1))\n",
      "    (7): ReLU()\n",
      "    (8): MaxPool2d(kernel_size=(2, 2), stride=2, padding=0, dilation=1, ceil_mode=False)\n",
      "    (9): Conv2d(64, 128, kernel_size=(3, 3), stride=(1, 1), padding=(1, 1))\n",
      "    (10): ReLU()\n",
      "    (11): MaxPool2d(kernel_size=(2, 2), stride=2, padding=0, dilation=1, ceil_mode=False)\n",
      "    (12): Conv2d(128, 128, kernel_size=(3, 3), stride=(1, 1), padding=(1, 1))\n",
      "    (13): ReLU()\n",
      "    (14): MaxPool2d(kernel_size=(2, 2), stride=2, padding=0, dilation=1, ceil_mode=False)\n",
      "    (15): Conv2d(128, 256, kernel_size=(3, 3), stride=(1, 1), padding=(1, 1))\n",
      "    (16): ReLU()\n",
      "    (17): MaxPool2d(kernel_size=(2, 2), stride=2, padding=0, dilation=1, ceil_mode=False)\n",
      "  )\n",
      "  (clf): Linear(in_features=256, out_features=2, bias=True)\n",
      ")\n"
=======
      "----------------------------------------------------------------\n",
      "        Layer (type)               Output Shape         Param #\n",
      "================================================================\n",
      "            Conv2d-1           [-1, 16, 64, 64]             448\n",
      "              ReLU-2           [-1, 16, 64, 64]               0\n",
      "            Conv2d-3           [-1, 32, 64, 64]           4,640\n",
      "              ReLU-4           [-1, 32, 64, 64]               0\n",
      "         MaxPool2d-5           [-1, 32, 32, 32]               0\n",
      "            Conv2d-6           [-1, 64, 32, 32]          18,496\n",
      "              ReLU-7           [-1, 64, 32, 32]               0\n",
      "            Conv2d-8          [-1, 128, 32, 32]          73,856\n",
      "              ReLU-9          [-1, 128, 32, 32]               0\n",
      "        MaxPool2d-10          [-1, 128, 16, 16]               0\n",
      "           Conv2d-11          [-1, 128, 16, 16]         147,584\n",
      "             ReLU-12          [-1, 128, 16, 16]               0\n",
      "        MaxPool2d-13            [-1, 128, 8, 8]               0\n",
      "           Conv2d-14            [-1, 256, 8, 8]         295,168\n",
      "             ReLU-15            [-1, 256, 8, 8]               0\n",
      "        MaxPool2d-16            [-1, 256, 4, 4]               0\n",
      "           Conv2d-17            [-1, 256, 4, 4]         590,080\n",
      "             ReLU-18            [-1, 256, 4, 4]               0\n",
      "        MaxPool2d-19            [-1, 256, 2, 2]               0\n",
      "           Conv2d-20            [-1, 512, 2, 2]       1,180,160\n",
      "             ReLU-21            [-1, 512, 2, 2]               0\n",
      "           Conv2d-22            [-1, 512, 2, 2]       2,359,808\n",
      "             ReLU-23            [-1, 512, 2, 2]               0\n",
      "        MaxPool2d-24            [-1, 512, 1, 1]               0\n",
      "           Linear-25                    [-1, 2]           1,026\n",
      "          Softmax-26                    [-1, 2]               0\n",
      "================================================================\n",
      "Total params: 4,671,266\n",
      "Trainable params: 4,671,266\n",
      "Non-trainable params: 0\n",
      "----------------------------------------------------------------\n",
      "Input size (MB): 0.05\n",
      "Forward/backward pass size (MB): 7.48\n",
      "Params size (MB): 17.82\n",
      "Estimated Total Size (MB): 25.35\n",
      "----------------------------------------------------------------\n"
>>>>>>> VGG
     ]
    }
   ],
   "source": [
<<<<<<< HEAD
    "print(model)"
=======
<<<<<<< HEAD
    "print(ResidualClassifier())"
=======
    "summary(model, input_size=(3,64,64))"
>>>>>>> VGG
>>>>>>> 2713aa532c83c7b8f809e2f3e037ebf5b35c8673
   ]
  },
  {
   "cell_type": "code",
<<<<<<< HEAD
   "execution_count": 15,
=======
<<<<<<< HEAD
   "execution_count": 40,
>>>>>>> 2713aa532c83c7b8f809e2f3e037ebf5b35c8673
   "metadata": {},
   "outputs": [
    {
     "name": "stdout",
     "output_type": "stream",
     "text": [
      "----------------------------------------------------------------\n",
      "        Layer (type)               Output Shape         Param #\n",
      "================================================================\n",
      "            Conv2d-1           [-1, 16, 64, 64]             448\n",
      "              ReLU-2           [-1, 16, 64, 64]               0\n",
      "         MaxPool2d-3           [-1, 16, 32, 32]               0\n",
      "            Conv2d-4           [-1, 32, 32, 32]           4,640\n",
      "              ReLU-5           [-1, 32, 32, 32]               0\n",
      "         MaxPool2d-6           [-1, 32, 16, 16]               0\n",
      "            Conv2d-7           [-1, 64, 16, 16]          18,496\n",
      "              ReLU-8           [-1, 64, 16, 16]               0\n",
      "         MaxPool2d-9             [-1, 64, 8, 8]               0\n",
      "           Conv2d-10            [-1, 128, 8, 8]          73,856\n",
      "             ReLU-11            [-1, 128, 8, 8]               0\n",
      "        MaxPool2d-12            [-1, 128, 4, 4]               0\n",
      "           Conv2d-13            [-1, 128, 4, 4]         147,584\n",
      "             ReLU-14            [-1, 128, 4, 4]               0\n",
      "        MaxPool2d-15            [-1, 128, 2, 2]               0\n",
      "           Conv2d-16            [-1, 256, 2, 2]         295,168\n",
      "             ReLU-17            [-1, 256, 2, 2]               0\n",
      "        MaxPool2d-18            [-1, 256, 1, 1]               0\n",
      "           Linear-19                    [-1, 2]             514\n",
      "================================================================\n",
      "Total params: 540,706\n",
      "Trainable params: 540,706\n",
      "Non-trainable params: 0\n",
      "----------------------------------------------------------------\n",
      "Input size (MB): 0.05\n",
      "Forward/backward pass size (MB): 2.16\n",
      "Params size (MB): 2.06\n",
      "Estimated Total Size (MB): 4.27\n",
      "----------------------------------------------------------------\n"
     ]
    }
   ],
   "source": [
    "summary(model, input_size=(3,64,64))"
=======
   "execution_count": 118,
   "metadata": {},
   "outputs": [],
   "source": [
    "def adjust_lr(optimizer, epoch, total_epochs, loss):\n",
    "    print ('epoch : ' + str(epoch))\n",
    "    mean_loss = np.mean(loss[epoch-2:-1])\n",
    "#     print ('loss epoch: ' + str(loss[epoch-1]))\n",
    "    if np.float(loss[epoch-1]) < np.float(mean_loss):\n",
    "        lr = lr0 * (0.5 ** (epoch / float(total_epochs)))\n",
    "        for param_group in optimizer.param_groups:\n",
    "            param_group['lr'] = lr"
>>>>>>> VGG
   ]
  },
  {
   "cell_type": "markdown",
   "metadata": {},
   "source": [
    "## Trainer implementation"
   ]
  },
  {
   "cell_type": "code",
<<<<<<< HEAD
   "execution_count": 34,
   "metadata": {},
   "outputs": [
    {
     "ename": "NotImplementedError",
     "evalue": "",
     "output_type": "error",
     "traceback": [
      "\u001b[0;31m---------------------------------------------------------------------------\u001b[0m",
      "\u001b[0;31mNotImplementedError\u001b[0m                       Traceback (most recent call last)",
      "\u001b[0;32m<ipython-input-34-8ac958f35db6>\u001b[0m in \u001b[0;36m<module>\u001b[0;34m\u001b[0m\n\u001b[1;32m     94\u001b[0m \u001b[0;34m\u001b[0m\u001b[0m\n\u001b[1;32m     95\u001b[0m \u001b[0mtrainer\u001b[0m \u001b[0;34m=\u001b[0m \u001b[0mTrainer\u001b[0m\u001b[0;34m(\u001b[0m\u001b[0mmodel\u001b[0m\u001b[0;34m,\u001b[0m \u001b[0moptimizer\u001b[0m\u001b[0;34m,\u001b[0m \u001b[0mcriterion\u001b[0m\u001b[0;34m,\u001b[0m \u001b[0mtrain_loader\u001b[0m\u001b[0;34m,\u001b[0m \u001b[0mvalid_loader\u001b[0m\u001b[0;34m)\u001b[0m\u001b[0;34m\u001b[0m\u001b[0;34m\u001b[0m\u001b[0m\n\u001b[0;32m---> 96\u001b[0;31m \u001b[0mnll_train\u001b[0m\u001b[0;34m,\u001b[0m \u001b[0mnll_test\u001b[0m\u001b[0;34m,\u001b[0m \u001b[0macc_train\u001b[0m\u001b[0;34m,\u001b[0m \u001b[0macc_test\u001b[0m \u001b[0;34m=\u001b[0m  \u001b[0mtrainer\u001b[0m\u001b[0;34m.\u001b[0m\u001b[0mtrain_model\u001b[0m\u001b[0;34m(\u001b[0m\u001b[0;34m)\u001b[0m\u001b[0;34m\u001b[0m\u001b[0;34m\u001b[0m\u001b[0m\n\u001b[0m\u001b[1;32m     97\u001b[0m \u001b[0mprint\u001b[0m\u001b[0;34m(\u001b[0m\u001b[0;34m'Done...'\u001b[0m\u001b[0;34m)\u001b[0m\u001b[0;34m\u001b[0m\u001b[0;34m\u001b[0m\u001b[0m\n",
      "\u001b[0;32m<ipython-input-34-8ac958f35db6>\u001b[0m in \u001b[0;36mtrain_model\u001b[0;34m(self)\u001b[0m\n\u001b[1;32m     54\u001b[0m                     \u001b[0mx\u001b[0m \u001b[0;34m=\u001b[0m \u001b[0mx\u001b[0m\u001b[0;34m.\u001b[0m\u001b[0mcuda\u001b[0m\u001b[0;34m(\u001b[0m\u001b[0;34m)\u001b[0m\u001b[0;34m\u001b[0m\u001b[0;34m\u001b[0m\u001b[0m\n\u001b[1;32m     55\u001b[0m                     \u001b[0my\u001b[0m \u001b[0;34m=\u001b[0m \u001b[0my\u001b[0m\u001b[0;34m.\u001b[0m\u001b[0mcuda\u001b[0m\u001b[0;34m(\u001b[0m\u001b[0;34m)\u001b[0m\u001b[0;34m\u001b[0m\u001b[0;34m\u001b[0m\u001b[0m\n\u001b[0;32m---> 56\u001b[0;31m                 \u001b[0mloss\u001b[0m \u001b[0;34m=\u001b[0m \u001b[0mcriterion\u001b[0m\u001b[0;34m(\u001b[0m\u001b[0mmodel\u001b[0m\u001b[0;34m(\u001b[0m\u001b[0mx\u001b[0m\u001b[0;34m)\u001b[0m\u001b[0;34m,\u001b[0m \u001b[0my\u001b[0m\u001b[0;34m)\u001b[0m\u001b[0;34m\u001b[0m\u001b[0;34m\u001b[0m\u001b[0m\n\u001b[0m\u001b[1;32m     57\u001b[0m                 \u001b[0mloss\u001b[0m\u001b[0;34m.\u001b[0m\u001b[0mbackward\u001b[0m\u001b[0;34m(\u001b[0m\u001b[0;34m)\u001b[0m\u001b[0;34m\u001b[0m\u001b[0;34m\u001b[0m\u001b[0m\n\u001b[1;32m     58\u001b[0m                 \u001b[0moptimizer\u001b[0m\u001b[0;34m.\u001b[0m\u001b[0mstep\u001b[0m\u001b[0;34m(\u001b[0m\u001b[0;34m)\u001b[0m\u001b[0;34m\u001b[0m\u001b[0;34m\u001b[0m\u001b[0m\n",
      "\u001b[0;32m~/Software/anaconda3/lib/python3.7/site-packages/torch/nn/modules/module.py\u001b[0m in \u001b[0;36m__call__\u001b[0;34m(self, *input, **kwargs)\u001b[0m\n\u001b[1;32m    487\u001b[0m             \u001b[0mresult\u001b[0m \u001b[0;34m=\u001b[0m \u001b[0mself\u001b[0m\u001b[0;34m.\u001b[0m\u001b[0m_slow_forward\u001b[0m\u001b[0;34m(\u001b[0m\u001b[0;34m*\u001b[0m\u001b[0minput\u001b[0m\u001b[0;34m,\u001b[0m \u001b[0;34m**\u001b[0m\u001b[0mkwargs\u001b[0m\u001b[0;34m)\u001b[0m\u001b[0;34m\u001b[0m\u001b[0;34m\u001b[0m\u001b[0m\n\u001b[1;32m    488\u001b[0m         \u001b[0;32melse\u001b[0m\u001b[0;34m:\u001b[0m\u001b[0;34m\u001b[0m\u001b[0;34m\u001b[0m\u001b[0m\n\u001b[0;32m--> 489\u001b[0;31m             \u001b[0mresult\u001b[0m \u001b[0;34m=\u001b[0m \u001b[0mself\u001b[0m\u001b[0;34m.\u001b[0m\u001b[0mforward\u001b[0m\u001b[0;34m(\u001b[0m\u001b[0;34m*\u001b[0m\u001b[0minput\u001b[0m\u001b[0;34m,\u001b[0m \u001b[0;34m**\u001b[0m\u001b[0mkwargs\u001b[0m\u001b[0;34m)\u001b[0m\u001b[0;34m\u001b[0m\u001b[0;34m\u001b[0m\u001b[0m\n\u001b[0m\u001b[1;32m    490\u001b[0m         \u001b[0;32mfor\u001b[0m \u001b[0mhook\u001b[0m \u001b[0;32min\u001b[0m \u001b[0mself\u001b[0m\u001b[0;34m.\u001b[0m\u001b[0m_forward_hooks\u001b[0m\u001b[0;34m.\u001b[0m\u001b[0mvalues\u001b[0m\u001b[0;34m(\u001b[0m\u001b[0;34m)\u001b[0m\u001b[0;34m:\u001b[0m\u001b[0;34m\u001b[0m\u001b[0;34m\u001b[0m\u001b[0m\n\u001b[1;32m    491\u001b[0m             \u001b[0mhook_result\u001b[0m \u001b[0;34m=\u001b[0m \u001b[0mhook\u001b[0m\u001b[0;34m(\u001b[0m\u001b[0mself\u001b[0m\u001b[0;34m,\u001b[0m \u001b[0minput\u001b[0m\u001b[0;34m,\u001b[0m \u001b[0mresult\u001b[0m\u001b[0;34m)\u001b[0m\u001b[0;34m\u001b[0m\u001b[0;34m\u001b[0m\u001b[0m\n",
      "\u001b[0;32m~/Software/anaconda3/lib/python3.7/site-packages/torch/nn/modules/module.py\u001b[0m in \u001b[0;36mforward\u001b[0;34m(self, *input)\u001b[0m\n\u001b[1;32m     83\u001b[0m             \u001b[0mregistered\u001b[0m \u001b[0mhooks\u001b[0m \u001b[0;32mwhile\u001b[0m \u001b[0mthe\u001b[0m \u001b[0mlatter\u001b[0m \u001b[0msilently\u001b[0m \u001b[0mignores\u001b[0m \u001b[0mthem\u001b[0m\u001b[0;34m.\u001b[0m\u001b[0;34m\u001b[0m\u001b[0;34m\u001b[0m\u001b[0m\n\u001b[1;32m     84\u001b[0m         \"\"\"\n\u001b[0;32m---> 85\u001b[0;31m         \u001b[0;32mraise\u001b[0m \u001b[0mNotImplementedError\u001b[0m\u001b[0;34m\u001b[0m\u001b[0;34m\u001b[0m\u001b[0m\n\u001b[0m\u001b[1;32m     86\u001b[0m \u001b[0;34m\u001b[0m\u001b[0m\n\u001b[1;32m     87\u001b[0m     \u001b[0;32mdef\u001b[0m \u001b[0mregister_buffer\u001b[0m\u001b[0;34m(\u001b[0m\u001b[0mself\u001b[0m\u001b[0;34m,\u001b[0m \u001b[0mname\u001b[0m\u001b[0;34m,\u001b[0m \u001b[0mtensor\u001b[0m\u001b[0;34m)\u001b[0m\u001b[0;34m:\u001b[0m\u001b[0;34m\u001b[0m\u001b[0;34m\u001b[0m\u001b[0m\n",
      "\u001b[0;31mNotImplementedError\u001b[0m: "
=======
   "execution_count": 119,
   "metadata": {
    "scrolled": false
   },
   "outputs": [
    {
     "name": "stdout",
     "output_type": "stream",
     "text": [
      " Iteration 40: TRAIN 0.6934\n",
      " Iteration 80: TRAIN 0.6921\n",
      " Iteration 120: TRAIN 0.6933\n",
      " Iteration 160: TRAIN 0.6904\n",
      " Iteration 200: TRAIN 0.6877\n",
      " [Loss] TRAIN 0.6855 / TEST 0.6861\n",
      " [ACC] TRAIN 0.5428 / TEST 0.5375\n",
      " Iteration 240: TRAIN 0.6872\n",
      " Iteration 280: TRAIN 0.6811\n",
      " Iteration 320: TRAIN 0.6799\n",
      " Iteration 360: TRAIN 0.6779\n",
      " Iteration 400: TRAIN 0.6703\n",
      " [Loss] TRAIN 0.6653 / TEST 0.6637\n",
      " [ACC] TRAIN 0.6019 / TEST 0.5976\n",
      " Iteration 440: TRAIN 0.6660\n",
      "epoch : 3\n"
     ]
    },
    {
     "name": "stderr",
     "output_type": "stream",
     "text": [
      "/home/laya/.local/lib/python3.5/site-packages/numpy/core/fromnumeric.py:2957: RuntimeWarning: Mean of empty slice.\n",
      "  out=out, **kwargs)\n"
     ]
    },
    {
     "ename": "IndexError",
     "evalue": "list index out of range",
     "output_type": "error",
     "traceback": [
      "\u001b[0;31m---------------------------------------------------------------------------\u001b[0m",
      "\u001b[0;31mIndexError\u001b[0m                                Traceback (most recent call last)",
      "\u001b[0;32m<ipython-input-119-7ecb690f0d92>\u001b[0m in \u001b[0;36m<module>\u001b[0;34m()\u001b[0m\n\u001b[1;32m     95\u001b[0m \u001b[0;34m\u001b[0m\u001b[0m\n\u001b[1;32m     96\u001b[0m \u001b[0mtrainer\u001b[0m \u001b[0;34m=\u001b[0m \u001b[0mTrainer\u001b[0m\u001b[0;34m(\u001b[0m\u001b[0mmodel\u001b[0m\u001b[0;34m,\u001b[0m \u001b[0moptimizer\u001b[0m\u001b[0;34m,\u001b[0m \u001b[0mcriterion\u001b[0m\u001b[0;34m,\u001b[0m \u001b[0mtrain_loader\u001b[0m\u001b[0;34m,\u001b[0m \u001b[0mvalid_loader\u001b[0m\u001b[0;34m)\u001b[0m\u001b[0;34m\u001b[0m\u001b[0m\n\u001b[0;32m---> 97\u001b[0;31m \u001b[0mnll_train\u001b[0m\u001b[0;34m,\u001b[0m \u001b[0mnll_test\u001b[0m\u001b[0;34m,\u001b[0m \u001b[0macc_train\u001b[0m\u001b[0;34m,\u001b[0m \u001b[0macc_test\u001b[0m \u001b[0;34m=\u001b[0m  \u001b[0mtrainer\u001b[0m\u001b[0;34m.\u001b[0m\u001b[0mtrain_model\u001b[0m\u001b[0;34m(\u001b[0m\u001b[0;34m)\u001b[0m\u001b[0;34m\u001b[0m\u001b[0m\n\u001b[0m\u001b[1;32m     98\u001b[0m \u001b[0mprint\u001b[0m\u001b[0;34m(\u001b[0m\u001b[0;34m'Done...'\u001b[0m\u001b[0;34m)\u001b[0m\u001b[0;34m\u001b[0m\u001b[0m\n",
      "\u001b[0;32m<ipython-input-119-7ecb690f0d92>\u001b[0m in \u001b[0;36mtrain_model\u001b[0;34m(self)\u001b[0m\n\u001b[1;32m     90\u001b[0m             \u001b[0mc\u001b[0m \u001b[0;34m+=\u001b[0m \u001b[0;36m1\u001b[0m\u001b[0;34m\u001b[0m\u001b[0m\n\u001b[1;32m     91\u001b[0m             \u001b[0;32mif\u001b[0m \u001b[0;34m(\u001b[0m\u001b[0mc\u001b[0m\u001b[0;34m%\u001b[0m\u001b[0;36m3\u001b[0m \u001b[0;34m==\u001b[0m \u001b[0;36m0\u001b[0m\u001b[0;34m)\u001b[0m\u001b[0;34m:\u001b[0m\u001b[0;34m\u001b[0m\u001b[0m\n\u001b[0;32m---> 92\u001b[0;31m                 \u001b[0madjust_lr\u001b[0m\u001b[0;34m(\u001b[0m\u001b[0moptimizer\u001b[0m\u001b[0;34m,\u001b[0m \u001b[0mc\u001b[0m\u001b[0;34m,\u001b[0m \u001b[0mnum_epochs\u001b[0m\u001b[0;34m,\u001b[0m \u001b[0mlearning_curve_nll_test\u001b[0m\u001b[0;34m)\u001b[0m\u001b[0;34m\u001b[0m\u001b[0m\n\u001b[0m\u001b[1;32m     93\u001b[0m \u001b[0;34m\u001b[0m\u001b[0m\n\u001b[1;32m     94\u001b[0m         \u001b[0;32mreturn\u001b[0m \u001b[0mlearning_curve_nll_train\u001b[0m\u001b[0;34m,\u001b[0m                \u001b[0mlearning_curve_nll_test\u001b[0m\u001b[0;34m,\u001b[0m                \u001b[0mlearning_curve_acc_train\u001b[0m\u001b[0;34m,\u001b[0m                \u001b[0mlearning_curve_acc_test\u001b[0m\u001b[0;34m,\u001b[0m\u001b[0;34m\u001b[0m\u001b[0m\n",
      "\u001b[0;32m<ipython-input-118-4d8a11dc29c1>\u001b[0m in \u001b[0;36madjust_lr\u001b[0;34m(optimizer, epoch, total_epochs, loss)\u001b[0m\n\u001b[1;32m      3\u001b[0m     \u001b[0mmean_loss\u001b[0m \u001b[0;34m=\u001b[0m \u001b[0mnp\u001b[0m\u001b[0;34m.\u001b[0m\u001b[0mmean\u001b[0m\u001b[0;34m(\u001b[0m\u001b[0mloss\u001b[0m\u001b[0;34m[\u001b[0m\u001b[0mepoch\u001b[0m\u001b[0;34m-\u001b[0m\u001b[0;36m2\u001b[0m\u001b[0;34m:\u001b[0m\u001b[0;34m-\u001b[0m\u001b[0;36m1\u001b[0m\u001b[0;34m]\u001b[0m\u001b[0;34m)\u001b[0m\u001b[0;34m\u001b[0m\u001b[0m\n\u001b[1;32m      4\u001b[0m \u001b[0;31m#     print ('loss epoch: ' + str(loss[epoch-1]))\u001b[0m\u001b[0;34m\u001b[0m\u001b[0;34m\u001b[0m\u001b[0m\n\u001b[0;32m----> 5\u001b[0;31m     \u001b[0;32mif\u001b[0m \u001b[0mnp\u001b[0m\u001b[0;34m.\u001b[0m\u001b[0mfloat\u001b[0m\u001b[0;34m(\u001b[0m\u001b[0mloss\u001b[0m\u001b[0;34m[\u001b[0m\u001b[0mepoch\u001b[0m\u001b[0;34m-\u001b[0m\u001b[0;36m1\u001b[0m\u001b[0;34m]\u001b[0m\u001b[0;34m)\u001b[0m \u001b[0;34m<\u001b[0m \u001b[0mnp\u001b[0m\u001b[0;34m.\u001b[0m\u001b[0mfloat\u001b[0m\u001b[0;34m(\u001b[0m\u001b[0mmean_loss\u001b[0m\u001b[0;34m)\u001b[0m\u001b[0;34m:\u001b[0m\u001b[0;34m\u001b[0m\u001b[0m\n\u001b[0m\u001b[1;32m      6\u001b[0m         \u001b[0mlr\u001b[0m \u001b[0;34m=\u001b[0m \u001b[0mlr0\u001b[0m \u001b[0;34m*\u001b[0m \u001b[0;34m(\u001b[0m\u001b[0;36m0.5\u001b[0m \u001b[0;34m**\u001b[0m \u001b[0;34m(\u001b[0m\u001b[0mepoch\u001b[0m \u001b[0;34m/\u001b[0m \u001b[0mfloat\u001b[0m\u001b[0;34m(\u001b[0m\u001b[0mtotal_epochs\u001b[0m\u001b[0;34m)\u001b[0m\u001b[0;34m)\u001b[0m\u001b[0;34m)\u001b[0m\u001b[0;34m\u001b[0m\u001b[0m\n\u001b[1;32m      7\u001b[0m         \u001b[0;32mfor\u001b[0m \u001b[0mparam_group\u001b[0m \u001b[0;32min\u001b[0m \u001b[0moptimizer\u001b[0m\u001b[0;34m.\u001b[0m\u001b[0mparam_groups\u001b[0m\u001b[0;34m:\u001b[0m\u001b[0;34m\u001b[0m\u001b[0m\n",
      "\u001b[0;31mIndexError\u001b[0m: list index out of range"
>>>>>>> VGG
     ]
    }
   ],
   "source": [
    "class Trainer():\n",
    "    def __init__(self,  model, optimizer, criterion, train_loader, valid_loader):\n",
    "        super(Trainer, self).__init__()\n",
    "        self.model = model\n",
    "        self.optimizer = optimizer\n",
    "        self.criterion = criterion\n",
    "        self.train_loader = train_loader\n",
    "        self.valid_loader = valid_loader\n",
    "        \n",
    "    def evaluate(self, dataset_loader, criterion):\n",
    "        LOSSES = 0\n",
    "        COUNTER = 0\n",
    "        for batch in dataset_loader:\n",
    "            optimizer.zero_grad()\n",
    "\n",
    "            x, y = batch\n",
    "    #             x = x.view(-1,1,28,28)\n",
    "            y = y.view(-1)\n",
    "            if cuda_available:\n",
    "                x = x.cuda()\n",
    "                y = y.cuda()\n",
    "\n",
    "            loss = criterion(model(x), y)\n",
    "            n = y.size(0)\n",
    "            LOSSES += loss.sum().data.cpu().numpy() * n\n",
    "            COUNTER += n\n",
    "\n",
    "        return LOSSES / float(COUNTER)\n",
    "    \n",
    "    def accuracy(self, proba, y):\n",
    "        correct = torch.eq(proba.max(1)[1], y).sum().type(torch.FloatTensor)\n",
    "        return correct / y.size(0)\n",
    "    \n",
<<<<<<< HEAD
    "    def adjust_lr(self, optimizer, epoch, total_epochs):\n",
    "        lr = lr0 * (0.1 ** (epoch / float(total_epochs)))\n",
    "        for param_group in optimizer.param_groups:\n",
    "            param_group['lr'] = lr\n",
    "            \n",
    "    def train_model(self):\n",
=======
    "#     def adjust_lr(self, optimizer, epoch, total_epochs):\n",
    "#         lr = lr0 * (0.5 ** (epoch / float(total_epochs)))\n",
    "#         for param_group in optimizer.param_groups:\n",
    "#             param_group['lr'] = lr\n",
    "    \n",
    "    def train_model(self):\n",
    "        c = 0\n",
>>>>>>> VGG
    "        LOSSES = 0\n",
    "        COUNTER = 0\n",
    "        ITERATIONS = 0\n",
    "        learning_curve_nll_train = list()\n",
    "        learning_curve_nll_test = list()\n",
    "        learning_curve_acc_train = list()\n",
    "        learning_curve_acc_test = list()\n",
    "        for e in range(num_epochs):\n",
    "            for batch in train_loader:\n",
    "                optimizer.zero_grad()\n",
    "                x, y = batch\n",
    "    #             x = x.view(-1,1,28,28)\n",
    "                y = y.view(-1)\n",
    "                if cuda_available:\n",
    "                    x = x.cuda()\n",
    "                    y = y.cuda()\n",
    "                loss = criterion(model(x), y)\n",
    "                loss.backward()\n",
    "                optimizer.step()\n",
    "\n",
    "                n = y.size(0)\n",
    "                LOSSES += loss.sum().data.cpu().numpy() * n\n",
    "                COUNTER += n\n",
    "                ITERATIONS += 1\n",
    "                if ITERATIONS%(store_every/5) == 0:\n",
    "                    avg_loss = LOSSES / float(COUNTER)\n",
    "                    LOSSES = 0\n",
    "                    COUNTER = 0\n",
<<<<<<< HEAD
    "                    print(\" Iteration {}: TRAIN {}\".format(\n",
=======
    "                    print(\" Iteration {}: TRAIN {:.4f}\".format(\n",
>>>>>>> VGG
    "                        ITERATIONS, avg_loss))\n",
    "\n",
    "                if ITERATIONS%(store_every) == 0:     \n",
    "\n",
    "                    train_loss = self.evaluate(train_loader, criterion)\n",
    "                    learning_curve_nll_train.append(train_loss)\n",
<<<<<<< HEAD
    "                    test_loss = self.evaluate(test_loader, criterion)\n",
=======
    "                    test_loss = self.evaluate(valid_loader, criterion)\n",
>>>>>>> VGG
    "                    learning_curve_nll_test.append(test_loss)\n",
    "\n",
    "                    train_acc = self.evaluate(train_loader, self.accuracy)\n",
    "                    learning_curve_acc_train.append(train_acc)\n",
    "                    test_acc = self.evaluate(valid_loader, self.accuracy)\n",
    "                    learning_curve_acc_test.append(test_acc)\n",
    "\n",
<<<<<<< HEAD
    "                    print(\" [NLL] TRAIN {} / TEST {}\".format(\n",
    "                        train_loss, test_loss))\n",
    "                    print(\" [ACC] TRAIN {} / TEST {}\".format(\n",
    "                        train_acc, test_acc))\n",
    "\n",
    "            self.adjust_lr(optimizer, e+1, num_epochs)\n",
=======
    "                    print(\" [Loss] TRAIN {:.4f} / TEST {:.4f}\".format(\n",
    "                        train_loss, test_loss))\n",
    "                    print(\" [ACC] TRAIN {:.4f} / TEST {:.4f}\".format(\n",
    "                        train_acc, test_acc))\n",
    "\n",
    "#             self.adjust_lr(optimizer, e+1, num_epochs)\n",
    "            c += 1    \n",
    "            if (c%3 == 0):\n",
    "                adjust_lr(optimizer, c, num_epochs, learning_curve_nll_test)\n",
>>>>>>> VGG
    "\n",
    "        return learning_curve_nll_train, \\\n",
    "               learning_curve_nll_test, \\\n",
    "               learning_curve_acc_train, \\\n",
    "               learning_curve_acc_test, \n",
    "    \n",
    "trainer = Trainer(model, optimizer, criterion, train_loader, valid_loader)\n",
    "nll_train, nll_test, acc_train, acc_test =  trainer.train_model()\n",
    "print('Done...')"
   ]
  },
  {
   "cell_type": "code",
<<<<<<< HEAD
   "execution_count": 21,
=======
   "execution_count": 49,
>>>>>>> VGG
   "metadata": {},
   "outputs": [
    {
     "data": {
<<<<<<< HEAD
      "image/png": "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\n",
=======
      "image/png": "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\n",
>>>>>>> VGG
      "text/plain": [
       "<Figure size 432x288 with 1 Axes>"
      ]
     },
<<<<<<< HEAD
     "metadata": {
      "needs_background": "light"
     },
=======
     "metadata": {},
>>>>>>> VGG
     "output_type": "display_data"
    },
    {
     "data": {
<<<<<<< HEAD
      "image/png": "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\n",
=======
      "image/png": "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\n",
>>>>>>> VGG
      "text/plain": [
       "<Figure size 432x288 with 1 Axes>"
      ]
     },
<<<<<<< HEAD
     "metadata": {
      "needs_background": "light"
     },
=======
     "metadata": {},
>>>>>>> VGG
     "output_type": "display_data"
    }
   ],
   "source": [
    "plt.figure(1)\n",
<<<<<<< HEAD
    "plt.plot(range(len(nll_train)), nll_train, label=\"NLL train\" )\n",
    "plt.plot(range(len(nll_test)), nll_test,   label=\"NLL test\" )\n",
=======
    "plt.plot(range(len(nll_train)), nll_train, label=\"Loss train\" )\n",
    "plt.plot(range(len(nll_test)), nll_test,   label=\"Loss test\" )\n",
>>>>>>> VGG
    "plt.figure(2)\n",
    "plt.plot(range(len(acc_train)), acc_train, label=\"Accuracy train\" )\n",
    "plt.plot(range(len(acc_test)), acc_test,   label=\"Accuracy test\" )\n",
    "plt.legend()\n",
    "plt.show()"
   ]
  },
  {
   "cell_type": "markdown",
   "metadata": {},
   "source": [
    "## Evaluating of testset "
   ]
  },
  {
   "cell_type": "code",
<<<<<<< HEAD
   "execution_count": null,
=======
   "execution_count": 50,
>>>>>>> VGG
   "metadata": {},
   "outputs": [],
   "source": [
    "results = [[]]\n",
    "for batch_idx, (inputs, targets) in enumerate(test_loader):\n",
    "    if cuda_available:\n",
    "        inputs, targets = inputs.cuda(), targets.cuda()\n",
<<<<<<< HEAD
    "    outputs = clf(inputs)\n",
=======
    "    outputs = model(inputs)\n",
>>>>>>> VGG
    "    _, predicted = torch.max(outputs.data, 1)\n",
    "    results = np.append(results, predicted.cpu().numpy())\n",
    "\n",
    "results = np.int8(results)"
   ]
  },
  {
   "cell_type": "markdown",
   "metadata": {},
   "source": [
    "## Creating submission csv file"
   ]
  },
  {
   "cell_type": "code",
<<<<<<< HEAD
   "execution_count": null,
   "metadata": {},
   "outputs": [],
=======
   "execution_count": 51,
   "metadata": {},
   "outputs": [
    {
     "name": "stdout",
     "output_type": "stream",
     "text": [
      "Done...\n"
     ]
    }
   ],
>>>>>>> VGG
   "source": [
    "df = pd.DataFrame({ 'id': range(1, len(results)+1),\n",
    "                    'label': results})\n",
    "df['label'].replace([0,1], ['Cat','Dog'], inplace=True)\n",
    "df[df.columns].to_csv('submisstion.csv',index=False)\n",
    "print('Done...')"
   ]
  },
  {
   "cell_type": "markdown",
   "metadata": {},
   "source": [
    "## Visualizing the CNN"
   ]
  },
  {
   "cell_type": "code",
   "execution_count": 20,
   "metadata": {},
   "outputs": [],
   "source": [
    "from cnn_layer_visualization import CNNLayerVisualization"
   ]
  },
  {
   "cell_type": "code",
   "execution_count": 21,
   "metadata": {},
   "outputs": [
    {
     "ename": "TypeError",
     "evalue": "'VanilaCNN' object does not support indexing",
     "output_type": "error",
     "traceback": [
      "\u001b[0;31m---------------------------------------------------------------------------\u001b[0m",
      "\u001b[0;31mTypeError\u001b[0m                                 Traceback (most recent call last)",
      "\u001b[0;32m<ipython-input-21-09c49973a177>\u001b[0m in \u001b[0;36m<module>\u001b[0;34m\u001b[0m\n\u001b[1;32m      6\u001b[0m \u001b[0;34m\u001b[0m\u001b[0m\n\u001b[1;32m      7\u001b[0m \u001b[0;31m# Layer visualization with pytorch hooks\u001b[0m\u001b[0;34m\u001b[0m\u001b[0;34m\u001b[0m\u001b[0;34m\u001b[0m\u001b[0m\n\u001b[0;32m----> 8\u001b[0;31m \u001b[0mlayer_vis\u001b[0m\u001b[0;34m.\u001b[0m\u001b[0mvisualise_layer_with_hooks\u001b[0m\u001b[0;34m(\u001b[0m\u001b[0;34m)\u001b[0m\u001b[0;34m\u001b[0m\u001b[0;34m\u001b[0m\u001b[0m\n\u001b[0m\u001b[1;32m      9\u001b[0m \u001b[0;34m\u001b[0m\u001b[0m\n\u001b[1;32m     10\u001b[0m \u001b[0;31m# Layer visualization without pytorch hooks\u001b[0m\u001b[0;34m\u001b[0m\u001b[0;34m\u001b[0m\u001b[0;34m\u001b[0m\u001b[0m\n",
      "\u001b[0;32m~/Workspace/IFT6135/IFT6135-P1_MLP-MNIST-CNN/Dog-Vs-Cat/cnn_layer_visualization.py\u001b[0m in \u001b[0;36mvisualise_layer_with_hooks\u001b[0;34m(self)\u001b[0m\n\u001b[1;32m     38\u001b[0m     \u001b[0;32mdef\u001b[0m \u001b[0mvisualise_layer_with_hooks\u001b[0m\u001b[0;34m(\u001b[0m\u001b[0mself\u001b[0m\u001b[0;34m)\u001b[0m\u001b[0;34m:\u001b[0m\u001b[0;34m\u001b[0m\u001b[0;34m\u001b[0m\u001b[0m\n\u001b[1;32m     39\u001b[0m         \u001b[0;31m# Hook the selected layer\u001b[0m\u001b[0;34m\u001b[0m\u001b[0;34m\u001b[0m\u001b[0;34m\u001b[0m\u001b[0m\n\u001b[0;32m---> 40\u001b[0;31m         \u001b[0mself\u001b[0m\u001b[0;34m.\u001b[0m\u001b[0mhook_layer\u001b[0m\u001b[0;34m(\u001b[0m\u001b[0;34m)\u001b[0m\u001b[0;34m\u001b[0m\u001b[0;34m\u001b[0m\u001b[0m\n\u001b[0m\u001b[1;32m     41\u001b[0m         \u001b[0;31m# Generate a random image\u001b[0m\u001b[0;34m\u001b[0m\u001b[0;34m\u001b[0m\u001b[0;34m\u001b[0m\u001b[0m\n\u001b[1;32m     42\u001b[0m         \u001b[0mrandom_image\u001b[0m \u001b[0;34m=\u001b[0m \u001b[0mnp\u001b[0m\u001b[0;34m.\u001b[0m\u001b[0muint8\u001b[0m\u001b[0;34m(\u001b[0m\u001b[0mnp\u001b[0m\u001b[0;34m.\u001b[0m\u001b[0mrandom\u001b[0m\u001b[0;34m.\u001b[0m\u001b[0muniform\u001b[0m\u001b[0;34m(\u001b[0m\u001b[0;36m150\u001b[0m\u001b[0;34m,\u001b[0m \u001b[0;36m180\u001b[0m\u001b[0;34m,\u001b[0m \u001b[0;34m(\u001b[0m\u001b[0;36m224\u001b[0m\u001b[0;34m,\u001b[0m \u001b[0;36m224\u001b[0m\u001b[0;34m,\u001b[0m \u001b[0;36m3\u001b[0m\u001b[0;34m)\u001b[0m\u001b[0;34m)\u001b[0m\u001b[0;34m)\u001b[0m\u001b[0;34m\u001b[0m\u001b[0;34m\u001b[0m\u001b[0m\n",
      "\u001b[0;32m~/Workspace/IFT6135/IFT6135-P1_MLP-MNIST-CNN/Dog-Vs-Cat/cnn_layer_visualization.py\u001b[0m in \u001b[0;36mhook_layer\u001b[0;34m(self)\u001b[0m\n\u001b[1;32m     34\u001b[0m             \u001b[0mself\u001b[0m\u001b[0;34m.\u001b[0m\u001b[0mconv_output\u001b[0m \u001b[0;34m=\u001b[0m \u001b[0mgrad_out\u001b[0m\u001b[0;34m[\u001b[0m\u001b[0;36m0\u001b[0m\u001b[0;34m,\u001b[0m \u001b[0mself\u001b[0m\u001b[0;34m.\u001b[0m\u001b[0mselected_filter\u001b[0m\u001b[0;34m]\u001b[0m\u001b[0;34m\u001b[0m\u001b[0;34m\u001b[0m\u001b[0m\n\u001b[1;32m     35\u001b[0m         \u001b[0;31m# Hook the selected layer\u001b[0m\u001b[0;34m\u001b[0m\u001b[0;34m\u001b[0m\u001b[0;34m\u001b[0m\u001b[0m\n\u001b[0;32m---> 36\u001b[0;31m         \u001b[0mself\u001b[0m\u001b[0;34m.\u001b[0m\u001b[0mmodel\u001b[0m\u001b[0;34m[\u001b[0m\u001b[0mself\u001b[0m\u001b[0;34m.\u001b[0m\u001b[0mselected_layer\u001b[0m\u001b[0;34m]\u001b[0m\u001b[0;34m.\u001b[0m\u001b[0mregister_forward_hook\u001b[0m\u001b[0;34m(\u001b[0m\u001b[0mhook_function\u001b[0m\u001b[0;34m)\u001b[0m\u001b[0;34m\u001b[0m\u001b[0;34m\u001b[0m\u001b[0m\n\u001b[0m\u001b[1;32m     37\u001b[0m \u001b[0;34m\u001b[0m\u001b[0m\n\u001b[1;32m     38\u001b[0m     \u001b[0;32mdef\u001b[0m \u001b[0mvisualise_layer_with_hooks\u001b[0m\u001b[0;34m(\u001b[0m\u001b[0mself\u001b[0m\u001b[0;34m)\u001b[0m\u001b[0;34m:\u001b[0m\u001b[0;34m\u001b[0m\u001b[0;34m\u001b[0m\u001b[0m\n",
      "\u001b[0;31mTypeError\u001b[0m: 'VanilaCNN' object does not support indexing"
     ]
    }
   ],
   "source": [
    "cnn_layer = 17\n",
    "filter_pos = 5\n",
    "    # Fully connected layer is not needed\n",
    "pretrained_model = model\n",
    "layer_vis = CNNLayerVisualization(pretrained_model, cnn_layer, filter_pos)\n",
    "\n",
    "# Layer visualization with pytorch hooks\n",
    "layer_vis.visualise_layer_with_hooks()\n",
    "\n",
    "# Layer visualization without pytorch hooks\n",
    "# layer_vis.visualise_layer_without_hooks()"
   ]
  },
  {
   "cell_type": "code",
   "execution_count": null,
   "metadata": {},
   "outputs": [],
   "source": []
  }
 ],
 "metadata": {
  "kernelspec": {
   "display_name": "Python 3",
   "language": "python",
   "name": "python3"
  },
  "language_info": {
   "codemirror_mode": {
    "name": "ipython",
    "version": 3
   },
   "file_extension": ".py",
   "mimetype": "text/x-python",
   "name": "python",
   "nbconvert_exporter": "python",
   "pygments_lexer": "ipython3",
<<<<<<< HEAD
   "version": "3.7.1"
=======
   "version": "3.5.2"
>>>>>>> VGG
  }
 },
 "nbformat": 4,
 "nbformat_minor": 2
}
