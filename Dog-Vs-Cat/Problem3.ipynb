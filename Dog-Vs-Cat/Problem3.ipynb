{
 "cells": [
  {
   "cell_type": "code",
   "execution_count": 10,
   "metadata": {},
   "outputs": [],
   "source": [
    "import torch\n",
    "import torch.nn as nn\n",
    "import torch.optim as optim\n",
    "import torch.nn.init as init\n",
    "import torch.nn.functional as F\n",
    "import torchvision\n",
    "import torchvision.transforms\n",
    "import matplotlib.pyplot as plt\n",
    "import numpy as np\n",
    "import glob\n",
    "import pandas as pd\n",
    "from torch.utils.data import DataLoader\n",
    "from torchsummary import summary\n",
    "from IPython.core.debugger import set_trace\n"
   ]
  },
  {
   "cell_type": "markdown",
   "metadata": {},
   "source": [
    "## Configuring sacred "
   ]
  },
  {
   "cell_type": "code",
   "execution_count": 11,
   "metadata": {},
   "outputs": [
    {
     "name": "stdout",
     "output_type": "stream",
     "text": [
      "Dataset ImageFolder\n",
      "    Number of datapoints: 19998\n",
      "    Root Location: ./data/trainset/\n",
      "    Transforms (if any): Compose(\n",
      "                             ToTensor()\n",
      "                         )\n",
      "    Target Transforms (if any): None\n",
      "<torch.utils.data.dataset.Subset object at 0x7ffb9004a940>\n"
     ]
    }
   ],
   "source": [
    "transforms = torchvision.transforms.Compose([torchvision.transforms.ToTensor()])\n",
    "\n",
    "data = torchvision.datasets.ImageFolder(\n",
    "                    root='./data/trainset/',\n",
    "                    transform=transforms\n",
    "                    )\n",
    "\n",
    "test_data = torchvision.datasets.ImageFolder(\n",
    "                    root= './data/test/', \n",
    "                    transform=transforms)\n",
    "\n",
    "dataset_ratio = np.array([95, 5])/100\n",
    "\n",
    "sizes = [int(x*len(data)) for x in dataset_ratio]\n",
    "sizes[0] += len(data) - sum(sizes)\n",
    "\n",
    "train_dataset, valid_dataset = torch.utils.data.random_split(dataset=data, lengths=sizes)\n",
    "\n",
    "train_loader = torch.utils.data.DataLoader(\n",
    "                    train_dataset,\n",
    "                    batch_size=64,\n",
    "                    num_workers=2,\n",
    "                    shuffle=True\n",
    "                    )\n",
    "\n",
    "valid_loader = torch.utils.data.DataLoader(\n",
    "                    valid_dataset,\n",
    "                    batch_size=64,\n",
    "                    num_workers=2,\n",
    "                    shuffle=True\n",
    "                    )\n",
    "\n",
    "test_loader = torch.utils.data.DataLoader(\n",
    "                    test_data,\n",
    "                    batch_size=64,\n",
    "                    num_workers=2,\n",
    "                    shuffle=False\n",
    "                    )\n",
    "print(data)\n",
    "print(valid_dataset)"
   ]
  },
  {
   "cell_type": "code",
   "execution_count": 12,
   "metadata": {},
   "outputs": [
    {
     "name": "stdout",
     "output_type": "stream",
     "text": [
      "True\n"
     ]
    }
   ],
   "source": [
    "cuda_available = torch.cuda.is_available()\n",
    "print(cuda_available)"
   ]
  },
  {
   "cell_type": "markdown",
   "metadata": {},
   "source": [
    "## Hyper-parameters of the model"
   ]
  },
  {
   "cell_type": "code",
   "execution_count": 13,
   "metadata": {},
   "outputs": [],
   "source": [
    "learning_rate = 1e-3\n",
    "lr0 = 0.02\n",
    "optim = 'sgd'\n",
    "num_epochs = 10\n",
    "store_every = 200\n"
   ]
  },
  {
   "cell_type": "markdown",
   "metadata": {},
   "source": [
    "## Defining a residual convolution block to be used in the models"
   ]
  },
  {
   "cell_type": "code",
   "execution_count": 14,
   "metadata": {},
   "outputs": [],
   "source": [
    "class ResidualConv(nn.Module):\n",
    "    def __init__(self, in_channels, out_channels, kernel_size=(3, 3), padding=1, activation = nn.ReLU):\n",
    "        super(ResidualConv, self).__init__()\n",
    "        self.in_channels = in_channels\n",
    "        self.out_channels = out_channels\n",
    "        self.activation = activation\n",
    "        \n",
    "        self.conv1 = nn.Conv2d(in_channels, out_channels, kernel_size=kernel_size)\n",
    "        self.relu1 = nn.ReLU(in_channels)\n",
    "        \n",
    "        self.conv2 = nn.Conv2d(out_channels, out_channels, kernel_size=kernel_size)\n",
    "        self.relu2 = nn.ReLU(in_channels)\n",
    "        \n",
    "        if in_channels != out_channels:\n",
    "#             self.projected_conv = self.conv1x1(in_channels, out_channels)\n",
    "            self.project_linear = nn.Linear(in_channels, out_channels)\n",
    "    def forward(x):\n",
    "        identity = x\n",
    "\n",
    "        out = self.conv1(x)\n",
    "        out = self.relu1(out)\n",
    "\n",
    "        out = self.conv2(out)\n",
    "        if self.in_channels == self.out_channels:\n",
    "            out += identity\n",
    "        else:\n",
    "            out += self.project_linear(identity)\n",
    "        out = self.relu2(out)\n",
    "        \n",
    "    def conv1x1(in_channels, out_channels, stride=1):\n",
    "        \"\"\"1x1 convolution\"\"\"\n",
    "        print()\n",
    "        return nn.Conv2d(in_channels, out_channels, kernel_size=1, stride=stride, bias=False)"
   ]
  },
  {
   "cell_type": "code",
   "execution_count": 15,
   "metadata": {},
   "outputs": [],
   "source": [
    "class ResidualClassifier(nn.Module):\n",
    "    def __init__(self):\n",
    "        super(ResidualClassifier, self).__init__()\n",
    "        self.conv = nn.Sequential(\n",
    "            # Layer 1\n",
    "            ResidualConv(in_channels=3, out_channels=16, kernel_size=(3, 3), padding=1),\n",
    "            nn.ReLU(),\n",
    "            nn.MaxPool2d(kernel_size=(2, 2), stride=2),\n",
    "            \n",
    "            # Layer 2\n",
    "            ResidualConv(in_channels=16, out_channels=32, kernel_size=(3, 3), padding=1),\n",
    "            nn.ReLU(),\n",
    "            nn.MaxPool2d(kernel_size=(2, 2), stride=2),\n",
    "            \n",
    "            # Layer 3\n",
    "            ResidualConv(in_channels=32, out_channels=64, kernel_size=(3, 3), padding=1),\n",
    "            nn.ReLU(),\n",
    "            nn.MaxPool2d(kernel_size=(2, 2), stride=2),\n",
    "            )\n",
    "        # Logistic Regression\n",
    "        self.clf = nn.Linear(64, 2)\n",
    "        \n",
    "        def forward(x):\n",
    "            return self.clf(self.conv(x).squeeze())"
   ]
  },
  {
   "cell_type": "markdown",
   "metadata": {},
   "source": [
    "## Vanila CNN"
   ]
  },
  {
   "cell_type": "code",
   "execution_count": 25,
   "metadata": {},
   "outputs": [],
   "source": [
    "class VanilaCNN(nn.Module):\n",
    "    \"\"\"Convnet Classifier\"\"\"\n",
    "    def __init__(self):\n",
    "        super(VanilaCNN, self).__init__()\n",
    "        self.conv = nn.Sequential(\n",
    "            # Layer 1\n",
    "            nn.Conv2d(in_channels=3, out_channels=16, kernel_size=(3, 3), padding=1),\n",
    "            nn.ReLU(),\n",
    "            nn.MaxPool2d(kernel_size=(2, 2), stride=2),\n",
    "            \n",
    "            # Layer 2\n",
    "            nn.Conv2d(in_channels=16, out_channels=32, kernel_size=(3, 3), padding=1),\n",
    "            nn.ReLU(),\n",
    "            nn.MaxPool2d(kernel_size=(2, 2), stride=2),\n",
    "            \n",
    "            # Layer 3\n",
    "            nn.Conv2d(in_channels=32, out_channels=64, kernel_size=(3, 3), padding=1),\n",
    "            nn.ReLU(),\n",
    "            nn.MaxPool2d(kernel_size=(2, 2), stride=2),\n",
    "            \n",
    "            # Layer 4\n",
    "            nn.Conv2d(in_channels=64, out_channels=128, kernel_size=(3, 3), padding=1),\n",
    "            nn.ReLU(),\n",
    "            nn.MaxPool2d(kernel_size=(2, 2), stride=2),\n",
    "            \n",
    "            # Layer 5\n",
    "            nn.Conv2d(in_channels=128, out_channels=128, kernel_size=(3, 3), padding=1),\n",
    "            nn.ReLU(),\n",
    "            nn.MaxPool2d(kernel_size=(2, 2), stride=2),\n",
    "            \n",
    "            # Layer 6\n",
    "            nn.Conv2d(in_channels=128, out_channels=256, kernel_size=(3, 3), padding=1),\n",
    "            nn.ReLU(),\n",
    "            nn.MaxPool2d(kernel_size=(2, 2), stride=2)\n",
    "        )\n",
    "        # Logistic Regression\n",
    "        self.clf = nn.Linear(256, 2)\n",
    "\n",
    "    def forward(self, x):\n",
    "        return self.clf(self.conv(x).squeeze())"
   ]
  },
  {
   "cell_type": "markdown",
   "metadata": {},
   "source": [
    "## First Implementation"
   ]
  },
  {
   "cell_type": "code",
   "execution_count": 26,
   "metadata": {},
   "outputs": [],
   "source": [
    "classifiers = ['ResidualClassifier', \"VanilaCNN\"]\n",
    "my_classifier = 'VanilaCNN'\n",
    "\n",
    "if my_classifier=='ResidualClassifier':\n",
    "    model = ResidualClassifier()\n",
    "elif my_classifier=='VanilaCNN':\n",
    "    model = VanilaCNN() \n",
    "    \n",
    "if cuda_available:\n",
    "    model = model.cuda()\n",
    "if optim == 'sgd':\n",
    "    optimizer = torch.optim.SGD(model.parameters(), lr=learning_rate)\n",
    "elif optim == 'adam':\n",
    "    optimizer = torch.optim.Adam(model.parameters(), lr=learning_rate)\n",
    "criterion = nn.CrossEntropyLoss()"
   ]
  },
  {
   "cell_type": "code",
   "execution_count": 27,
   "metadata": {},
   "outputs": [
    {
     "name": "stdout",
     "output_type": "stream",
     "text": [
      "VanilaCNN(\n",
      "  (conv): Sequential(\n",
      "    (0): Conv2d(3, 16, kernel_size=(3, 3), stride=(1, 1), padding=(1, 1))\n",
      "    (1): ReLU()\n",
      "    (2): MaxPool2d(kernel_size=(2, 2), stride=2, padding=0, dilation=1, ceil_mode=False)\n",
      "    (3): Conv2d(16, 32, kernel_size=(3, 3), stride=(1, 1), padding=(1, 1))\n",
      "    (4): ReLU()\n",
      "    (5): MaxPool2d(kernel_size=(2, 2), stride=2, padding=0, dilation=1, ceil_mode=False)\n",
      "    (6): Conv2d(32, 64, kernel_size=(3, 3), stride=(1, 1), padding=(1, 1))\n",
      "    (7): ReLU()\n",
      "    (8): MaxPool2d(kernel_size=(2, 2), stride=2, padding=0, dilation=1, ceil_mode=False)\n",
      "    (9): Conv2d(64, 128, kernel_size=(3, 3), stride=(1, 1), padding=(1, 1))\n",
      "    (10): ReLU()\n",
      "    (11): MaxPool2d(kernel_size=(2, 2), stride=2, padding=0, dilation=1, ceil_mode=False)\n",
      "    (12): Conv2d(128, 128, kernel_size=(3, 3), stride=(1, 1), padding=(1, 1))\n",
      "    (13): ReLU()\n",
      "    (14): MaxPool2d(kernel_size=(2, 2), stride=2, padding=0, dilation=1, ceil_mode=False)\n",
      "    (15): Conv2d(128, 256, kernel_size=(3, 3), stride=(1, 1), padding=(1, 1))\n",
      "    (16): ReLU()\n",
      "    (17): MaxPool2d(kernel_size=(2, 2), stride=2, padding=0, dilation=1, ceil_mode=False)\n",
      "  )\n",
      "  (clf): Linear(in_features=256, out_features=2, bias=True)\n",
      ")\n"
     ]
    }
   ],
   "source": [
    "print(model)"
   ]
  },
  {
   "cell_type": "code",
   "execution_count": 29,
   "metadata": {},
   "outputs": [
    {
     "name": "stdout",
     "output_type": "stream",
     "text": [
      "----------------------------------------------------------------\n",
      "        Layer (type)               Output Shape         Param #\n",
      "================================================================\n",
      "            Conv2d-1           [-1, 16, 64, 64]             448\n",
      "              ReLU-2           [-1, 16, 64, 64]               0\n",
      "         MaxPool2d-3           [-1, 16, 32, 32]               0\n",
      "            Conv2d-4           [-1, 32, 32, 32]           4,640\n",
      "              ReLU-5           [-1, 32, 32, 32]               0\n",
      "         MaxPool2d-6           [-1, 32, 16, 16]               0\n",
      "            Conv2d-7           [-1, 64, 16, 16]          18,496\n",
      "              ReLU-8           [-1, 64, 16, 16]               0\n",
      "         MaxPool2d-9             [-1, 64, 8, 8]               0\n",
      "           Conv2d-10            [-1, 128, 8, 8]          73,856\n",
      "             ReLU-11            [-1, 128, 8, 8]               0\n",
      "        MaxPool2d-12            [-1, 128, 4, 4]               0\n",
      "           Conv2d-13            [-1, 128, 4, 4]         147,584\n",
      "             ReLU-14            [-1, 128, 4, 4]               0\n",
      "        MaxPool2d-15            [-1, 128, 2, 2]               0\n",
      "           Conv2d-16            [-1, 256, 2, 2]         295,168\n",
      "             ReLU-17            [-1, 256, 2, 2]               0\n",
      "        MaxPool2d-18            [-1, 256, 1, 1]               0\n",
      "           Linear-19                    [-1, 2]             514\n",
      "================================================================\n",
      "Total params: 540,706\n",
      "Trainable params: 540,706\n",
      "Non-trainable params: 0\n",
      "----------------------------------------------------------------\n",
      "Input size (MB): 0.05\n",
      "Forward/backward pass size (MB): 2.16\n",
      "Params size (MB): 2.06\n",
      "Estimated Total Size (MB): 4.27\n",
      "----------------------------------------------------------------\n"
     ]
    }
   ],
   "source": [
    "summary(model, input_size=(3,64,64))"
   ]
  },
  {
   "cell_type": "markdown",
   "metadata": {},
   "source": [
    "## Second implementation"
   ]
  },
  {
   "cell_type": "code",
   "execution_count": 40,
   "metadata": {},
   "outputs": [
    {
     "name": "stdout",
     "output_type": "stream",
     "text": [
      " Iteration 40: TRAIN 0.6931672602891922\n",
      " Iteration 80: TRAIN 0.6931306034326553\n",
      " Iteration 120: TRAIN 0.6931283667683601\n",
      " Iteration 160: TRAIN 0.6931519761681557\n",
      " Iteration 200: TRAIN 0.6931027501821518\n",
      " [NLL] TRAIN 0.6931245642822976 / TEST 0.6921843023962153\n",
      " [ACC] TRAIN 0.5020790567595216 / TEST 0.487487488561445\n",
      " Iteration 240: TRAIN 0.693105348944664\n",
      " Iteration 280: TRAIN 0.6931397780776024\n",
      " Iteration 320: TRAIN 0.6931013405346393\n",
      " Iteration 360: TRAIN 0.6932356342673301\n",
      " Iteration 400: TRAIN 0.6931977987289428\n",
      " [NLL] TRAIN 0.6931030208785017 / TEST 0.6912479564580328\n",
      " [ACC] TRAIN 0.5009211011356828 / TEST 0.48248248355644\n",
      " Iteration 440: TRAIN 0.693188700079918\n",
      " Iteration 480: TRAIN 0.6931482151150703\n",
      " Iteration 520: TRAIN 0.693130812048912\n",
      " Iteration 560: TRAIN 0.6931709215044976\n",
      " Iteration 600: TRAIN 0.6931498613791203\n",
      " [NLL] TRAIN 0.6930799737052671 / TEST 0.6959333757110346\n",
      " [ACC] TRAIN 0.49907889890823876 / TEST 0.5175175186511394\n",
      " Iteration 640: TRAIN 0.6930971443653107\n",
      " Iteration 680: TRAIN 0.6931544333696366\n",
      " Iteration 720: TRAIN 0.6930907845497132\n",
      " Iteration 760: TRAIN 0.6931211993098259\n",
      " Iteration 800: TRAIN 0.6930084690451622\n",
      " [NLL] TRAIN 0.6930745503696506 / TEST 0.6841051314420332\n",
      " [ACC] TRAIN 0.5009211010352908 / TEST 0.48248248281063616\n",
      " Iteration 840: TRAIN 0.6932017460465432\n",
      " Iteration 880: TRAIN 0.6931126579642296\n",
      " Iteration 920: TRAIN 0.6930903217363525\n",
      " Iteration 960: TRAIN 0.6930082708597183\n",
      " Iteration 1000: TRAIN 0.6929324686527252\n",
      " [NLL] TRAIN 0.6931075497020941 / TEST 0.704005264549118\n",
      " [ACC] TRAIN 0.499078898936474 / TEST 0.5175175184124822\n",
      " Iteration 1040: TRAIN 0.6932803526520729\n",
      " Iteration 1080: TRAIN 0.6930673390626907\n",
      " Iteration 1120: TRAIN 0.6930192947387696\n",
      " Iteration 1160: TRAIN 0.693069826066494\n",
      " Iteration 1200: TRAIN 0.6930792112529909\n",
      " [NLL] TRAIN 0.6930143721380123 / TEST 0.6922989638835627\n",
      " [ACC] TRAIN 0.5343439128563413 / TEST 0.5315315326651534\n",
      " Iteration 1240: TRAIN 0.6930709764361381\n",
      " Iteration 1280: TRAIN 0.6930392250418663\n",
      " Iteration 1320: TRAIN 0.6930515423417092\n",
      " Iteration 1360: TRAIN 0.6930174678564072\n",
      " Iteration 1400: TRAIN 0.6930776923894882\n",
      " [NLL] TRAIN 0.6930030674688176 / TEST 0.690949426111781\n",
      " [ACC] TRAIN 0.5009737355068198 / TEST 0.48248248257197895\n",
      " Iteration 1440: TRAIN 0.692918187379837\n",
      " Iteration 1480: TRAIN 0.6930597305297852\n",
      " Iteration 1520: TRAIN 0.6930580389868835\n",
      " Iteration 1560: TRAIN 0.6930380880832672\n",
      " Iteration 1600: TRAIN 0.6929989278316497\n",
      " [NLL] TRAIN 0.6929983665920683 / TEST 0.6882700276246045\n",
      " [ACC] TRAIN 0.5009211010996044 / TEST 0.48248248257197895\n",
      " Iteration 1640: TRAIN 0.6929598152637482\n",
      " Iteration 1680: TRAIN 0.6931108072400093\n",
      " Iteration 1720: TRAIN 0.6929890140891075\n",
      " Iteration 1760: TRAIN 0.6930512592196465\n",
      " Iteration 1800: TRAIN 0.6929881708708897\n",
      " [NLL] TRAIN 0.6929873878394022 / TEST 0.6891728725450519\n",
      " [ACC] TRAIN 0.5009211010776436 / TEST 0.4824824827509719\n",
      " Iteration 1840: TRAIN 0.6928938001394271\n",
      " Iteration 1880: TRAIN 0.6931421622633934\n",
      " Iteration 1920: TRAIN 0.6929964885115624\n",
      " Iteration 1960: TRAIN 0.6930226340889931\n",
      " Iteration 2000: TRAIN 0.69301388412714\n",
      " [NLL] TRAIN 0.6929797830471986 / TEST 0.6930548976268451\n",
      " [ACC] TRAIN 0.5783988630886461 / TEST 0.5555555565698488\n",
      " Iteration 2040: TRAIN 0.6929939821362495\n",
      " Iteration 2080: TRAIN 0.6929810471461829\n",
      " Iteration 2120: TRAIN 0.6930140137672425\n",
      " Iteration 2160: TRAIN 0.6929989755153656\n",
      " Iteration 2200: TRAIN 0.6930417507886887\n",
      " [NLL] TRAIN 0.6929760890149074 / TEST 0.694065217793906\n",
      " [ACC] TRAIN 0.5497131427154208 / TEST 0.5505505513858509\n",
      " Iteration 2240: TRAIN 0.6929795309901238\n",
      " Iteration 2280: TRAIN 0.6929697468876839\n",
      " Iteration 2320: TRAIN 0.6929629132151603\n",
      " Iteration 2360: TRAIN 0.6929800406098365\n",
      " Iteration 2400: TRAIN 0.6929737701457138\n",
      " [NLL] TRAIN 0.6929675213938871 / TEST 0.6903688021601856\n",
      " [ACC] TRAIN 0.5010263697336432 / TEST 0.48248248263164323\n",
      " Iteration 2440: TRAIN 0.6929116666316986\n",
      " Iteration 2480: TRAIN 0.6930708110332489\n",
      " Iteration 2520: TRAIN 0.6930060222744941\n",
      " Iteration 2560: TRAIN 0.6929839998483658\n",
      " Iteration 2600: TRAIN 0.6928325966000557\n",
      " [NLL] TRAIN 0.6929678853244943 / TEST 0.6882160187339897\n",
      " [ACC] TRAIN 0.5009211010352908 / TEST 0.48248248355644\n",
      " Iteration 2640: TRAIN 0.6929958403110504\n",
      " Iteration 2680: TRAIN 0.6930405063659058\n",
      " Iteration 2720: TRAIN 0.6930045023560524\n",
      " Iteration 2760: TRAIN 0.6928838908672332\n",
      " Iteration 2800: TRAIN 0.6930173158645629\n",
      " [NLL] TRAIN 0.6929594295245358 / TEST 0.6903389338064871\n",
      " [ACC] TRAIN 0.501026369848153 / TEST 0.48248248257197895\n",
      " Iteration 2840: TRAIN 0.6930214881896972\n",
      " Iteration 2880: TRAIN 0.6929937779903412\n",
      " Iteration 2920: TRAIN 0.6929778248071671\n",
      " Iteration 2960: TRAIN 0.6929563373327255\n",
      "Done...\n"
     ]
    }
   ],
   "source": [
    "class Trainer2():\n",
    "    def __init__(self,  model, optimizer, criterion, train_loader, valid_loader):\n",
    "        super(Trainer2, self).__init__()\n",
    "        self.model = model\n",
    "        self.optimizer = optimizer\n",
    "        self.criterion = criterion\n",
    "        self.train_loader = train_loader\n",
    "        self.valid_loader = valid_loader\n",
    "        \n",
    "    def evaluate(self, dataset_loader, criterion):\n",
    "        LOSSES = 0\n",
    "        COUNTER = 0\n",
    "        for batch in dataset_loader:\n",
    "            optimizer.zero_grad()\n",
    "\n",
    "            x, y = batch\n",
    "    #             x = x.view(-1,1,28,28)\n",
    "            y = y.view(-1)\n",
    "            if cuda_available:\n",
    "                x = x.cuda()\n",
    "                y = y.cuda()\n",
    "\n",
    "            loss = criterion(model(x), y)\n",
    "            n = y.size(0)\n",
    "            LOSSES += loss.sum().data.cpu().numpy() * n\n",
    "            COUNTER += n\n",
    "\n",
    "        return LOSSES / float(COUNTER)\n",
    "    \n",
    "    def accuracy(self, proba, y):\n",
    "        correct = torch.eq(proba.max(1)[1], y).sum().type(torch.FloatTensor)\n",
    "        return correct / y.size(0)\n",
    "    \n",
    "    def adjust_lr(self, optimizer, epoch, total_epochs):\n",
    "        lr = lr0 * (0.1 ** (epoch / float(total_epochs)))\n",
    "        for param_group in optimizer.param_groups:\n",
    "            param_group['lr'] = lr\n",
    "            \n",
    "    def train_model(self):\n",
    "        LOSSES = 0\n",
    "        COUNTER = 0\n",
    "        ITERATIONS = 0\n",
    "        learning_curve_nll_train = list()\n",
    "        learning_curve_nll_test = list()\n",
    "        learning_curve_acc_train = list()\n",
    "        learning_curve_acc_test = list()\n",
    "        for e in range(num_epochs):\n",
    "            for batch in train_loader:\n",
    "                optimizer.zero_grad()\n",
    "                x, y = batch\n",
    "    #             x = x.view(-1,1,28,28)\n",
    "                y = y.view(-1)\n",
    "                if cuda_available:\n",
    "                    x = x.cuda()\n",
    "                    y = y.cuda()\n",
    "                loss = criterion(model(x), y)\n",
    "                loss.backward()\n",
    "                optimizer.step()\n",
    "\n",
    "                n = y.size(0)\n",
    "                LOSSES += loss.sum().data.cpu().numpy() * n\n",
    "                COUNTER += n\n",
    "                ITERATIONS += 1\n",
    "                if ITERATIONS%(store_every/5) == 0:\n",
    "                    avg_loss = LOSSES / float(COUNTER)\n",
    "                    LOSSES = 0\n",
    "                    COUNTER = 0\n",
    "                    print(\" Iteration {}: TRAIN {}\".format(\n",
    "                        ITERATIONS, avg_loss))\n",
    "\n",
    "                if ITERATIONS%(store_every) == 0:     \n",
    "\n",
    "                    train_loss = self.evaluate(train_loader, criterion)\n",
    "                    learning_curve_nll_train.append(train_loss)\n",
    "                    test_loss = self.evaluate(test_loader, criterion)\n",
    "                    learning_curve_nll_test.append(test_loss)\n",
    "\n",
    "                    train_acc = self.evaluate(train_loader, self.accuracy)\n",
    "                    learning_curve_acc_train.append(train_acc)\n",
    "                    test_acc = self.evaluate(valid_loader, self.accuracy)\n",
    "                    learning_curve_acc_test.append(test_acc)\n",
    "\n",
    "                    print(\" [NLL] TRAIN {} / TEST {}\".format(\n",
    "                        train_loss, test_loss))\n",
    "                    print(\" [ACC] TRAIN {} / TEST {}\".format(\n",
    "                        train_acc, test_acc))\n",
    "\n",
    "            self.adjust_lr(optimizer, e+1, num_epochs)\n",
    "\n",
    "        return learning_curve_nll_train, \\\n",
    "               learning_curve_nll_test, \\\n",
    "               learning_curve_acc_train, \\\n",
    "               learning_curve_acc_test, \n",
    "    \n",
    "trainer = Trainer2(model, optimizer, criterion, train_loader, valid_loader)\n",
    "nll_train, nll_test, acc_train, acc_test =  trainer.train_model()\n",
    "print('Done...')"
   ]
  },
  {
   "cell_type": "code",
   "execution_count": 41,
   "metadata": {},
   "outputs": [
    {
     "name": "stdout",
     "output_type": "stream",
     "text": [
      "14\n"
     ]
    },
    {
     "data": {
      "image/png": "[encoded data removed]",
      "text/plain": [
       "<Figure size 432x288 with 1 Axes>"
      ]
     },
     "metadata": {
      "needs_background": "light"
     },
     "output_type": "display_data"
    },
    {
     "data": {
      "image/png": "[encoded data removed]",
      "text/plain": [
       "<Figure size 432x288 with 1 Axes>"
      ]
     },
     "metadata": {
      "needs_background": "light"
     },
     "output_type": "display_data"
    }
   ],
   "source": [
    "print(len(acc_train))\n",
    "plt.figure(1)\n",
    "plt.plot(range(len(nll_train)), nll_train, label=\"NLL train\" )\n",
    "plt.plot(range(len(nll_test)), nll_test,   label=\"NLL test\" )\n",
    "plt.figure(2)\n",
    "plt.plot(range(len(acc_train)), acc_train, label=\"Accuracy train\" )\n",
    "plt.plot(range(len(acc_test)), acc_test,   label=\"Accuracy test\" )\n",
    "plt.legend()\n",
    "plt.show()"
   ]
  },
  {
   "cell_type": "markdown",
   "metadata": {},
   "source": [
    "## Evaluating of testset "
   ]
  },
  {
   "cell_type": "code",
   "execution_count": null,
   "metadata": {},
   "outputs": [],
   "source": [
    "results = [[]]\n",
    "for batch_idx, (inputs, targets) in enumerate(test_loader):\n",
    "    if cuda_available:\n",
    "        inputs, targets = inputs.cuda(), targets.cuda()\n",
    "    outputs = clf(inputs)\n",
    "    _, predicted = torch.max(outputs.data, 1)\n",
    "    results = np.append(results, predicted.cpu().numpy())\n",
    "\n",
    "results = np.int8(results)"
   ]
  },
  {
   "cell_type": "markdown",
   "metadata": {},
   "source": [
    "## Creating submission csv file"
   ]
  },
  {
   "cell_type": "code",
   "execution_count": null,
   "metadata": {},
   "outputs": [],
   "source": [
    "df = pd.DataFrame({ 'id': range(1, len(results)+1),\n",
    "                    'label': results})\n",
    "df['label'].replace([0,1], ['Cat','Dog'], inplace=True)\n",
    "df[df.columns].to_csv('submisstion.csv',index=False)\n",
    "print('Done...')"
   ]
  },
  {
   "cell_type": "code",
   "execution_count": null,
   "metadata": {},
   "outputs": [],
   "source": [
    "     "
   ]
  },
  {
   "cell_type": "code",
   "execution_count": null,
   "metadata": {},
   "outputs": [],
   "source": [
    "def trainer1():\n",
    "    for epoch in range(epoches):\n",
    "        losses = []\n",
    "        # Train\n",
    "        for batch_idx, (inputs, targets) in enumerate(train_loader):\n",
    "            if cuda_available:\n",
    "                inputs, targets = inputs.cuda(), targets.cuda()\n",
    "            optimizer.zero_grad()\n",
    "\n",
    "            outputs = model(inputs)\n",
    "            loss = criterion(outputs, targets)\n",
    "            loss.backward()\n",
    "            optimizer.step()\n",
    "\n",
    "            losses.append(loss.data.item())\n",
    "\n",
    "\n",
    "            if batch_idx%50==0:\n",
    "                print('Epoch : %d Loss : %.3f ' % (epoch, np.mean(losses)))\n",
    "\n",
    "        # Evaluate\n",
    "        model.eval()\n",
    "        total = 0\n",
    "        correct = 0\n",
    "        for batch_idx, (inputs, targets) in enumerate(valid_loader):\n",
    "            if cuda_available:\n",
    "                inputs, targets = inputs.cuda(), targets.cuda()\n",
    "\n",
    "            outputs = model(inputs)\n",
    "            loss = criterion(outputs, targets)\n",
    "\n",
    "            _, predicted = torch.max(outputs.data, 1)\n",
    "            total += targets.size(0)\n",
    "            correct += predicted.eq(targets.data).cpu().sum()\n",
    "\n",
    "        print('Epoch : %d Test Acc : %.3f' % (epoch, 100.*correct/total))\n",
    "        print('--------------------------------------------------------------')\n",
    "        model.train()\n",
    "    print('Done...')\n",
    "\n",
    "trainer1()"
   ]
  },
  {
   "cell_type": "code",
   "execution_count": null,
   "metadata": {},
   "outputs": [],
   "source": []
  }
 ],
 "metadata": {
  "kernelspec": {
   "display_name": "Python 3",
   "language": "python",
   "name": "python3"
  },
  "language_info": {
   "codemirror_mode": {
    "name": "ipython",
    "version": 3
   },
   "file_extension": ".py",
   "mimetype": "text/x-python",
   "name": "python",
   "nbconvert_exporter": "python",
   "pygments_lexer": "ipython3",
   "version": "3.7.1"
  }
 },
 "nbformat": 4,
 "nbformat_minor": 2
}
