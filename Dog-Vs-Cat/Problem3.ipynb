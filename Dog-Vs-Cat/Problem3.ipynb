{
 "cells": [
  {
   "cell_type": "code",
   "execution_count": 1,
   "metadata": {},
   "outputs": [],
   "source": [
    "import torch\n",
    "import torch.nn as nn\n",
    "import torch.optim as optim\n",
    "import torch.nn.init as init\n",
    "import torch.nn.functional as F\n",
    "import torchvision\n",
    "import torchvision.transforms\n",
    "import matplotlib.pyplot as plt\n",
    "import numpy as np\n",
    "import glob\n",
    "import pandas as pd\n",
    "from torch.utils.data import DataLoader\n",
    "from torchsummary import summary\n",
    "from IPython.core.debugger import set_trace\n"
   ]
  },
  {
   "cell_type": "markdown",
   "metadata": {},
   "source": [
    "## Configuring sacred "
   ]
  },
  {
   "cell_type": "code",
   "execution_count": 2,
   "metadata": {},
   "outputs": [
    {
     "name": "stdout",
     "output_type": "stream",
     "text": [
      "Dataset ImageFolder\n",
      "    Number of datapoints: 19998\n",
      "    Root Location: ./data/trainset/\n",
      "    Transforms (if any): Compose(\n",
      "                             ToTensor()\n",
      "                         )\n",
      "    Target Transforms (if any): None\n",
      "<torch.utils.data.dataset.Subset object at 0x7fd58c701ac8>\n"
     ]
    }
   ],
   "source": [
    "transforms = torchvision.transforms.Compose([torchvision.transforms.ToTensor()])\n",
    "\n",
    "data = torchvision.datasets.ImageFolder(\n",
    "                    root='./data/trainset/',\n",
    "                    transform=transforms\n",
    "                    )\n",
    "\n",
    "test_data = torchvision.datasets.ImageFolder(\n",
    "                    root= './data/test/', \n",
    "                    transform=transforms)\n",
    "\n",
    "dataset_ratio = np.array([95, 5])/100\n",
    "\n",
    "sizes = [int(x*len(data)) for x in dataset_ratio]\n",
    "sizes[0] += len(data) - sum(sizes)\n",
    "\n",
    "train_dataset, valid_dataset = torch.utils.data.random_split(dataset=data, lengths=sizes)\n",
    "\n",
    "train_loader = torch.utils.data.DataLoader(\n",
    "                    train_dataset,\n",
    "                    batch_size=64,\n",
    "                    num_workers=2,\n",
    "                    shuffle=True\n",
    "                    )\n",
    "\n",
    "valid_loader = torch.utils.data.DataLoader(\n",
    "                    valid_dataset,\n",
    "                    batch_size=64,\n",
    "                    num_workers=2,\n",
    "                    shuffle=True\n",
    "                    )\n",
    "\n",
    "test_loader = torch.utils.data.DataLoader(\n",
    "                    test_data,\n",
    "                    batch_size=64,\n",
    "                    num_workers=2,\n",
    "                    shuffle=False\n",
    "                    )\n",
    "print(data)\n",
    "print(valid_dataset)"
   ]
  },
  {
   "cell_type": "code",
   "execution_count": 3,
   "metadata": {},
   "outputs": [
    {
     "name": "stdout",
     "output_type": "stream",
     "text": [
      "True\n"
     ]
    }
   ],
   "source": [
    "cuda_available = torch.cuda.is_available()\n",
    "print(cuda_available)"
   ]
  },
  {
   "cell_type": "markdown",
   "metadata": {},
   "source": [
    "## Hyper-parameters of the model"
   ]
  },
  {
   "cell_type": "code",
   "execution_count": null,
   "metadata": {},
   "outputs": [],
   "source": [
    "learning_rate = 1e-3\n",
    "lr0 = 0.002\n",
    "optim = 'adam'\n",
    "num_epochs = 10\n",
    "store_every = 200"
   ]
  },
  {
   "cell_type": "markdown",
   "metadata": {},
   "source": [
    "## Defining a residual convolution block to be used in the models"
   ]
  },
  {
   "cell_type": "code",
   "execution_count": 5,
   "metadata": {},
   "outputs": [],
   "source": [
    "class ResidualConv(nn.Module):\n",
    "    def __init__(self, in_channels, out_channels, kernel_size=(3, 3), padding=1, activation = nn.ReLU):\n",
    "        super(ResidualConv, self).__init__()\n",
    "        self.in_channels = in_channels\n",
    "        self.out_channels = out_channels\n",
    "        self.activation = activation\n",
    "        \n",
    "        self.conv1 = nn.Conv2d(in_channels, out_channels, kernel_size=kernel_size)\n",
    "        self.relu1 = nn.ReLU(in_channels)\n",
    "        \n",
    "        self.conv2 = nn.Conv2d(out_channels, out_channels, kernel_size=kernel_size)\n",
    "        self.relu2 = nn.ReLU(in_channels)\n",
    "        \n",
    "        if in_channels != out_channels:\n",
    "#             self.projected_conv = self.conv1x1(in_channels, out_channels)\n",
    "            self.project_linear = nn.Linear(in_channels, out_channels)\n",
    "    def forward(x):\n",
    "        identity = x\n",
    "\n",
    "        out = self.conv1(x)\n",
    "        out = self.relu1(out)\n",
    "\n",
    "        out = self.conv2(out)\n",
    "        if self.in_channels == self.out_channels:\n",
    "            out += identity\n",
    "        else:\n",
    "            out += self.project_linear(identity)\n",
    "        out = self.relu2(out)\n",
    "        \n",
    "    def conv1x1(in_channels, out_channels, stride=1):\n",
    "        \"\"\"1x1 convolution\"\"\"\n",
    "        print()\n",
    "        return nn.Conv2d(in_channels, out_channels, kernel_size=1, stride=stride, bias=False)"
   ]
  },
  {
   "cell_type": "code",
   "execution_count": 6,
   "metadata": {},
   "outputs": [],
   "source": [
    "class ResidualClassifier(nn.Module):\n",
    "    def __init__(self):\n",
    "        super(ResidualClassifier, self).__init__()\n",
    "        self.conv = nn.Sequential(\n",
    "            # Layer 1\n",
    "            ResidualConv(in_channels=3, out_channels=16, kernel_size=(3, 3), padding=1),\n",
    "            nn.ReLU(),\n",
    "            nn.MaxPool2d(kernel_size=(2, 2), stride=2),\n",
    "            \n",
    "            # Layer 2\n",
    "            ResidualConv(in_channels=16, out_channels=32, kernel_size=(3, 3), padding=1),\n",
    "            nn.ReLU(),\n",
    "            nn.MaxPool2d(kernel_size=(2, 2), stride=2),\n",
    "            \n",
    "            # Layer 3\n",
    "            ResidualConv(in_channels=32, out_channels=64, kernel_size=(3, 3), padding=1),\n",
    "            nn.ReLU(),\n",
    "            nn.MaxPool2d(kernel_size=(2, 2), stride=2),\n",
    "            )\n",
    "        # Logistic Regression\n",
    "        self.clf = nn.Linear(64, 2)\n",
    "        \n",
    "        def forward(x):\n",
    "            return self.clf(self.conv(x).squeeze())"
   ]
  },
  {
   "cell_type": "markdown",
   "metadata": {},
   "source": [
    "## Vanila CNN"
   ]
  },
  {
   "cell_type": "code",
   "execution_count": 7,
   "metadata": {},
   "outputs": [],
   "source": [
    "class VanilaCNN(nn.Module):\n",
    "    \"\"\"Convnet Classifier\"\"\"\n",
    "    def __init__(self):\n",
    "        super(VanilaCNN, self).__init__()\n",
    "        self.conv = nn.Sequential(\n",
    "            # Layer 1\n",
    "            nn.Conv2d(in_channels=3, out_channels=16, kernel_size=(3, 3), padding=1),\n",
    "            nn.ReLU(),\n",
    "            nn.MaxPool2d(kernel_size=(2, 2), stride=2),\n",
    "            \n",
    "            # Layer 2\n",
    "            nn.Conv2d(in_channels=16, out_channels=32, kernel_size=(3, 3), padding=1),\n",
    "            nn.ReLU(),\n",
    "            nn.MaxPool2d(kernel_size=(2, 2), stride=2),\n",
    "            \n",
    "            # Layer 3\n",
    "            nn.Conv2d(in_channels=32, out_channels=64, kernel_size=(3, 3), padding=1),\n",
    "            nn.ReLU(),\n",
    "            nn.MaxPool2d(kernel_size=(2, 2), stride=2),\n",
    "            \n",
    "            # Layer 4\n",
    "            nn.Conv2d(in_channels=64, out_channels=128, kernel_size=(3, 3), padding=1),\n",
    "            nn.ReLU(),\n",
    "            nn.MaxPool2d(kernel_size=(2, 2), stride=2),\n",
    "            \n",
    "            # Layer 5\n",
    "            nn.Conv2d(in_channels=128, out_channels=128, kernel_size=(3, 3), padding=1),\n",
    "            nn.ReLU(),\n",
    "            nn.MaxPool2d(kernel_size=(2, 2), stride=2),\n",
    "            \n",
    "            # Layer 6\n",
    "            nn.Conv2d(in_channels=128, out_channels=256, kernel_size=(3, 3), padding=1),\n",
    "            nn.ReLU(),\n",
    "            nn.MaxPool2d(kernel_size=(2, 2), stride=2)\n",
    "        )\n",
    "        # Logistic Regression\n",
    "        self.clf = nn.Linear(256, 2)\n",
    "\n",
    "    def forward(self, x):\n",
    "        return self.clf(self.conv(x).squeeze())"
   ]
  },
  {
   "cell_type": "markdown",
   "metadata": {},
   "source": [
    "## First Implementation"
   ]
  },
  {
   "cell_type": "code",
   "execution_count": 8,
   "metadata": {},
   "outputs": [],
   "source": [
    "classifiers = ['ResidualClassifier', \"VanilaCNN\"]\n",
    "my_classifier = 'VanilaCNN'\n",
    "\n",
    "if my_classifier=='ResidualClassifier':\n",
    "    model = ResidualClassifier()\n",
    "elif my_classifier=='VanilaCNN':\n",
    "    model = VanilaCNN() \n",
    "    \n",
    "if cuda_available:\n",
    "    model = model.cuda()\n",
    "if optim == 'sgd':\n",
    "    optimizer = torch.optim.SGD(model.parameters(), lr=learning_rate)\n",
    "elif optim == 'adam':\n",
    "    optimizer = torch.optim.Adam(model.parameters(), lr=learning_rate)\n",
    "criterion = nn.CrossEntropyLoss()"
   ]
  },
  {
   "cell_type": "code",
   "execution_count": 9,
   "metadata": {},
   "outputs": [
    {
     "name": "stdout",
     "output_type": "stream",
     "text": [
      "VanilaCNN(\n",
      "  (conv): Sequential(\n",
      "    (0): Conv2d(3, 16, kernel_size=(3, 3), stride=(1, 1), padding=(1, 1))\n",
      "    (1): ReLU()\n",
      "    (2): MaxPool2d(kernel_size=(2, 2), stride=2, padding=0, dilation=1, ceil_mode=False)\n",
      "    (3): Conv2d(16, 32, kernel_size=(3, 3), stride=(1, 1), padding=(1, 1))\n",
      "    (4): ReLU()\n",
      "    (5): MaxPool2d(kernel_size=(2, 2), stride=2, padding=0, dilation=1, ceil_mode=False)\n",
      "    (6): Conv2d(32, 64, kernel_size=(3, 3), stride=(1, 1), padding=(1, 1))\n",
      "    (7): ReLU()\n",
      "    (8): MaxPool2d(kernel_size=(2, 2), stride=2, padding=0, dilation=1, ceil_mode=False)\n",
      "    (9): Conv2d(64, 128, kernel_size=(3, 3), stride=(1, 1), padding=(1, 1))\n",
      "    (10): ReLU()\n",
      "    (11): MaxPool2d(kernel_size=(2, 2), stride=2, padding=0, dilation=1, ceil_mode=False)\n",
      "    (12): Conv2d(128, 128, kernel_size=(3, 3), stride=(1, 1), padding=(1, 1))\n",
      "    (13): ReLU()\n",
      "    (14): MaxPool2d(kernel_size=(2, 2), stride=2, padding=0, dilation=1, ceil_mode=False)\n",
      "    (15): Conv2d(128, 256, kernel_size=(3, 3), stride=(1, 1), padding=(1, 1))\n",
      "    (16): ReLU()\n",
      "    (17): MaxPool2d(kernel_size=(2, 2), stride=2, padding=0, dilation=1, ceil_mode=False)\n",
      "  )\n",
      "  (clf): Linear(in_features=256, out_features=2, bias=True)\n",
      ")\n"
     ]
    }
   ],
   "source": [
    "print(model)"
   ]
  },
  {
   "cell_type": "code",
   "execution_count": 10,
   "metadata": {},
   "outputs": [
    {
     "name": "stdout",
     "output_type": "stream",
     "text": [
      "----------------------------------------------------------------\n",
      "        Layer (type)               Output Shape         Param #\n",
      "================================================================\n",
      "            Conv2d-1           [-1, 16, 64, 64]             448\n",
      "              ReLU-2           [-1, 16, 64, 64]               0\n",
      "         MaxPool2d-3           [-1, 16, 32, 32]               0\n",
      "            Conv2d-4           [-1, 32, 32, 32]           4,640\n",
      "              ReLU-5           [-1, 32, 32, 32]               0\n",
      "         MaxPool2d-6           [-1, 32, 16, 16]               0\n",
      "            Conv2d-7           [-1, 64, 16, 16]          18,496\n",
      "              ReLU-8           [-1, 64, 16, 16]               0\n",
      "         MaxPool2d-9             [-1, 64, 8, 8]               0\n",
      "           Conv2d-10            [-1, 128, 8, 8]          73,856\n",
      "             ReLU-11            [-1, 128, 8, 8]               0\n",
      "        MaxPool2d-12            [-1, 128, 4, 4]               0\n",
      "           Conv2d-13            [-1, 128, 4, 4]         147,584\n",
      "             ReLU-14            [-1, 128, 4, 4]               0\n",
      "        MaxPool2d-15            [-1, 128, 2, 2]               0\n",
      "           Conv2d-16            [-1, 256, 2, 2]         295,168\n",
      "             ReLU-17            [-1, 256, 2, 2]               0\n",
      "        MaxPool2d-18            [-1, 256, 1, 1]               0\n",
      "           Linear-19                    [-1, 2]             514\n",
      "================================================================\n",
      "Total params: 540,706\n",
      "Trainable params: 540,706\n",
      "Non-trainable params: 0\n",
      "----------------------------------------------------------------\n",
      "Input size (MB): 0.05\n",
      "Forward/backward pass size (MB): 2.16\n",
      "Params size (MB): 2.06\n",
      "Estimated Total Size (MB): 4.27\n",
      "----------------------------------------------------------------\n"
     ]
    }
   ],
   "source": [
    "summary(model, input_size=(3,64,64))"
   ]
  },
  {
   "cell_type": "markdown",
   "metadata": {},
   "source": [
    "## Second implementation"
   ]
  },
  {
   "cell_type": "code",
   "execution_count": null,
   "metadata": {},
   "outputs": [],
   "source": [
    "class Trainer2():\n",
    "    def __init__(self,  model, optimizer, criterion, train_loader, valid_loader, test_loader):\n",
    "        super(Trainer2, self).__init__()\n",
    "        self.model = model\n",
    "        self.optimizer = optimizer\n",
    "        self.criterion = criterion\n",
    "        self.train_loader = train_loader\n",
    "        self.valid_loader = valid_loader\n",
    "        self.test_loader = test_loader\n",
    "        \n",
    "    def evaluate(self, dataset_loader, criterion):\n",
    "        LOSSES = 0\n",
    "        COUNTER = 0\n",
    "        for batch in dataset_loader:\n",
    "            optimizer.zero_grad()\n",
    "\n",
    "            x, y = batch\n",
    "    #             x = x.view(-1,1,28,28)\n",
    "            y = y.view(-1)\n",
    "            if cuda_available:\n",
    "                x = x.cuda()\n",
    "                y = y.cuda()\n",
    "\n",
    "            loss = criterion(model(x), y)\n",
    "            n = y.size(0)\n",
    "            LOSSES += loss.sum().data.cpu().numpy() * n\n",
    "            COUNTER += n\n",
    "\n",
    "        return LOSSES / float(COUNTER)\n",
    "    \n",
    "    def accuracy(self, proba, y):\n",
    "        correct = torch.eq(proba.max(1)[1], y).sum().type(torch.FloatTensor)\n",
    "        return correct / y.size(0)\n",
    "    \n",
    "    def adjust_lr(self, optimizer, epoch, total_epochs):\n",
    "        lr = lr0 * (0.1 ** (epoch / float(total_epochs)))\n",
    "        for param_group in optimizer.param_groups:\n",
    "            param_group['lr'] = lr\n",
    "            \n",
    "    def train_model(self):\n",
    "        LOSSES = 0\n",
    "        COUNTER = 0\n",
    "        ITERATIONS = 0\n",
    "        learning_curve_nll_train = list()\n",
    "        learning_curve_nll_test = list()\n",
    "        learning_curve_acc_train = list()\n",
    "        learning_curve_acc_test = list()\n",
    "        for e in range(num_epochs):\n",
    "            for batch in train_loader:\n",
    "                optimizer.zero_grad()\n",
    "                x, y = batch\n",
    "    #             x = x.view(-1,1,28,28)\n",
    "                y = y.view(-1)\n",
    "                if cuda_available:\n",
    "                    x = x.cuda()\n",
    "                    y = y.cuda()\n",
    "                loss = criterion(model(x), y)\n",
    "                loss.backward()\n",
    "                optimizer.step()\n",
    "\n",
    "                n = y.size(0)\n",
    "                LOSSES += loss.sum().data.cpu().numpy() * n\n",
    "                COUNTER += n\n",
    "                ITERATIONS += 1\n",
    "                if ITERATIONS%(store_every/5) == 0:\n",
    "                    avg_loss = LOSSES / float(COUNTER)\n",
    "                    LOSSES = 0\n",
    "                    COUNTER = 0\n",
    "                    print(\" Iteration {}: TRAIN {}\".format(\n",
    "                        ITERATIONS, avg_loss))\n",
    "\n",
    "                if ITERATIONS%(store_every) == 0:     \n",
    "\n",
    "                    train_loss = self.evaluate(train_loader, criterion)\n",
    "                    learning_curve_nll_train.append(train_loss)\n",
    "                    test_loss = self.evaluate(test_loader, criterion)\n",
    "                    learning_curve_nll_test.append(test_loss)\n",
    "\n",
    "                    train_acc = self.evaluate(train_loader, self.accuracy)\n",
    "                    learning_curve_acc_train.append(train_acc)\n",
    "                    test_acc = self.evaluate(valid_loader, self.accuracy)\n",
    "                    learning_curve_acc_test.append(test_acc)\n",
    "\n",
    "                    print(\" [NLL] TRAIN {} / TEST {}\".format(\n",
    "                        train_loss, test_loss))\n",
    "                    print(\" [ACC] TRAIN {} / TEST {}\".format(\n",
    "                        train_acc, test_acc))\n",
    "\n",
    "            self.adjust_lr(optimizer, e+1, num_epochs)\n",
    "\n",
    "        return learning_curve_nll_train, \\\n",
    "               learning_curve_nll_test, \\\n",
    "               learning_curve_acc_train, \\\n",
    "               learning_curve_acc_test, \n",
    "    \n",
    "    def predict(self):\n",
    "        results = [[]]\n",
    "        targetss = [[]]\n",
    "        for batch_idx, (inputs, targets) in enumerate(valid_loader):\n",
    "            if cuda_available:\n",
    "                inputs, targets = inputs.cuda(), targets.cuda()\n",
    "            outputs = model(inputs)\n",
    "            _, predicted = torch.max(outputs.data, 1)\n",
    "            results  = np.append(results, predicted.cpu().numpy())\n",
    "            targetss = np.append(targetss, targets.cpu().numpy())\n",
    "\n",
    "        results = np.int8(results)\n",
    "        return results, targetss\n",
    "\n",
    "trainer = Trainer2(model, optimizer, criterion, train_loader, valid_loader, test_loader)"
   ]
  },
  {
   "cell_type": "code",
   "execution_count": 13,
   "metadata": {},
   "outputs": [
    {
     "name": "stdout",
     "output_type": "stream",
     "text": [
      " Iteration 40: TRAIN 0.693091468513012\n",
      " Iteration 80: TRAIN 0.693446832895279\n",
      " Iteration 120: TRAIN 0.693283760547638\n",
      " Iteration 160: TRAIN 0.6932155951857567\n",
      " Iteration 200: TRAIN 0.6930956304073334\n",
      " [NLL] TRAIN 0.69320821227811 / TEST 0.6818849448562503\n",
      " [ACC] TRAIN 0.5001315859419602 / TEST 0.49749749863111936\n",
      " Iteration 240: TRAIN 0.6934966653585434\n",
      " Iteration 280: TRAIN 0.6929104775190353\n",
      " Iteration 320: TRAIN 0.6936675446354048\n",
      " Iteration 360: TRAIN 0.693706537783146\n",
      " Iteration 400: TRAIN 0.6937692925333977\n",
      " [NLL] TRAIN 0.693881037677738 / TEST 0.7319280508518887\n",
      " [ACC] TRAIN 0.4998684140517653 / TEST 0.5025025033974672\n",
      " Iteration 440: TRAIN 0.6933264687657357\n",
      " Iteration 480: TRAIN 0.6939106807112694\n",
      " Iteration 520: TRAIN 0.6937819838523864\n",
      " Iteration 560: TRAIN 0.6936147212982178\n",
      " Iteration 600: TRAIN 0.6940081086826063\n",
      " [NLL] TRAIN 0.6932996274439985 / TEST 0.6755662560462952\n",
      " [ACC] TRAIN 0.5001315858698034 / TEST 0.49749749851179076\n",
      " Iteration 640: TRAIN 0.6932983890175819\n",
      " Iteration 680: TRAIN 0.6938888669013977\n",
      " Iteration 720: TRAIN 0.6932552456855774\n",
      " Iteration 760: TRAIN 0.6935057193040848\n",
      " Iteration 800: TRAIN 0.692955993115902\n",
      " [NLL] TRAIN 0.6942571574678245 / TEST 0.6468778849482704\n",
      " [ACC] TRAIN 0.500131585876078 / TEST 0.49749749758699396\n",
      " Iteration 840: TRAIN 0.694244833290577\n",
      " Iteration 880: TRAIN 0.6939904093742371\n",
      " Iteration 920: TRAIN 0.693751274955268\n",
      " Iteration 960: TRAIN 0.6934433415532112\n",
      " Iteration 1000: TRAIN 0.6939718931913376\n",
      " [NLL] TRAIN 0.6932899582680291 / TEST 0.7099266052246094\n",
      " [ACC] TRAIN 0.49986841415843186 / TEST 0.5025025035764601\n",
      " Iteration 1040: TRAIN 0.6932850390672683\n",
      " Iteration 1080: TRAIN 0.6934402927756309\n",
      " Iteration 1120: TRAIN 0.6937060177326202\n",
      " Iteration 1160: TRAIN 0.6934787690639496\n",
      " Iteration 1200: TRAIN 0.6933311570489794\n",
      " [NLL] TRAIN 0.6931761982623035 / TEST 0.7005117531417966\n",
      " [ACC] TRAIN 0.49986841413019656 / TEST 0.5025025025323346\n",
      " Iteration 1240: TRAIN 0.6937499910593032\n",
      " Iteration 1280: TRAIN 0.6934291362762451\n",
      " Iteration 1320: TRAIN 0.6925233498215675\n",
      " Iteration 1360: TRAIN 0.6940393671393394\n",
      " Iteration 1400: TRAIN 0.6928260281682015\n",
      " [NLL] TRAIN 0.6938611388400991 / TEST 0.7313791517616153\n",
      " [ACC] TRAIN 0.49986841413019656 / TEST 0.5025025025919989\n",
      " Iteration 1440: TRAIN 0.6938267424702644\n",
      " Iteration 1480: TRAIN 0.693327023088932\n",
      " Iteration 1520: TRAIN 0.6937586335236771\n",
      " Iteration 1560: TRAIN 0.693216347694397\n",
      " Iteration 1600: TRAIN 0.6932096242904663\n",
      " [NLL] TRAIN 0.6932597500762536 / TEST 0.6780006882190036\n",
      " [ACC] TRAIN 0.5001315858399995 / TEST 0.49749749770632257\n",
      " Iteration 1640: TRAIN 0.693886037170887\n",
      " Iteration 1680: TRAIN 0.6935516446828842\n",
      " Iteration 1720: TRAIN 0.6934393167495727\n",
      " Iteration 1760: TRAIN 0.6932797089219094\n",
      " Iteration 1800: TRAIN 0.693397924718741\n",
      " [NLL] TRAIN 0.693174925297334 / TEST 0.7003694773554969\n",
      " [ACC] TRAIN 0.49986841415843186 / TEST 0.5025025034571314\n",
      " Iteration 1840: TRAIN 0.6933190435171127\n",
      " Iteration 1880: TRAIN 0.6938462570309639\n",
      " Iteration 1920: TRAIN 0.6933368980884552\n",
      " Iteration 1960: TRAIN 0.693059055507183\n",
      " Iteration 2000: TRAIN 0.6933781400322914\n",
      " [NLL] TRAIN 0.6932857944730821 / TEST 0.7096786499023438\n",
      " [ACC] TRAIN 0.4998684141019613 / TEST 0.5025025035167957\n",
      " Iteration 2040: TRAIN 0.6932350233197212\n",
      " Iteration 2080: TRAIN 0.6932847518305926\n",
      " Iteration 2120: TRAIN 0.6933072432875633\n",
      " Iteration 2160: TRAIN 0.6931871131062508\n",
      " Iteration 2200: TRAIN 0.6936895310878753\n",
      " [NLL] TRAIN 0.6931555070427319 / TEST 0.6969680190086365\n",
      " [ACC] TRAIN 0.49986841414588284 / TEST 0.5025025035167957\n",
      " Iteration 2240: TRAIN 0.6933165818452836\n",
      " Iteration 2280: TRAIN 0.6932965070009232\n",
      " Iteration 2320: TRAIN 0.6936800435185433\n",
      " Iteration 2360: TRAIN 0.6933714210987091\n",
      " Iteration 2400: TRAIN 0.6927008366453933\n",
      " [NLL] TRAIN 0.693549056957694 / TEST 0.6649398204325961\n",
      " [ACC] TRAIN 0.5001315857913722 / TEST 0.4974974985714551\n",
      " Iteration 2440: TRAIN 0.6937328547239303\n",
      " Iteration 2480: TRAIN 0.6933015644550323\n",
      " Iteration 2520: TRAIN 0.6931949824094772\n",
      " Iteration 2560: TRAIN 0.6930512309074401\n",
      " Iteration 2600: TRAIN 0.6933901101350785\n",
      " [NLL] TRAIN 0.6931540435054088 / TEST 0.6965821382045078\n",
      " [ACC] TRAIN 0.4998684141019613 / TEST 0.5025025027113276\n",
      " Iteration 2640: TRAIN 0.6931527376174926\n",
      " Iteration 2680: TRAIN 0.693374444157037\n",
      " Iteration 2720: TRAIN 0.6932014524936676\n",
      " Iteration 2760: TRAIN 0.6932990416884423\n",
      " Iteration 2800: TRAIN 0.693285983800888\n",
      " [NLL] TRAIN 0.6931478059619997 / TEST 0.6940352323174978\n",
      " [ACC] TRAIN 0.49986841414588284 / TEST 0.5025025028306562\n",
      " Iteration 2840: TRAIN 0.6931133732199669\n",
      " Iteration 2880: TRAIN 0.6929828554391861\n",
      " Iteration 2920: TRAIN 0.6933984383940697\n",
      " Iteration 2960: TRAIN 0.6928663775324821\n",
      "Done...\n"
     ]
    }
   ],
   "source": [
    "nll_train, nll_test, acc_train, acc_test =  trainer.train_model()\n",
    "print('Done...')"
   ]
  },
  {
   "cell_type": "code",
   "execution_count": 88,
   "metadata": {},
   "outputs": [
    {
     "name": "stdout",
     "output_type": "stream",
     "text": [
      "14\n"
     ]
    },
    {
     "data": {
      "image/png": "[encoded data removed]",
      "text/plain": [
       "<Figure size 432x288 with 1 Axes>"
      ]
     },
     "metadata": {
      "needs_background": "light"
     },
     "output_type": "display_data"
    },
    {
     "data": {
      "image/png": "[encoded data removed]",
      "text/plain": [
       "<Figure size 432x288 with 1 Axes>"
      ]
     },
     "metadata": {
      "needs_background": "light"
     },
     "output_type": "display_data"
    }
   ],
   "source": [
    "print(len(acc_train))\n",
    "plt.figure(1)\n",
    "plt.plot(range(len(nll_train)), nll_train, label=\"NLL train\" )\n",
    "plt.plot(range(len(nll_test)), nll_test,   label=\"NLL test\" )\n",
    "plt.figure(2)\n",
    "plt.plot(range(len(acc_train)), acc_train, label=\"Accuracy train\" )\n",
    "plt.plot(range(len(acc_test)), acc_test,   label=\"Accuracy test\" )\n",
    "plt.legend()\n",
    "plt.show()"
   ]
  },
  {
   "cell_type": "code",
   "execution_count": null,
   "metadata": {},
   "outputs": [],
   "source": []
  },
  {
   "cell_type": "markdown",
   "metadata": {},
   "source": [
    "## Confusion Matrix"
   ]
  },
  {
   "cell_type": "code",
   "execution_count": 89,
   "metadata": {},
   "outputs": [
    {
     "data": {
      "image/png": "[encoded data removed]",
      "text/plain": [
       "<Figure size 432x288 with 2 Axes>"
      ]
     },
     "metadata": {
      "needs_background": "light"
     },
     "output_type": "display_data"
    }
   ],
   "source": [
    "from sklearn.metrics import confusion_matrix\n",
    "import itertools\n",
    "\n",
    "def plot_confusion_matrix(cm, classes,\n",
    "                          normalize=False,\n",
    "                          title='Confusion matrix',\n",
    "                          cmap=plt.cm.Blues):\n",
    "    \"\"\"\n",
    "    This function prints and plots the confusion matrix.\n",
    "    Normalization can be applied by setting `normalize=True`.\n",
    "    \"\"\"\n",
    "\n",
    "\n",
    "    plt.imshow(cm, interpolation='nearest', cmap=cmap)\n",
    "    plt.title(title)\n",
    "    plt.colorbar()\n",
    "    tick_marks = np.arange(len(classes))\n",
    "    plt.xticks(tick_marks, classes, rotation=45)\n",
    "    plt.yticks(tick_marks, classes)\n",
    "\n",
    "    fmt = '.2f' if normalize else 'd'\n",
    "    thresh = cm.max() / 2.\n",
    "    for i, j in itertools.product(range(cm.shape[0]), range(cm.shape[1])):\n",
    "        plt.text(j, i, format(cm[i, j], fmt),\n",
    "                 horizontalalignment=\"center\",\n",
    "                 color=\"white\" if cm[i, j] > thresh else \"black\")\n",
    "\n",
    "    plt.ylabel('True label')\n",
    "    plt.xlabel('Predicted label')\n",
    "    plt.tight_layout()\n",
    "\n",
    "\n",
    "# Compute confusion matrix\\\n",
    "y_pred, y_test = trainer.predict()\n",
    "class_names = ['Cat', 'Dog']\n",
    "cnf_matrix = confusion_matrix(y_test, y_pred)\n",
    "np.set_printoptions(precision=2)\n",
    "\n",
    "# Plot non-normalized confusion matrix\n",
    "plt.figure()\n",
    "plot_confusion_matrix(cnf_matrix, classes=class_names,\n",
    "                      title='Confusion matrix')\n",
    "\n",
    "\n",
    "plt.show()\n"
   ]
  },
  {
   "cell_type": "markdown",
   "metadata": {},
   "source": [
    "## Evaluating of testset "
   ]
  },
  {
   "cell_type": "code",
   "execution_count": null,
   "metadata": {},
   "outputs": [],
   "source": [
    "results = [[]]\n",
    "for batch_idx, (inputs, targets) in enumerate(test_loader):\n",
    "    if cuda_available:\n",
    "        inputs, targets = inputs.cuda(), targets.cuda()\n",
    "    outputs = clf(inputs)\n",
    "    _, predicted = torch.max(outputs.data, 1)\n",
    "    results = np.append(results, predicted.cpu().numpy())\n",
    "\n",
    "results = np.int8(results)"
   ]
  },
  {
   "cell_type": "markdown",
   "metadata": {},
   "source": [
    "## Creating submission csv file"
   ]
  },
  {
   "cell_type": "code",
   "execution_count": null,
   "metadata": {},
   "outputs": [],
   "source": [
    "df = pd.DataFrame({ 'id': range(1, len(results)+1),\n",
    "                    'label': results})\n",
    "df['label'].replace([0,1], ['Cat','Dog'], inplace=True)\n",
    "df[df.columns].to_csv('submisstion.csv',index=False)\n",
    "print('Done...')"
   ]
  },
  {
   "cell_type": "code",
   "execution_count": null,
   "metadata": {},
   "outputs": [],
   "source": [
    "     "
   ]
  },
  {
   "cell_type": "code",
   "execution_count": null,
   "metadata": {},
   "outputs": [],
   "source": [
    "def trainer1():\n",
    "    for epoch in range(epoches):\n",
    "        losses = []\n",
    "        # Train\n",
    "        for batch_idx, (inputs, targets) in enumerate(train_loader):\n",
    "            if cuda_available:\n",
    "                inputs, targets = inputs.cuda(), targets.cuda()\n",
    "            optimizer.zero_grad()\n",
    "\n",
    "            outputs = model(inputs)\n",
    "            loss = criterion(outputs, targets)\n",
    "            loss.backward()\n",
    "            optimizer.step()\n",
    "\n",
    "            losses.append(loss.data.item())\n",
    "\n",
    "\n",
    "            if batch_idx%50==0:\n",
    "                print('Epoch : %d Loss : %.3f ' % (epoch, np.mean(losses)))\n",
    "\n",
    "        # Evaluate\n",
    "        model.eval()\n",
    "        total = 0\n",
    "        correct = 0\n",
    "        for batch_idx, (inputs, targets) in enumerate(valid_loader):\n",
    "            if cuda_available:\n",
    "                inputs, targets = inputs.cuda(), targets.cuda()\n",
    "\n",
    "            outputs = model(inputs)\n",
    "            loss = criterion(outputs, targets)\n",
    "\n",
    "            _, predicted = torch.max(outputs.data, 1)\n",
    "            total += targets.size(0)\n",
    "            correct += predicted.eq(targets.data).cpu().sum()\n",
    "\n",
    "        print('Epoch : %d Test Acc : %.3f' % (epoch, 100.*correct/total))\n",
    "        print('--------------------------------------------------------------')\n",
    "        model.train()\n",
    "    print('Done...')\n",
    "\n",
    "trainer1()"
   ]
  },
  {
   "cell_type": "code",
   "execution_count": null,
   "metadata": {},
   "outputs": [],
   "source": []
  }
 ],
 "metadata": {
  "kernelspec": {
   "display_name": "Python 3",
   "language": "python",
   "name": "python3"
  },
  "language_info": {
   "codemirror_mode": {
    "name": "ipython",
    "version": 3
   },
   "file_extension": ".py",
   "mimetype": "text/x-python",
   "name": "python",
   "nbconvert_exporter": "python",
   "pygments_lexer": "ipython3",
   "version": "3.7.1"
  }
 },
 "nbformat": 4,
 "nbformat_minor": 2
}
