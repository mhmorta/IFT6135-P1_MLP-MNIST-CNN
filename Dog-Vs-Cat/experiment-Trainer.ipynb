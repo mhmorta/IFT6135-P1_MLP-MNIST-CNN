{
 "cells": [
  {
   "cell_type": "code",
   "execution_count": 90,
   "metadata": {},
   "outputs": [],
   "source": [
    "import torch\n",
    "import torch.nn as nn\n",
    "import torch.optim as optim\n",
    "import torch.nn.init as init\n",
    "import torch.nn.functional as F\n",
    "import torchvision\n",
    "import torchvision.transforms\n",
    "import matplotlib.pyplot as plt\n",
    "import numpy as np\n",
    "import glob\n",
    "import pandas as pd\n",
    "from torch.utils.data import DataLoader\n",
    "from torchsummary import summary\n",
    "from torch.autograd import Variable\n",
    "from IPython.core.debugger import set_trace\n",
    "from PIL import Image"
   ]
  },
  {
   "cell_type": "code",
   "execution_count": 91,
   "metadata": {},
   "outputs": [],
   "source": [
    "from Trainer import Trainer"
   ]
  },
  {
   "cell_type": "code",
   "execution_count": 92,
   "metadata": {},
   "outputs": [],
   "source": [
    "torch.manual_seed(0);"
   ]
  },
  {
   "cell_type": "code",
   "execution_count": 94,
   "metadata": {},
   "outputs": [],
   "source": [
    "normalize = torchvision.transforms.Normalize((0.4895832, 0.4546405, 0.41594946), \n",
    "                                 (0.2520022, 0.24522494, 0.24728711))\n",
    "transforms = torchvision.transforms.Compose([torchvision.transforms.ToTensor(),\n",
    "                               normalize])\n",
    "\n",
    "# transforms = torchvision.transforms.Compose([torchvision.transforms.ToTensor()])\n",
    "\n",
    "data = torchvision.datasets.ImageFolder(\n",
    "                    root='./data/trainset/',\n",
    "                    transform=transforms\n",
    "                    )\n",
    "\n",
    "test_data = torchvision.datasets.ImageFolder(\n",
    "                    root= './data/test/', \n",
    "                    transform=transforms)\n",
    "\n",
    "dataset_ratio = np.array([95, 5])/100\n",
    "\n",
    "sizes = [int(x*len(data)) for x in dataset_ratio]\n",
    "sizes[0] += len(data) - sum(sizes)\n",
    "\n",
    "train_dataset, valid_dataset = torch.utils.data.random_split(dataset=data, lengths=sizes)\n",
    "train_loader = torch.utils.data.DataLoader(\n",
    "                    train_dataset,\n",
    "                    batch_size=128,\n",
    "                    num_workers=2,\n",
    "                    shuffle=True\n",
    "                    )\n",
    "\n",
    "valid_loader = torch.utils.data.DataLoader(\n",
    "                    valid_dataset,\n",
    "                    batch_size=128,\n",
    "                    num_workers=2,\n",
    "                    shuffle=True\n",
    "                    )\n",
    "\n",
    "test_loader = torch.utils.data.DataLoader(test_data,\n",
    "                                         batch_size=128,\n",
    "                                        num_workers=1)\n",
    "classes = ('Cat', 'Dog')"
   ]
  },
  {
   "cell_type": "code",
   "execution_count": null,
   "metadata": {},
   "outputs": [],
   "source": []
  },
  {
   "cell_type": "code",
   "execution_count": 34,
   "metadata": {},
   "outputs": [],
   "source": [
    "def flaotTensorToImage(img, mean=0, std=1):\n",
    "    \"\"\"convert a tensor to an image\"\"\"\n",
    "    img = np.transpose(img.numpy(), (1, 2, 0))\n",
    "    img = (img*std+ mean)*255\n",
    "    img = img.astype(np.uint8)    \n",
    "    return img  "
   ]
  },
  {
   "cell_type": "code",
   "execution_count": 36,
   "metadata": {},
   "outputs": [
    {
     "name": "stderr",
     "output_type": "stream",
     "text": [
      "Clipping input data to the valid range for imshow with RGB data ([0..1] for floats or [0..255] for integers).\n"
     ]
    },
    {
     "name": "stdout",
     "output_type": "stream",
     "text": [
      "tensor([0, 0, 0, 0, 0, 0, 0, 0, 0, 0, 0, 0, 0, 0, 0, 0, 0, 0, 0, 0, 0, 0, 0, 0,\n",
      "        0, 0, 0, 0, 0, 0, 0, 0, 0, 0, 0, 0, 0, 0, 0, 0, 0, 0, 0, 0, 0, 0, 0, 0,\n",
      "        0, 0, 0, 0, 0, 0, 0, 0, 0, 0, 0, 0, 0, 0, 0, 0, 0, 0, 0, 0, 0, 0, 0, 0,\n",
      "        0, 0, 0, 0, 0, 0, 0, 0, 0, 0, 0, 0, 0, 0, 0, 0, 0, 0, 0, 0, 0, 0, 0, 0,\n",
      "        0, 0, 0, 0, 0, 0, 0, 0, 0, 0, 0, 0, 0, 0, 0, 0, 0, 0, 0, 0, 0, 0, 0, 0,\n",
      "        0, 0, 0, 0, 0, 0, 0, 0])\n",
      "Batch shape: (128, 3, 64, 64)\n",
      "(64, 64, 3)\n"
     ]
    },
    {
     "data": {
      "image/png": "[encoded data removed]",
      "text/plain": [
       "<Figure size 432x288 with 1 Axes>"
      ]
     },
     "metadata": {
      "needs_background": "light"
     },
     "output_type": "display_data"
    }
   ],
   "source": [
    "imgs, steering_angle = next(iter(test_loader))\n",
    "print (steering_angle)\n",
    "print('Batch shape:',imgs.numpy().shape)\n",
    "im = imgs[0].numpy()\n",
    "im2display = im.transpose((1,2,0))\n",
    "print(im2display.shape)\n",
    "plt.imshow(im2display, interpolation='nearest')\n",
    "plt.show()\n",
    "# plt.imshow(imgs.numpy()[0,:,:,:])\n",
    "# plt.show()\n",
    "# plt.imshow(imgs.numpy()[-1,:,:,:])\n",
    "# plt.show()"
   ]
  },
  {
   "cell_type": "code",
   "execution_count": 7,
   "metadata": {},
   "outputs": [
    {
     "name": "stdout",
     "output_type": "stream",
     "text": [
      "18999\n",
      "Mean: [0.00149352 0.01866901 0.0075541 ]\n",
      "STD: [0.9907048  0.99137974 1.0037811 ]\n"
     ]
    }
   ],
   "source": [
    "## get the mean and variance of our dataset for normalization\n",
    "\n",
    "train = train_loader.__iter__().next()[0]\n",
    "print (len(train_loader.dataset))\n",
    "print('Mean: {}'.format(np.mean(train.numpy(), axis=(0, 2, 3))))\n",
    "print('STD: {}'.format(np.std(train.numpy(), axis=(0, 2, 3))))"
   ]
  },
  {
   "cell_type": "code",
   "execution_count": 8,
   "metadata": {},
   "outputs": [
    {
     "name": "stdout",
     "output_type": "stream",
     "text": [
      "True\n"
     ]
    }
   ],
   "source": [
    "cuda_available = torch.cuda.is_available()\n",
    "print(cuda_available)"
   ]
  },
  {
   "cell_type": "code",
   "execution_count": 9,
   "metadata": {},
   "outputs": [],
   "source": [
    "# learning_rate = 1e-3\n",
    "\n",
    "optim = 'sgd'\n",
    "num_epochs = 100\n",
    "best_acc = torch.FloatTensor([0])\n",
    "start_epoch = 0"
   ]
  },
  {
   "cell_type": "code",
   "execution_count": 10,
   "metadata": {},
   "outputs": [],
   "source": [
    "def dropout(p=None, dim=None, method='standard'):\n",
    "    if method == 'standard':\n",
    "        return nn.Dropout(p)\n",
    "    elif method == 'gaussian':\n",
    "        return GaussianDropout(p/(1-p))\n",
    "    elif method == 'variational':\n",
    "        return VariationalDropout(p/(1-p), dim)"
   ]
  },
  {
   "cell_type": "code",
   "execution_count": 11,
   "metadata": {},
   "outputs": [],
   "source": [
    "class GaussianDropout(nn.Module):\n",
    "    def __init__(self, alpha=1.0):\n",
    "        super(GaussianDropout, self).__init__()\n",
    "        self.alpha = torch.Tensor([alpha])\n",
    "        \n",
    "    def forward(self, x):\n",
    "        \"\"\"\n",
    "        Sample noise   e ~ N(1, alpha)\n",
    "        Multiply noise h = h_ * e\n",
    "        \"\"\"\n",
    "        if self.train():\n",
    "            # N(1, alpha)\n",
    "            epsilon = torch.randn(x.size()) * self.alpha + 1\n",
    "\n",
    "            epsilon = Variable(epsilon)\n",
    "            if x.is_cuda:\n",
    "                epsilon = epsilon.cuda()\n",
    "\n",
    "            return x * epsilon\n",
    "        else:\n",
    "            return x"
   ]
  },
  {
   "cell_type": "code",
   "execution_count": 12,
   "metadata": {},
   "outputs": [],
   "source": [
    "class XavierClassifier(nn.Module):\n",
    "    def __init__(self):\n",
    "        super(XavierClassifier, self).__init__()\n",
    "        self.conv = nn.Sequential(\n",
    "            # Layer 1\n",
    "            nn.Conv2d(in_channels=3, out_channels=16,kernel_size=(3,3) , padding=1),\n",
    "            nn.ReLU(),\n",
    "            dropout(0.5, 16,'gaussian'),\n",
    "            # Layer 2\n",
    "            nn.Conv2d(in_channels=16, out_channels=32,kernel_size=(3,3) , padding=1),\n",
    "            nn.ReLU(),\n",
    "            nn.MaxPool2d(kernel_size=(2,2), stride=2),\n",
    "            # Layer 3\n",
    "            nn.Conv2d(in_channels=32, out_channels=64,kernel_size=(3,3) , padding=1),\n",
    "            nn.ReLU(),\n",
    "            # Layer 4\n",
    "            nn.Conv2d(in_channels=64, out_channels=128,kernel_size=(3,3) , padding=1),\n",
    "            nn.ReLU(),\n",
    "            nn.MaxPool2d(kernel_size=(2,2), stride=2),\n",
    "            # Layer 5\n",
    "            nn.Conv2d(in_channels=128, out_channels=128,kernel_size=(3,3) , padding=1),\n",
    "            nn.ReLU(),\n",
    "            nn.MaxPool2d(kernel_size=(2,2), stride=2),\n",
    "            # Layer 6\n",
    "            nn.Conv2d(in_channels=128, out_channels=256,kernel_size=(3,3) , padding=1),\n",
    "            nn.ReLU(),\n",
    "            nn.MaxPool2d(kernel_size=(2,2), stride=2),\n",
    "             # Layer 7\n",
    "            nn.Conv2d(in_channels=256, out_channels=256,kernel_size=(3,3) , padding=1),\n",
    "            nn.ReLU(),\n",
    "            nn.MaxPool2d(kernel_size=(2,2), stride=2),\n",
    "            # Layer 8\n",
    "            nn.Conv2d(in_channels=256, out_channels=512,kernel_size=(3,3) , padding=1),\n",
    "            nn.ReLU(),\n",
    "            # Layer 9\n",
    "            nn.Conv2d(in_channels=512, out_channels=512,kernel_size=(3,3) , padding=1),\n",
    "            nn.ReLU(),\n",
    "            nn.MaxPool2d(kernel_size=(2,2), stride=2),\n",
    "            dropout(0.5, 512,'gaussian'),\n",
    "            \n",
    "        )\n",
    "        self.net = nn.Linear(512, 512)\n",
    "        self.net = nn.Linear(512, 2)\n",
    "        self.init_weights()\n",
    "    def forward(self, x):\n",
    "        return self.net(self.conv(x).squeeze())\n",
    "    \n",
    "    def init_weights(self):\n",
    "        for m in self.conv:\n",
    "            if isinstance(m,nn.Conv2d):\n",
    "                nn.init.xavier_uniform_(m.weight)\n",
    "                m.bias.data.fill_(0.01)\n",
    "\n",
    "        if type(self.net) == nn.Linear:\n",
    "            nn.init.xavier_uniform_(self.net.weight)\n",
    "            self.net.bias.data.fill_(0.01)"
   ]
  },
  {
   "cell_type": "code",
   "execution_count": 13,
   "metadata": {},
   "outputs": [],
   "source": [
    "classifiers = ['ResidualClassifier', \"VanilaCNN\", \"XavierClassifier\" ]\n",
    "my_classifier = 'XavierClassifier'\n",
    "\n",
    "if my_classifier=='ResidualClassifier':\n",
    "    model = ResidualClassifier()\n",
    "elif my_classifier=='VanilaCNN':\n",
    "    model = VanilaCNN() \n",
    "elif my_classifier=='XavierClassifier':\n",
    "    model = XavierClassifier() \n",
    "    \n",
    "learning_rate = 0.1\n",
    "\n",
    "if cuda_available:\n",
    "    model = model.cuda()\n",
    "if optim == 'sgd':\n",
    "    optimizer = torch.optim.SGD(model.parameters(), lr=learning_rate)\n",
    "#     optimizer = torch.optim.SGD(model.parameters(),lr=learning_rate, momentum=0.95)\n",
    "elif optim == 'adam':\n",
    "    optimizer = torch.optim.Adam(model.parameters(), lr=learning_rate)\n",
    "criterion = nn.CrossEntropyLoss()"
   ]
  },
  {
   "cell_type": "code",
   "execution_count": 14,
   "metadata": {},
   "outputs": [
    {
     "name": "stdout",
     "output_type": "stream",
     "text": [
      "----------------------------------------------------------------\n",
      "        Layer (type)               Output Shape         Param #\n",
      "================================================================\n",
      "            Conv2d-1           [-1, 16, 64, 64]             448\n",
      "              ReLU-2           [-1, 16, 64, 64]               0\n",
      "   GaussianDropout-3           [-1, 16, 64, 64]               0\n",
      "            Conv2d-4           [-1, 32, 64, 64]           4,640\n",
      "              ReLU-5           [-1, 32, 64, 64]               0\n",
      "         MaxPool2d-6           [-1, 32, 32, 32]               0\n",
      "            Conv2d-7           [-1, 64, 32, 32]          18,496\n",
      "              ReLU-8           [-1, 64, 32, 32]               0\n",
      "            Conv2d-9          [-1, 128, 32, 32]          73,856\n",
      "             ReLU-10          [-1, 128, 32, 32]               0\n",
      "        MaxPool2d-11          [-1, 128, 16, 16]               0\n",
      "           Conv2d-12          [-1, 128, 16, 16]         147,584\n",
      "             ReLU-13          [-1, 128, 16, 16]               0\n",
      "        MaxPool2d-14            [-1, 128, 8, 8]               0\n",
      "           Conv2d-15            [-1, 256, 8, 8]         295,168\n",
      "             ReLU-16            [-1, 256, 8, 8]               0\n",
      "        MaxPool2d-17            [-1, 256, 4, 4]               0\n",
      "           Conv2d-18            [-1, 256, 4, 4]         590,080\n",
      "             ReLU-19            [-1, 256, 4, 4]               0\n",
      "        MaxPool2d-20            [-1, 256, 2, 2]               0\n",
      "           Conv2d-21            [-1, 512, 2, 2]       1,180,160\n",
      "             ReLU-22            [-1, 512, 2, 2]               0\n",
      "           Conv2d-23            [-1, 512, 2, 2]       2,359,808\n",
      "             ReLU-24            [-1, 512, 2, 2]               0\n",
      "        MaxPool2d-25            [-1, 512, 1, 1]               0\n",
      "  GaussianDropout-26            [-1, 512, 1, 1]               0\n",
      "           Linear-27                    [-1, 2]           1,026\n",
      "================================================================\n",
      "Total params: 4,671,266\n",
      "Trainable params: 4,671,266\n",
      "Non-trainable params: 0\n",
      "----------------------------------------------------------------\n",
      "Input size (MB): 0.05\n",
      "Forward/backward pass size (MB): 7.98\n",
      "Params size (MB): 17.82\n",
      "Estimated Total Size (MB): 25.85\n",
      "----------------------------------------------------------------\n"
     ]
    }
   ],
   "source": [
    "summary(model, (3, 64, 64))"
   ]
  },
  {
   "cell_type": "code",
   "execution_count": 138,
   "metadata": {},
   "outputs": [],
   "source": [
    "hyperparams = {'num_epochs': 10,\n",
    "               'lr0' :0.1, \n",
    "               'save_checkpoint': False\n",
    "                  }"
   ]
  },
  {
   "cell_type": "code",
   "execution_count": 139,
   "metadata": {},
   "outputs": [
    {
     "name": "stdout",
     "output_type": "stream",
     "text": [
      "------ Epoch # 1 ------\n",
      " Iteration 40: TRAIN 0.5883\n",
      " Iteration 80: TRAIN 0.5850\n",
      " Iteration 120: TRAIN 0.5865\n",
      "------ Epoch # 2 ------\n",
      " Iteration 160: TRAIN 0.5739\n",
      " Iteration 200: TRAIN 0.5621\n",
      " [Loss] TRAIN 0.5395 / VALID 0.5712\n",
      " [ACC] TRAIN 0.7331 / VALID 0.6987\n",
      " Iteration 240: TRAIN 0.5657\n",
      " Iteration 280: TRAIN 0.5629\n",
      "------ Epoch # 3 ------\n",
      " Iteration 320: TRAIN 0.5470\n",
      " Iteration 360: TRAIN 0.5448\n",
      " Iteration 400: TRAIN 0.5383\n",
      " [Loss] TRAIN 0.5496 / VALID 0.5848\n",
      " [ACC] TRAIN 0.7230 / VALID 0.7087\n",
      " Iteration 440: TRAIN 0.5272\n",
      "------ Epoch # 4 ------\n",
      " Iteration 480: TRAIN 0.5237\n",
      " Iteration 520: TRAIN 0.4994\n",
      " Iteration 560: TRAIN 0.5121\n",
      "------ Epoch # 5 ------\n",
      " Iteration 600: TRAIN 0.5062\n",
      " [Loss] TRAIN 0.4692 / VALID 0.5138\n",
      " [ACC] TRAIN 0.7813 / VALID 0.7548\n",
      " Iteration 640: TRAIN 0.4822\n",
      " Iteration 680: TRAIN 0.4864\n",
      " Iteration 720: TRAIN 0.4742\n",
      "------ Epoch # 6 ------\n",
      " Iteration 760: TRAIN 0.4738\n",
      " Iteration 800: TRAIN 0.4653\n",
      " [Loss] TRAIN 0.5010 / VALID 0.6013\n",
      " [ACC] TRAIN 0.7458 / VALID 0.6867\n",
      " Iteration 840: TRAIN 0.4455\n",
      " Iteration 880: TRAIN 0.4590\n",
      "------ Epoch # 7 ------\n",
      " Iteration 920: TRAIN 0.4275\n",
      " Iteration 960: TRAIN 0.4161\n",
      " Iteration 1000: TRAIN 0.4184\n",
      " [Loss] TRAIN 0.4585 / VALID 0.5885\n",
      " [ACC] TRAIN 0.7835 / VALID 0.7077\n",
      " Iteration 1040: TRAIN 0.4206\n",
      "------ Epoch # 8 ------\n",
      " Iteration 1080: TRAIN 0.4048\n",
      " Iteration 1120: TRAIN 0.4097\n",
      " Iteration 1160: TRAIN 0.3987\n",
      "------ Epoch # 9 ------\n",
      " Iteration 1200: TRAIN 0.3733\n",
      " [Loss] TRAIN 0.3017 / VALID 0.5372\n",
      " [ACC] TRAIN 0.8699 / VALID 0.7558\n",
      " Iteration 1240: TRAIN 0.3718\n",
      " Iteration 1280: TRAIN 0.3727\n",
      " Iteration 1320: TRAIN 0.3669\n",
      "------ Epoch # 10 ------\n",
      " Iteration 1360: TRAIN 0.3366\n",
      " Iteration 1400: TRAIN 0.3256\n",
      " [Loss] TRAIN 0.5039 / VALID 0.6806\n",
      " [ACC] TRAIN 0.7513 / VALID 0.7067\n",
      " Iteration 1440: TRAIN 0.3448\n",
      " Iteration 1480: TRAIN 0.3324\n",
      "Done...\n"
     ]
    }
   ],
   "source": [
    "trainer = Trainer(model, optimizer, criterion, train_loader, valid_loader, test_loader, hyperparams)\n",
    "nll_train, nll_test, acc_train, acc_test =  trainer.train_model()\n",
    "print('Done...')"
   ]
  },
  {
   "cell_type": "code",
   "execution_count": 140,
   "metadata": {},
   "outputs": [
    {
     "data": {
      "image/png": "[encoded data removed]",
      "text/plain": [
       "<Figure size 432x288 with 1 Axes>"
      ]
     },
     "metadata": {
      "needs_background": "light"
     },
     "output_type": "display_data"
    },
    {
     "data": {
      "image/png": "[encoded data removed]",
      "text/plain": [
       "<Figure size 432x288 with 1 Axes>"
      ]
     },
     "metadata": {
      "needs_background": "light"
     },
     "output_type": "display_data"
    }
   ],
   "source": [
    "plt.figure(1)\n",
    "plt.plot(range(len(nll_train)), nll_train, label=\"Loss train\" )\n",
    "plt.plot(range(len(nll_test)), nll_test,   label=\"Loss validation\" )\n",
    "plt.figure(2)\n",
    "plt.plot(range(len(acc_train)), acc_train, label=\"Accuracy train\" )\n",
    "plt.plot(range(len(acc_test)), acc_test,   label=\"Accuracy validation\" )\n",
    "plt.legend()\n",
    "plt.show()"
   ]
  },
  {
   "cell_type": "code",
   "execution_count": 141,
   "metadata": {},
   "outputs": [],
   "source": [
    "# from PIL import Image\n",
    "# files = []\n",
    "# tensor = torchvision.transforms.ToTensor()\n",
    "# imgs = torch.Tensor()\n",
    "# for i in range(1,4999+1):\n",
    "#     address = \"./data/test/\" + (str(i)+\".jpg\")\n",
    "#     img = Image.open(address)\n",
    "#     img_ = tensor(img)\n",
    "#     imgs."
   ]
  },
  {
   "cell_type": "code",
   "execution_count": 142,
   "metadata": {},
   "outputs": [],
   "source": [
    "# results = [[]]\n",
    "# for batch_idx, (inputs, targets) in enumerate(test_loader):\n",
    "#     if cuda_available:\n",
    "#         inputs, targets = inputs.cuda(), targets.cuda()\n",
    "#     outputs = model(inputs)\n",
    "#     _, predicted = torch.max(outputs.data, 1)\n",
    "#     results = np.append(results, predicted.cpu().numpy())\n",
    "\n",
    "# results = np.int8(results)"
   ]
  },
  {
   "cell_type": "code",
   "execution_count": 106,
   "metadata": {},
   "outputs": [
    {
     "name": "stdout",
     "output_type": "stream",
     "text": [
      "Done...\n"
     ]
    }
   ],
   "source": [
    "df = pd.DataFrame({ 'id': range(1, len(results)+1),\n",
    "                    'label': results})\n",
    "df['label'].replace([0,1], ['Cat','Dog'], inplace=True)\n",
    "df[df.columns].to_csv('submisstion.csv',index=False)\n",
    "print('Done...')"
   ]
  },
  {
   "cell_type": "code",
   "execution_count": 143,
   "metadata": {},
   "outputs": [],
   "source": [
    "import torch\n",
    "from torch.utils.data.dataset import Dataset\n",
    "from torch.utils.data import DataLoader\n",
    "import numpy as np\n",
    "import os\n",
    "from PIL import Image\n",
    "import matplotlib.pyplot as plt\n",
    "plt.ion()\n",
    "\n",
    "class DriveData(Dataset):\n",
    "    __xs = []\n",
    "    __ys = []\n",
    "\n",
    "    def __init__(self, folder_dataset, transform=None):\n",
    "        self.transform = transform\n",
    "        # Open and load text file including the whole training data\n",
    "        \n",
    "        for i in range(1,5000):\n",
    "            address = folder_dataset + (str(i)+\".jpg\")\n",
    "            self.__xs.append(address)\n",
    "\n",
    "    # Override to give PyTorch access to any image on the dataset\n",
    "    def __getitem__(self, index):\n",
    "        img = Image.open(self.__xs[index])\n",
    "        img = img.convert('RGB')\n",
    "        if self.transform is not None:\n",
    "            img = self.transform(img)\n",
    "\n",
    "        # Convert image and label to torch tensors\n",
    "        img = np.transpose(np.asarray(img), (2, 0, 1))\n",
    "        img = torch.from_numpy(np.asarray(img))\n",
    "        \n",
    "        return img, 0\n",
    "\n",
    "    # Override to give PyTorch size of dataset\n",
    "    def __len__(self):\n",
    "        return len(self.__xs)"
   ]
  },
  {
   "cell_type": "code",
   "execution_count": 144,
   "metadata": {},
   "outputs": [],
   "source": [
    "dset_train = DriveData(\"./data/test/test/\")\n",
    "test_loader2 = DataLoader(dset_train, batch_size=10, shuffle=False, num_workers=1)"
   ]
  },
  {
   "cell_type": "code",
   "execution_count": 149,
   "metadata": {},
   "outputs": [
    {
     "name": "stdout",
     "output_type": "stream",
     "text": [
      "tensor([0, 0, 0, 0, 0, 0, 0, 0, 0, 0])\n",
      "Batch shape: (10, 3, 64, 64)\n",
      "(64, 64, 3)\n"
     ]
    },
    {
     "data": {
      "image/png": "[encoded data removed]",
      "text/plain": [
       "<Figure size 432x288 with 1 Axes>"
      ]
     },
     "metadata": {
      "needs_background": "light"
     },
     "output_type": "display_data"
    }
   ],
   "source": [
    "imgs, steering_angle = next(iter(test_loader2))\n",
    "print (steering_angle)\n",
    "print('Batch shape:',imgs.numpy().shape)\n",
    "im = imgs[6].numpy()\n",
    "im2display = im.transpose((1,2,0))\n",
    "print(im2display.shape)\n",
    "plt.imshow(im2display, interpolation='nearest')\n",
    "plt.show()"
   ]
  },
  {
   "cell_type": "code",
   "execution_count": 146,
   "metadata": {},
   "outputs": [],
   "source": [
    "results = [[]]\n",
    "for batch_idx, (inputs, targets) in enumerate(test_loader2):\n",
    "    if cuda_available:\n",
    "        inputs, targets = inputs.cuda(), targets.cuda()\n",
    "    inputs= inputs.type(torch.cuda.FloatTensor)\n",
    "    outputs = model(inputs)\n",
    "    _, predicted = torch.max(outputs.data, 1)\n",
    "    results = np.append(results, predicted.cpu().numpy())\n",
    "\n",
    "results = np.int8(results)"
   ]
  },
  {
   "cell_type": "code",
   "execution_count": 147,
   "metadata": {},
   "outputs": [
    {
     "name": "stdout",
     "output_type": "stream",
     "text": [
      "4999\n"
     ]
    }
   ],
   "source": [
    "print(len(results))"
   ]
  },
  {
   "cell_type": "code",
   "execution_count": 148,
   "metadata": {},
   "outputs": [
    {
     "name": "stdout",
     "output_type": "stream",
     "text": [
      "Done...\n"
     ]
    }
   ],
   "source": [
    "df = pd.DataFrame({ 'id': range(1, len(results)+1),\n",
    "                    'label': results})\n",
    "df['label'].replace([0,1], ['Cat','Dog'], inplace=True)\n",
    "df[df.columns].to_csv('submisstion.csv',index=False)\n",
    "print('Done...')"
   ]
  },
  {
   "cell_type": "code",
   "execution_count": null,
   "metadata": {},
   "outputs": [],
   "source": []
  }
 ],
 "metadata": {
  "kernelspec": {
   "display_name": "Python 3",
   "language": "python",
   "name": "python3"
  },
  "language_info": {
   "codemirror_mode": {
    "name": "ipython",
    "version": 3
   },
   "file_extension": ".py",
   "mimetype": "text/x-python",
   "name": "python",
   "nbconvert_exporter": "python",
   "pygments_lexer": "ipython3",
   "version": "3.7.1"
  }
 },
 "nbformat": 4,
 "nbformat_minor": 2
}
