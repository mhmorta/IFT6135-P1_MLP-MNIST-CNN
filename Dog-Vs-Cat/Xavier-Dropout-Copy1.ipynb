{
 "cells": [
  {
   "cell_type": "code",
   "execution_count": 1,
   "metadata": {},
   "outputs": [],
   "source": [
    "import torch\n",
    "import torch.nn as nn\n",
    "import torch.optim as optim\n",
    "import torch.nn.init as init\n",
    "import torch.nn.functional as F\n",
    "import torchvision\n",
    "import torchvision.transforms\n",
    "import matplotlib.pyplot as plt\n",
    "import numpy as np\n",
    "import glob\n",
    "import pandas as pd\n",
    "from torch.utils.data import DataLoader\n",
    "from torchsummary import summary\n",
    "from IPython.core.debugger import set_trace\n",
    "\n",
    "from Tools import Trainer"
   ]
  },
  {
   "cell_type": "markdown",
   "metadata": {},
   "source": [
    "## Loading datasets"
   ]
  },
  {
   "cell_type": "code",
   "execution_count": 2,
   "metadata": {},
   "outputs": [],
   "source": [
    "from Tools.Dataloader import datasets_loader\n",
    "train_loader, valid_loader, test_loader = datasets_loader()"
   ]
  },
  {
   "cell_type": "markdown",
   "metadata": {},
   "source": [
    "## Hyper-parameters"
   ]
  },
  {
   "cell_type": "code",
   "execution_count": 3,
   "metadata": {},
   "outputs": [],
   "source": [
    "hyperparams = {'num_epochs': 25,\n",
    "               'lr0' :0.1, \n",
    "               'dropout':0.2,\n",
    "               'save_checkpoint': False\n",
    "                  }\n",
    "cuda_available = torch.cuda.is_available()"
   ]
  },
  {
   "cell_type": "markdown",
   "metadata": {},
   "source": [
    "## Creating the model"
   ]
  },
  {
   "cell_type": "code",
   "execution_count": 4,
   "metadata": {},
   "outputs": [],
   "source": [
    "from Classifier.XavierCNN import XavierDropout\n",
    "\n",
    "model = XavierDropout(hyperparams)\n",
    "\n",
    "if cuda_available:\n",
    "    model = model.cuda()\n",
    "\n",
    "optimizer = torch.optim.SGD(model.parameters(), lr=hyperparams['lr0'])\n",
    "criterion = nn.CrossEntropyLoss()"
   ]
  },
  {
   "cell_type": "code",
   "execution_count": 5,
   "metadata": {},
   "outputs": [
    {
     "name": "stdout",
     "output_type": "stream",
     "text": [
      "----------------------------------------------------------------\n",
      "        Layer (type)               Output Shape         Param #\n",
      "================================================================\n",
      "            Conv2d-1           [-1, 16, 64, 64]             448\n",
      "              ReLU-2           [-1, 16, 64, 64]               0\n",
      "   GaussianDropout-3           [-1, 16, 64, 64]               0\n",
      "            Conv2d-4           [-1, 32, 64, 64]           4,640\n",
      "              ReLU-5           [-1, 32, 64, 64]               0\n",
      "         MaxPool2d-6           [-1, 32, 32, 32]               0\n",
      "   GaussianDropout-7           [-1, 32, 32, 32]               0\n",
      "            Conv2d-8           [-1, 64, 32, 32]          18,496\n",
      "              ReLU-9           [-1, 64, 32, 32]               0\n",
      "  GaussianDropout-10           [-1, 64, 32, 32]               0\n",
      "           Conv2d-11          [-1, 128, 32, 32]          73,856\n",
      "             ReLU-12          [-1, 128, 32, 32]               0\n",
      "  GaussianDropout-13          [-1, 128, 32, 32]               0\n",
      "        MaxPool2d-14          [-1, 128, 16, 16]               0\n",
      "           Conv2d-15          [-1, 128, 16, 16]         147,584\n",
      "             ReLU-16          [-1, 128, 16, 16]               0\n",
      "  GaussianDropout-17          [-1, 128, 16, 16]               0\n",
      "        MaxPool2d-18            [-1, 128, 8, 8]               0\n",
      "           Conv2d-19            [-1, 256, 8, 8]         295,168\n",
      "             ReLU-20            [-1, 256, 8, 8]               0\n",
      "        MaxPool2d-21            [-1, 256, 4, 4]               0\n",
      "  GaussianDropout-22            [-1, 256, 4, 4]               0\n",
      "           Conv2d-23            [-1, 256, 4, 4]         590,080\n",
      "             ReLU-24            [-1, 256, 4, 4]               0\n",
      "  GaussianDropout-25            [-1, 256, 4, 4]               0\n",
      "        MaxPool2d-26            [-1, 256, 2, 2]               0\n",
      "           Conv2d-27            [-1, 512, 2, 2]       1,180,160\n",
      "             ReLU-28            [-1, 512, 2, 2]               0\n",
      "  GaussianDropout-29            [-1, 512, 2, 2]               0\n",
      "        MaxPool2d-30            [-1, 512, 1, 1]               0\n",
      "           Conv2d-31            [-1, 512, 1, 1]       2,359,808\n",
      "             ReLU-32            [-1, 512, 1, 1]               0\n",
      "        MaxPool2d-33            [-1, 512, 1, 1]               0\n",
      "           Linear-34                    [-1, 2]           1,026\n",
      "================================================================\n",
      "Total params: 4,671,266\n",
      "Trainable params: 4,671,266\n",
      "Non-trainable params: 0\n",
      "----------------------------------------------------------------\n",
      "Input size (MB): 0.05\n",
      "Forward/backward pass size (MB): 10.04\n",
      "Params size (MB): 17.82\n",
      "Estimated Total Size (MB): 27.91\n",
      "----------------------------------------------------------------\n"
     ]
    }
   ],
   "source": [
    "summary(model, (3, 64, 64))"
   ]
  },
  {
   "cell_type": "markdown",
   "metadata": {},
   "source": [
    "## Training "
   ]
  },
  {
   "cell_type": "code",
   "execution_count": 6,
   "metadata": {},
   "outputs": [
    {
     "name": "stdout",
     "output_type": "stream",
     "text": [
      "------ Epoch # 1 ------\n",
      " Iteration 40: TRAIN 0.6925\n",
      " Iteration 80: TRAIN 0.6918\n",
      " Iteration 120: TRAIN 0.6874\n",
      "------ Epoch # 2 ------\n",
      " Iteration 160: TRAIN 0.6869\n",
      " Iteration 200: TRAIN 0.6815\n",
      " [Loss] TRAIN 0.6749 / VALID 0.6789\n",
      " [ACC] TRAIN 0.5940 / VALID 0.5626\n",
      " Iteration 240: TRAIN 0.6721\n",
      " Iteration 280: TRAIN 0.6740\n",
      "------ Epoch # 3 ------\n",
      " Iteration 320: TRAIN 0.6684\n",
      " Iteration 360: TRAIN 0.6617\n",
      " Iteration 400: TRAIN 0.6582\n",
      " [Loss] TRAIN 0.6389 / VALID 0.6432\n",
      " [ACC] TRAIN 0.6556 / VALID 0.6466\n",
      " Iteration 440: TRAIN 0.6460\n",
      "------ Epoch # 4 ------\n",
      " Iteration 480: TRAIN 0.6494\n",
      " Iteration 520: TRAIN 0.6318\n",
      " Iteration 560: TRAIN 0.6208\n",
      "------ Epoch # 5 ------\n",
      " Iteration 600: TRAIN 0.6109\n",
      " [Loss] TRAIN 0.5883 / VALID 0.5991\n",
      " [ACC] TRAIN 0.7006 / VALID 0.6897\n",
      " Iteration 640: TRAIN 0.6019\n",
      " Iteration 680: TRAIN 0.5954\n",
      " Iteration 720: TRAIN 0.5907\n",
      "------ Epoch # 6 ------\n",
      " Iteration 760: TRAIN 0.5856\n",
      " Iteration 800: TRAIN 0.5723\n",
      " [Loss] TRAIN 0.5380 / VALID 0.5596\n",
      " [ACC] TRAIN 0.7299 / VALID 0.7227\n",
      " Iteration 840: TRAIN 0.5745\n",
      " Iteration 880: TRAIN 0.5633\n",
      "------ Epoch # 7 ------\n",
      " Iteration 920: TRAIN 0.5569\n",
      " Iteration 960: TRAIN 0.5580\n",
      " Iteration 1000: TRAIN 0.5471\n",
      " [Loss] TRAIN 0.5235 / VALID 0.5444\n",
      " [ACC] TRAIN 0.7386 / VALID 0.7267\n",
      " Iteration 1040: TRAIN 0.5415\n",
      "------ Epoch # 8 ------\n",
      " Iteration 1080: TRAIN 0.5296\n",
      " Iteration 1120: TRAIN 0.5171\n",
      " Iteration 1160: TRAIN 0.5172\n",
      "------ Epoch # 9 ------\n",
      " Iteration 1200: TRAIN 0.4977\n",
      " [Loss] TRAIN 0.4739 / VALID 0.5080\n",
      " [ACC] TRAIN 0.7753 / VALID 0.7497\n",
      " Iteration 1240: TRAIN 0.5055\n",
      " Iteration 1280: TRAIN 0.5161\n",
      " Iteration 1320: TRAIN 0.4907\n",
      "------ Epoch # 10 ------\n",
      " Iteration 1360: TRAIN 0.4789\n",
      " Iteration 1400: TRAIN 0.4746\n",
      " [Loss] TRAIN 0.4832 / VALID 0.5221\n",
      " [ACC] TRAIN 0.7643 / VALID 0.7297\n",
      " Iteration 1440: TRAIN 0.4784\n",
      " Iteration 1480: TRAIN 0.4655\n",
      "------ Epoch # 11 ------\n",
      " Iteration 1520: TRAIN 0.4507\n",
      " Iteration 1560: TRAIN 0.4347\n",
      " Iteration 1600: TRAIN 0.4584\n",
      " [Loss] TRAIN 0.4208 / VALID 0.4666\n",
      " [ACC] TRAIN 0.8040 / VALID 0.7818\n",
      "------ Epoch # 12 ------\n",
      " Iteration 1640: TRAIN 0.4486\n",
      " Iteration 1680: TRAIN 0.4303\n",
      " Iteration 1720: TRAIN 0.4243\n",
      " Iteration 1760: TRAIN 0.4263\n",
      "------ Epoch # 13 ------\n",
      " Iteration 1800: TRAIN 0.4120\n",
      " [Loss] TRAIN 0.3983 / VALID 0.4585\n",
      " [ACC] TRAIN 0.8206 / VALID 0.7858\n",
      " Iteration 1840: TRAIN 0.4066\n",
      " Iteration 1880: TRAIN 0.4067\n",
      " Iteration 1920: TRAIN 0.3803\n",
      "------ Epoch # 14 ------\n",
      " Iteration 1960: TRAIN 0.3923\n",
      " Iteration 2000: TRAIN 0.3846\n",
      " [Loss] TRAIN 0.3525 / VALID 0.4288\n",
      " [ACC] TRAIN 0.8417 / VALID 0.8028\n",
      " Iteration 2040: TRAIN 0.3726\n",
      " Iteration 2080: TRAIN 0.3748\n",
      "------ Epoch # 15 ------\n",
      " Iteration 2120: TRAIN 0.3636\n",
      " Iteration 2160: TRAIN 0.3492\n",
      " Iteration 2200: TRAIN 0.3463\n",
      " [Loss] TRAIN 0.3020 / VALID 0.4107\n",
      " [ACC] TRAIN 0.8741 / VALID 0.8138\n",
      "------ Epoch # 16 ------\n",
      " Iteration 2240: TRAIN 0.3354\n",
      " Iteration 2280: TRAIN 0.3339\n",
      " Iteration 2320: TRAIN 0.3344\n",
      " Iteration 2360: TRAIN 0.3316\n",
      "------ Epoch # 17 ------\n",
      " Iteration 2400: TRAIN 0.3207\n",
      " [Loss] TRAIN 0.2470 / VALID 0.4057\n",
      " [ACC] TRAIN 0.8986 / VALID 0.8388\n",
      " Iteration 2440: TRAIN 0.2960\n",
      " Iteration 2480: TRAIN 0.3100\n",
      " Iteration 2520: TRAIN 0.3134\n",
      "------ Epoch # 18 ------\n",
      " Iteration 2560: TRAIN 0.2852\n",
      " Iteration 2600: TRAIN 0.2700\n",
      " [Loss] TRAIN 0.2165 / VALID 0.4172\n",
      " [ACC] TRAIN 0.9101 / VALID 0.8178\n",
      " Iteration 2640: TRAIN 0.2755\n",
      " Iteration 2680: TRAIN 0.2946\n",
      "------ Epoch # 19 ------\n",
      " Iteration 2720: TRAIN 0.2269\n",
      " Iteration 2760: TRAIN 0.2841\n",
      " Iteration 2800: TRAIN 0.2608\n",
      " [Loss] TRAIN 0.1920 / VALID 0.4214\n",
      " [ACC] TRAIN 0.9264 / VALID 0.8208\n",
      "------ Epoch # 20 ------\n",
      " Iteration 2840: TRAIN 0.2411\n",
      " Iteration 2880: TRAIN 0.2090\n",
      " Iteration 2920: TRAIN 0.2221\n",
      " Iteration 2960: TRAIN 0.2294\n",
      "------ Epoch # 21 ------\n",
      " Iteration 3000: TRAIN 0.2149\n",
      " [Loss] TRAIN 0.1457 / VALID 0.4706\n",
      " [ACC] TRAIN 0.9441 / VALID 0.8368\n",
      " Iteration 3040: TRAIN 0.2127\n",
      " Iteration 3080: TRAIN 0.2073\n",
      " Iteration 3120: TRAIN 0.2160\n",
      "------ Epoch # 22 ------\n",
      " Iteration 3160: TRAIN 0.1638\n",
      " Iteration 3200: TRAIN 0.2042\n",
      " [Loss] TRAIN 0.1151 / VALID 0.4779\n",
      " [ACC] TRAIN 0.9574 / VALID 0.8128\n",
      " Iteration 3240: TRAIN 0.1885\n",
      "------ Epoch # 23 ------\n",
      " Iteration 3280: TRAIN 0.1914\n",
      " Iteration 3320: TRAIN 0.1370\n",
      " Iteration 3360: TRAIN 0.1613\n",
      " Iteration 3400: TRAIN 0.1635\n",
      " [Loss] TRAIN 0.0973 / VALID 0.4872\n",
      " [ACC] TRAIN 0.9648 / VALID 0.8328\n",
      "------ Epoch # 24 ------\n",
      " Iteration 3440: TRAIN 0.1286\n",
      " Iteration 3480: TRAIN 0.1314\n",
      " Iteration 3520: TRAIN 0.1402\n",
      " Iteration 3560: TRAIN 0.1495\n",
      "------ Epoch # 25 ------\n",
      " Iteration 3600: TRAIN 0.1858\n",
      " [Loss] TRAIN 0.1698 / VALID 0.4380\n",
      " [ACC] TRAIN 0.9384 / VALID 0.8238\n",
      " Iteration 3640: TRAIN 0.1060\n",
      " Iteration 3680: TRAIN 0.1342\n",
      " Iteration 3720: TRAIN 0.0979\n",
      "Done...\n"
     ]
    }
   ],
   "source": [
    "from Tools.Trainer import Trainer\n",
    "\n",
    "trainer = Trainer(model, optimizer, criterion, train_loader, valid_loader, test_loader, hyperparams)\n",
    "nll_train, nll_valid, acc_train, acc_valid =  trainer.train_model()\n",
    "print('Done...')"
   ]
  },
  {
   "cell_type": "markdown",
   "metadata": {},
   "source": [
    "## Visualization"
   ]
  },
  {
   "cell_type": "markdown",
   "metadata": {},
   "source": [
    "### accuracy and loss plots"
   ]
  },
  {
   "cell_type": "code",
   "execution_count": 7,
   "metadata": {},
   "outputs": [
    {
     "data": {
      "image/png": "[encoded data removed]",
      "text/plain": [
       "<Figure size 432x288 with 1 Axes>"
      ]
     },
     "metadata": {
      "needs_background": "light"
     },
     "output_type": "display_data"
    },
    {
     "data": {
      "image/png": "[encoded data removed]",
      "text/plain": [
       "<Figure size 432x288 with 1 Axes>"
      ]
     },
     "metadata": {
      "needs_background": "light"
     },
     "output_type": "display_data"
    }
   ],
   "source": [
    "import Tools.Visualization as V\n",
    "V.plots(nll_train, nll_valid, acc_train, acc_valid)"
   ]
  },
  {
   "cell_type": "markdown",
   "metadata": {},
   "source": [
    "### Confusion Matrix"
   ]
  },
  {
   "cell_type": "code",
   "execution_count": 8,
   "metadata": {},
   "outputs": [
    {
     "data": {
      "image/png": "[encoded data removed]",
      "text/plain": [
       "<Figure size 432x288 with 2 Axes>"
      ]
     },
     "metadata": {
      "needs_background": "light"
     },
     "output_type": "display_data"
    }
   ],
   "source": [
    "cnf_matrix = trainer.confusion_matrix()\n",
    "V.plot_confusion_matrix(cnf_matrix)"
   ]
  },
  {
   "cell_type": "markdown",
   "metadata": {},
   "source": [
    "## Generate Submission"
   ]
  },
  {
   "cell_type": "code",
   "execution_count": 9,
   "metadata": {},
   "outputs": [
    {
     "name": "stdout",
     "output_type": "stream",
     "text": [
      "Done...\n"
     ]
    }
   ],
   "source": [
    "import Tools.Trainer as T\n",
    "results = T.predict_test_set(model, test_loader)\n",
    "T.generate_submission(results)"
   ]
  },
  {
   "cell_type": "markdown",
   "metadata": {},
   "source": [
    "## Saving the model"
   ]
  },
  {
   "cell_type": "code",
   "execution_count": 12,
   "metadata": {},
   "outputs": [],
   "source": [
    "torch.save(model, \"./Experiments/Xavier-Dropout-25-0.1-0.2\")"
   ]
  },
  {
   "cell_type": "code",
   "execution_count": 11,
   "metadata": {},
   "outputs": [
    {
     "data": {
      "image/png": "[encoded data removed]",
      "text/plain": [
       "<Figure size 432x288 with 1 Axes>"
      ]
     },
     "metadata": {
      "needs_background": "light"
     },
     "output_type": "display_data"
    }
   ],
   "source": [
    "imgs, steering_angle = next(iter(test_loader))\n",
    "im = imgs[0].numpy()[0]\n",
    "plt.imshow(im)\n",
    "# im2display = im.transpose((1,2,0))\n",
    "# print(im2display.shape)\n",
    "# plt.imshow(im2display, interpolation='nearest')\n",
    "plt.show()"
   ]
  },
  {
   "cell_type": "code",
   "execution_count": null,
   "metadata": {},
   "outputs": [],
   "source": []
  }
 ],
 "metadata": {
  "kernelspec": {
   "display_name": "Python 3",
   "language": "python",
   "name": "python3"
  },
  "language_info": {
   "codemirror_mode": {
    "name": "ipython",
    "version": 3
   },
   "file_extension": ".py",
   "mimetype": "text/x-python",
   "name": "python",
   "nbconvert_exporter": "python",
   "pygments_lexer": "ipython3",
   "version": "3.7.1"
  }
 },
 "nbformat": 4,
 "nbformat_minor": 2
}
