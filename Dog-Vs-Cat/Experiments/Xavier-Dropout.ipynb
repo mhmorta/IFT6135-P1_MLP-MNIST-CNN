{
 "cells": [
  {
   "cell_type": "code",
   "execution_count": 1,
   "metadata": {},
   "outputs": [],
   "source": [
    "import torch\n",
    "import torch.nn as nn\n",
    "import torch.optim as optim\n",
    "import torch.nn.init as init\n",
    "import torch.nn.functional as F\n",
    "import torchvision\n",
    "import torchvision.transforms\n",
    "import matplotlib.pyplot as plt\n",
    "import numpy as np\n",
    "import glob\n",
    "import pandas as pd\n",
    "from torch.utils.data import DataLoader\n",
    "from torchsummary import summary\n",
    "from IPython.core.debugger import set_trace\n",
    "\n",
    "from Tools import Trainer"
   ]
  },
  {
   "cell_type": "markdown",
   "metadata": {},
   "source": [
    "## Loading datasets"
   ]
  },
  {
   "cell_type": "code",
   "execution_count": 2,
   "metadata": {},
   "outputs": [],
   "source": [
    "from Tools.Dataloader import datasets_loader\n",
    "train_loader, valid_loader, test_loader = datasets_loader()"
   ]
  },
  {
   "cell_type": "markdown",
   "metadata": {},
   "source": [
    "## Hyper-parameters"
   ]
  },
  {
   "cell_type": "code",
   "execution_count": 3,
   "metadata": {},
   "outputs": [],
   "source": [
    "hyperparams = {'num_epochs': 25,\n",
    "               'lr0' :0.1, \n",
    "               'dropout':0.2,\n",
    "               'save_checkpoint': False\n",
    "                  }\n",
    "cuda_available = torch.cuda.is_available()"
   ]
  },
  {
   "cell_type": "markdown",
   "metadata": {},
   "source": [
    "## Creating the model"
   ]
  },
  {
   "cell_type": "code",
   "execution_count": 4,
   "metadata": {},
   "outputs": [],
   "source": [
    "from Classifier.XavierCNN import XavierDropout\n",
    "\n",
    "model = XavierDropout(hyperparams)\n",
    "\n",
    "if cuda_available:\n",
    "    model = model.cuda()\n",
    "\n",
    "optimizer = torch.optim.SGD(model.parameters(), lr=hyperparams['lr0'])\n",
    "criterion = nn.CrossEntropyLoss()"
   ]
  },
  {
   "cell_type": "code",
   "execution_count": 5,
   "metadata": {},
   "outputs": [
    {
     "name": "stdout",
     "output_type": "stream",
     "text": [
      "----------------------------------------------------------------\n",
      "        Layer (type)               Output Shape         Param #\n",
      "================================================================\n",
      "            Conv2d-1           [-1, 16, 64, 64]             448\n",
      "              ReLU-2           [-1, 16, 64, 64]               0\n",
      "   GaussianDropout-3           [-1, 16, 64, 64]               0\n",
      "            Conv2d-4           [-1, 32, 64, 64]           4,640\n",
      "              ReLU-5           [-1, 32, 64, 64]               0\n",
      "         MaxPool2d-6           [-1, 32, 32, 32]               0\n",
      "   GaussianDropout-7           [-1, 32, 32, 32]               0\n",
      "            Conv2d-8           [-1, 64, 32, 32]          18,496\n",
      "              ReLU-9           [-1, 64, 32, 32]               0\n",
      "  GaussianDropout-10           [-1, 64, 32, 32]               0\n",
      "           Conv2d-11          [-1, 128, 32, 32]          73,856\n",
      "             ReLU-12          [-1, 128, 32, 32]               0\n",
      "  GaussianDropout-13          [-1, 128, 32, 32]               0\n",
      "        MaxPool2d-14          [-1, 128, 16, 16]               0\n",
      "           Conv2d-15          [-1, 128, 16, 16]         147,584\n",
      "             ReLU-16          [-1, 128, 16, 16]               0\n",
      "  GaussianDropout-17          [-1, 128, 16, 16]               0\n",
      "        MaxPool2d-18            [-1, 128, 8, 8]               0\n",
      "           Conv2d-19            [-1, 256, 8, 8]         295,168\n",
      "             ReLU-20            [-1, 256, 8, 8]               0\n",
      "        MaxPool2d-21            [-1, 256, 4, 4]               0\n",
      "  GaussianDropout-22            [-1, 256, 4, 4]               0\n",
      "           Conv2d-23            [-1, 256, 4, 4]         590,080\n",
      "             ReLU-24            [-1, 256, 4, 4]               0\n",
      "  GaussianDropout-25            [-1, 256, 4, 4]               0\n",
      "        MaxPool2d-26            [-1, 256, 2, 2]               0\n",
      "           Conv2d-27            [-1, 512, 2, 2]       1,180,160\n",
      "             ReLU-28            [-1, 512, 2, 2]               0\n",
      "  GaussianDropout-29            [-1, 512, 2, 2]               0\n",
      "        MaxPool2d-30            [-1, 512, 1, 1]               0\n",
      "           Conv2d-31            [-1, 512, 1, 1]       2,359,808\n",
      "             ReLU-32            [-1, 512, 1, 1]               0\n",
      "        MaxPool2d-33            [-1, 512, 1, 1]               0\n",
      "           Linear-34                    [-1, 2]           1,026\n",
      "================================================================\n",
      "Total params: 4,671,266\n",
      "Trainable params: 4,671,266\n",
      "Non-trainable params: 0\n",
      "----------------------------------------------------------------\n",
      "Input size (MB): 0.05\n",
      "Forward/backward pass size (MB): 10.04\n",
      "Params size (MB): 17.82\n",
      "Estimated Total Size (MB): 27.91\n",
      "----------------------------------------------------------------\n"
     ]
    }
   ],
   "source": [
    "summary(model, (3, 64, 64))"
   ]
  },
  {
   "cell_type": "markdown",
   "metadata": {},
   "source": [
    "## Training "
   ]
  },
  {
   "cell_type": "code",
   "execution_count": 6,
   "metadata": {},
   "outputs": [
    {
     "name": "stdout",
     "output_type": "stream",
     "text": [
      "------ Epoch # 1 ------\n",
      " Iteration 40: TRAIN 0.6931\n",
      " Iteration 80: TRAIN 0.6913\n",
      " Iteration 120: TRAIN 0.6869\n",
      "------ Epoch # 2 ------\n",
      " Iteration 160: TRAIN 0.6849\n",
      " Iteration 200: TRAIN 0.6773\n",
      " [Loss] TRAIN 0.6690 / VALID 0.6713\n",
      " [ACC] TRAIN 0.5996 / VALID 0.6086\n",
      " Iteration 240: TRAIN 0.6753\n",
      " Iteration 280: TRAIN 0.6670\n",
      "------ Epoch # 3 ------\n",
      " Iteration 320: TRAIN 0.6627\n",
      " Iteration 360: TRAIN 0.6558\n",
      " Iteration 400: TRAIN 0.6482\n",
      " [Loss] TRAIN 0.6506 / VALID 0.6565\n",
      " [ACC] TRAIN 0.6451 / VALID 0.6236\n",
      " Iteration 440: TRAIN 0.6362\n",
      "------ Epoch # 4 ------\n",
      " Iteration 480: TRAIN 0.6260\n",
      " Iteration 520: TRAIN 0.6164\n",
      " Iteration 560: TRAIN 0.6094\n",
      "------ Epoch # 5 ------\n",
      " Iteration 600: TRAIN 0.6050\n",
      " [Loss] TRAIN 0.5845 / VALID 0.5925\n",
      " [ACC] TRAIN 0.6976 / VALID 0.6897\n",
      " Iteration 640: TRAIN 0.5799\n",
      " Iteration 680: TRAIN 0.6003\n",
      " Iteration 720: TRAIN 0.5877\n",
      "------ Epoch # 6 ------\n",
      " Iteration 760: TRAIN 0.5728\n",
      " Iteration 800: TRAIN 0.5824\n",
      " [Loss] TRAIN 0.5581 / VALID 0.5692\n",
      " [ACC] TRAIN 0.7172 / VALID 0.7057\n",
      " Iteration 840: TRAIN 0.5564\n",
      " Iteration 880: TRAIN 0.5698\n",
      "------ Epoch # 7 ------\n",
      " Iteration 920: TRAIN 0.5538\n",
      " Iteration 960: TRAIN 0.5490\n",
      " Iteration 1000: TRAIN 0.5503\n",
      " [Loss] TRAIN 0.5243 / VALID 0.5358\n",
      " [ACC] TRAIN 0.7437 / VALID 0.7297\n",
      " Iteration 1040: TRAIN 0.5381\n",
      "------ Epoch # 8 ------\n",
      " Iteration 1080: TRAIN 0.5381\n",
      " Iteration 1120: TRAIN 0.5134\n",
      " Iteration 1160: TRAIN 0.5115\n",
      "------ Epoch # 9 ------\n",
      " Iteration 1200: TRAIN 0.5191\n",
      " [Loss] TRAIN 0.4934 / VALID 0.5242\n",
      " [ACC] TRAIN 0.7609 / VALID 0.7397\n",
      " Iteration 1240: TRAIN 0.5058\n",
      " Iteration 1280: TRAIN 0.5056\n",
      " Iteration 1320: TRAIN 0.4920\n",
      "------ Epoch # 10 ------\n",
      " Iteration 1360: TRAIN 0.4798\n",
      " Iteration 1400: TRAIN 0.4956\n",
      " [Loss] TRAIN 0.4594 / VALID 0.4845\n",
      " [ACC] TRAIN 0.7833 / VALID 0.7608\n",
      " Iteration 1440: TRAIN 0.4703\n",
      " Iteration 1480: TRAIN 0.4853\n",
      "------ Epoch # 11 ------\n",
      " Iteration 1520: TRAIN 0.4332\n",
      " Iteration 1560: TRAIN 0.4270\n",
      " Iteration 1600: TRAIN 0.4302\n",
      " [Loss] TRAIN 0.4250 / VALID 0.4562\n",
      " [ACC] TRAIN 0.8048 / VALID 0.7748\n",
      "------ Epoch # 12 ------\n",
      " Iteration 1640: TRAIN 0.4219\n",
      " Iteration 1680: TRAIN 0.4214\n",
      " Iteration 1720: TRAIN 0.4235\n",
      " Iteration 1760: TRAIN 0.4208\n",
      "------ Epoch # 13 ------\n",
      " Iteration 1800: TRAIN 0.4156\n",
      " [Loss] TRAIN 0.4189 / VALID 0.4558\n",
      " [ACC] TRAIN 0.8100 / VALID 0.7928\n",
      " Iteration 1840: TRAIN 0.4174\n",
      " Iteration 1880: TRAIN 0.4188\n",
      " Iteration 1920: TRAIN 0.4164\n",
      "------ Epoch # 14 ------\n",
      " Iteration 1960: TRAIN 0.4202\n",
      " Iteration 2000: TRAIN 0.4103\n",
      " [Loss] TRAIN 0.4149 / VALID 0.4550\n",
      " [ACC] TRAIN 0.8124 / VALID 0.7838\n",
      " Iteration 2040: TRAIN 0.4147\n",
      " Iteration 2080: TRAIN 0.4226\n",
      "------ Epoch # 15 ------\n",
      " Iteration 2120: TRAIN 0.4133\n",
      " Iteration 2160: TRAIN 0.4134\n",
      " Iteration 2200: TRAIN 0.4086\n",
      " [Loss] TRAIN 0.4128 / VALID 0.4479\n",
      " [ACC] TRAIN 0.8125 / VALID 0.7918\n",
      "------ Epoch # 16 ------\n",
      " Iteration 2240: TRAIN 0.4108\n",
      " Iteration 2280: TRAIN 0.4094\n",
      " Iteration 2320: TRAIN 0.4042\n",
      " Iteration 2360: TRAIN 0.4173\n",
      "------ Epoch # 17 ------\n",
      " Iteration 2400: TRAIN 0.4143\n",
      " [Loss] TRAIN 0.4096 / VALID 0.4572\n",
      " [ACC] TRAIN 0.8166 / VALID 0.7938\n",
      " Iteration 2440: TRAIN 0.4079\n",
      " Iteration 2480: TRAIN 0.4086\n",
      " Iteration 2520: TRAIN 0.4104\n",
      "------ Epoch # 18 ------\n",
      " Iteration 2560: TRAIN 0.4171\n",
      " Iteration 2600: TRAIN 0.4124\n",
      " [Loss] TRAIN 0.4077 / VALID 0.4513\n",
      " [ACC] TRAIN 0.8158 / VALID 0.7968\n",
      " Iteration 2640: TRAIN 0.4113\n",
      " Iteration 2680: TRAIN 0.3970\n",
      "------ Epoch # 19 ------\n",
      " Iteration 2720: TRAIN 0.4115\n",
      " Iteration 2760: TRAIN 0.4050\n",
      " Iteration 2800: TRAIN 0.4017\n",
      " [Loss] TRAIN 0.4054 / VALID 0.4501\n",
      " [ACC] TRAIN 0.8161 / VALID 0.7908\n",
      "------ Epoch # 20 ------\n",
      " Iteration 2840: TRAIN 0.4041\n",
      " Iteration 2880: TRAIN 0.4052\n",
      " Iteration 2920: TRAIN 0.4063\n",
      " Iteration 2960: TRAIN 0.4011\n",
      "------ Epoch # 21 ------\n",
      " Iteration 3000: TRAIN 0.4080\n",
      " [Loss] TRAIN 0.4042 / VALID 0.4458\n",
      " [ACC] TRAIN 0.8187 / VALID 0.8008\n",
      " Iteration 3040: TRAIN 0.4018\n",
      " Iteration 3080: TRAIN 0.4003\n",
      " Iteration 3120: TRAIN 0.4058\n",
      "------ Epoch # 22 ------\n",
      " Iteration 3160: TRAIN 0.4104\n",
      " Iteration 3200: TRAIN 0.4046\n",
      " [Loss] TRAIN 0.4051 / VALID 0.4443\n",
      " [ACC] TRAIN 0.8185 / VALID 0.8008\n",
      " Iteration 3240: TRAIN 0.4104\n",
      "------ Epoch # 23 ------\n",
      " Iteration 3280: TRAIN 0.4015\n",
      " Iteration 3320: TRAIN 0.4120\n",
      " Iteration 3360: TRAIN 0.4046\n",
      " Iteration 3400: TRAIN 0.4003\n",
      " [Loss] TRAIN 0.4039 / VALID 0.4433\n",
      " [ACC] TRAIN 0.8193 / VALID 0.7988\n",
      "------ Epoch # 24 ------\n",
      " Iteration 3440: TRAIN 0.3964\n",
      " Iteration 3480: TRAIN 0.4000\n",
      " Iteration 3520: TRAIN 0.4052\n",
      " Iteration 3560: TRAIN 0.4097\n",
      "------ Epoch # 25 ------\n",
      " Iteration 3600: TRAIN 0.4041\n",
      " [Loss] TRAIN 0.4032 / VALID 0.4460\n",
      " [ACC] TRAIN 0.8164 / VALID 0.7898\n",
      " Iteration 3640: TRAIN 0.4070\n",
      " Iteration 3680: TRAIN 0.4018\n",
      " Iteration 3720: TRAIN 0.4089\n",
      "Done...\n"
     ]
    }
   ],
   "source": [
    "from Tools.Trainer import Trainer\n",
    "\n",
    "trainer = Trainer(model, optimizer, criterion, train_loader, valid_loader, test_loader, hyperparams)\n",
    "nll_train, nll_valid, acc_train, acc_valid =  trainer.train_model()\n",
    "print('Done...')"
   ]
  },
  {
   "cell_type": "markdown",
   "metadata": {},
   "source": [
    "## Visualization"
   ]
  },
  {
   "cell_type": "markdown",
   "metadata": {},
   "source": [
    "### accuracy and loss plots"
   ]
  },
  {
   "cell_type": "code",
   "execution_count": 7,
   "metadata": {},
   "outputs": [
    {
     "data": {
      "image/png": "[encoded data removed]",
      "text/plain": [
       "<Figure size 432x288 with 1 Axes>"
      ]
     },
     "metadata": {
      "needs_background": "light"
     },
     "output_type": "display_data"
    },
    {
     "data": {
      "image/png": "[encoded data removed]",
      "text/plain": [
       "<Figure size 432x288 with 1 Axes>"
      ]
     },
     "metadata": {
      "needs_background": "light"
     },
     "output_type": "display_data"
    }
   ],
   "source": [
    "import Tools.Visualization as V\n",
    "V.plots(nll_train, nll_valid, acc_train, acc_valid)"
   ]
  },
  {
   "cell_type": "markdown",
   "metadata": {},
   "source": [
    "### Confusion Matrix"
   ]
  },
  {
   "cell_type": "code",
   "execution_count": 8,
   "metadata": {},
   "outputs": [
    {
     "data": {
      "image/png": "[encoded data removed]",
      "text/plain": [
       "<Figure size 432x288 with 2 Axes>"
      ]
     },
     "metadata": {
      "needs_background": "light"
     },
     "output_type": "display_data"
    }
   ],
   "source": [
    "cnf_matrix = trainer.confusion_matrix()\n",
    "V.plot_confusion_matrix(cnf_matrix)"
   ]
  },
  {
   "cell_type": "markdown",
   "metadata": {},
   "source": [
    "## Generate Submission"
   ]
  },
  {
   "cell_type": "code",
   "execution_count": 11,
   "metadata": {},
   "outputs": [
    {
     "name": "stdout",
     "output_type": "stream",
     "text": [
      "Done...\n"
     ]
    }
   ],
   "source": [
    "import Tools.Trainer as T\n",
    "results = T.predict_test_set(model, test_loader)\n",
    "T.generate_submission(results)"
   ]
  },
  {
   "cell_type": "markdown",
   "metadata": {},
   "source": [
    "## Saving the model"
   ]
  },
  {
   "cell_type": "code",
   "execution_count": 10,
   "metadata": {},
   "outputs": [],
   "source": [
    "torch.save(model, \"./Experiments/Xavier-Dropout-25-0.1-0.2\")"
   ]
  }
 ],
 "metadata": {
  "kernelspec": {
   "display_name": "Python 3",
   "language": "python",
   "name": "python3"
  },
  "language_info": {
   "codemirror_mode": {
    "name": "ipython",
    "version": 3
   },
   "file_extension": ".py",
   "mimetype": "text/x-python",
   "name": "python",
   "nbconvert_exporter": "python",
   "pygments_lexer": "ipython3",
   "version": "3.7.1"
  }
 },
 "nbformat": 4,
 "nbformat_minor": 2
}
