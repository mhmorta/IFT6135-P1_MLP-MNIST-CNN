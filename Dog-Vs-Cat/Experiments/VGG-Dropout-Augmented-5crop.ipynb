{
 "cells": [
  {
   "cell_type": "code",
   "execution_count": 1,
   "metadata": {},
   "outputs": [],
   "source": [
    "import torch\n",
    "import torch.nn as nn\n",
    "import torch.optim as optim\n",
    "import torch.nn.init as init\n",
    "import torch.nn.functional as F\n",
    "import torchvision\n",
    "import torchvision.transforms\n",
    "import matplotlib.pyplot as plt\n",
    "import numpy as np\n",
    "import glob\n",
    "import pandas as pd\n",
    "from torch.utils.data import DataLoader\n",
    "from torchsummary import summary\n",
    "from IPython.core.debugger import set_trace\n",
    "\n",
    "from Tools import Trainer"
   ]
  },
  {
   "cell_type": "markdown",
   "metadata": {},
   "source": [
    "## Loading datasets"
   ]
  },
  {
   "cell_type": "code",
   "execution_count": 2,
   "metadata": {},
   "outputs": [],
   "source": [
    "from Tools.Dataloader import datasets_loader\n",
    "\n",
    "normalize = torchvision.transforms.Normalize((0.4895832, 0.4546405, 0.41594946), \n",
    "                                (0.2520022, 0.24522494, 0.24728711))\n",
    "train_val_transforms = torchvision.transforms.Compose([\n",
    "                            torchvision.transforms.RandomCrop(64),\n",
    "                            torchvision.transforms.RandomHorizontalFlip(),\n",
    "                            torchvision.transforms.ToTensor(),\n",
    "                            normalize])\n",
    "\n",
    "norm_transforms = torchvision.transforms.Compose([torchvision.transforms.ToTensor(),\n",
    "                                                normalize])       \n",
    "                                                  \n",
    "test_transforms = torchvision.transforms.Compose([\n",
    "    torchvision.transforms.FiveCrop(64), # this is a list of PIL Images\n",
    "    torchvision.transforms.Lambda(lambda crops: torch.stack([norm_transforms(crop) for crop in crops])), # returns a 4D tensor\n",
    "])\n",
    "                                                  \n",
    "train_loader, valid_loader, test_loader = datasets_loader(train_val_transforms, test_transforms)"
   ]
  },
  {
   "cell_type": "code",
   "execution_count": 3,
   "metadata": {},
   "outputs": [
    {
     "name": "stdout",
     "output_type": "stream",
     "text": [
      "Dataset ImageFolder\n",
      "    Number of datapoints: 19998\n",
      "    Root Location: ./data/trainset/\n",
      "    Transforms (if any): Compose(\n",
      "                             RandomCrop(size=(64, 64), padding=0)\n",
      "                             RandomHorizontalFlip(p=0.5)\n",
      "                             ToTensor()\n",
      "                             Normalize(mean=(0.4895832, 0.4546405, 0.41594946), std=(0.2520022, 0.24522494, 0.24728711))\n",
      "                         )\n",
      "    Target Transforms (if any): None\n",
      "<Tools.Dataloader.DriveData object at 0x7effe055a668>\n"
     ]
    }
   ],
   "source": [
    "print(train_loader.dataset.dataset)\n",
    "print(test_loader.dataset)"
   ]
  },
  {
   "cell_type": "markdown",
   "metadata": {},
   "source": [
    "## Hyper-parameters"
   ]
  },
  {
   "cell_type": "code",
   "execution_count": 4,
   "metadata": {},
   "outputs": [],
   "source": [
    "hyperparams = {'num_epochs': 50,\n",
    "               'lr0' :0.1, \n",
    "               'dropout':0.2,\n",
    "               'gamma': 1,\n",
    "               'adjust_lr': False,\n",
    "               'init_weights':True,\n",
    "               'save_checkpoint': True      \n",
    "                  }\n",
    "cuda_available = torch.cuda.is_available()"
   ]
  },
  {
   "cell_type": "markdown",
   "metadata": {},
   "source": [
    "## Creating the model"
   ]
  },
  {
   "cell_type": "code",
   "execution_count": 5,
   "metadata": {},
   "outputs": [],
   "source": [
    "from Classifier.VGG import VGG16_Dropout\n",
    "\n",
    "model = VGG16_Dropout(hyperparams)\n",
    "if cuda_available:\n",
    "    model = model.cuda()\n",
    "\n",
    "optimizer = torch.optim.SGD(model.parameters(), lr=hyperparams['lr0'])\n",
    "criterion = nn.CrossEntropyLoss()"
   ]
  },
  {
   "cell_type": "code",
   "execution_count": 6,
   "metadata": {},
   "outputs": [
    {
     "name": "stdout",
     "output_type": "stream",
     "text": [
      "----------------------------------------------------------------\n",
      "        Layer (type)               Output Shape         Param #\n",
      "================================================================\n",
      "            Conv2d-1           [-1, 64, 64, 64]           1,792\n",
      "              ReLU-2           [-1, 64, 64, 64]               0\n",
      "   GaussianDropout-3           [-1, 64, 64, 64]               0\n",
      "            Conv2d-4           [-1, 64, 64, 64]          36,928\n",
      "              ReLU-5           [-1, 64, 64, 64]               0\n",
      "         MaxPool2d-6           [-1, 64, 32, 32]               0\n",
      "            Conv2d-7          [-1, 128, 32, 32]          73,856\n",
      "              ReLU-8          [-1, 128, 32, 32]               0\n",
      "   GaussianDropout-9          [-1, 128, 32, 32]               0\n",
      "           Conv2d-10          [-1, 128, 32, 32]         147,584\n",
      "             ReLU-11          [-1, 128, 32, 32]               0\n",
      "        MaxPool2d-12          [-1, 128, 16, 16]               0\n",
      "           Conv2d-13          [-1, 256, 16, 16]         295,168\n",
      "             ReLU-14          [-1, 256, 16, 16]               0\n",
      "  GaussianDropout-15          [-1, 256, 16, 16]               0\n",
      "           Conv2d-16          [-1, 256, 16, 16]         590,080\n",
      "             ReLU-17          [-1, 256, 16, 16]               0\n",
      "           Conv2d-18          [-1, 256, 16, 16]         590,080\n",
      "             ReLU-19          [-1, 256, 16, 16]               0\n",
      "        MaxPool2d-20            [-1, 256, 8, 8]               0\n",
      "  GaussianDropout-21            [-1, 256, 8, 8]               0\n",
      "           Conv2d-22            [-1, 512, 8, 8]       1,180,160\n",
      "             ReLU-23            [-1, 512, 8, 8]               0\n",
      "           Conv2d-24            [-1, 512, 8, 8]       2,359,808\n",
      "             ReLU-25            [-1, 512, 8, 8]               0\n",
      "  GaussianDropout-26            [-1, 512, 8, 8]               0\n",
      "           Conv2d-27            [-1, 512, 8, 8]       2,359,808\n",
      "             ReLU-28            [-1, 512, 8, 8]               0\n",
      "        MaxPool2d-29            [-1, 512, 4, 4]               0\n",
      "           Conv2d-30            [-1, 512, 4, 4]       2,359,808\n",
      "             ReLU-31            [-1, 512, 4, 4]               0\n",
      "  GaussianDropout-32            [-1, 512, 4, 4]               0\n",
      "           Conv2d-33            [-1, 512, 4, 4]       2,359,808\n",
      "             ReLU-34            [-1, 512, 4, 4]               0\n",
      "           Conv2d-35            [-1, 512, 4, 4]       2,359,808\n",
      "             ReLU-36            [-1, 512, 4, 4]               0\n",
      "  GaussianDropout-37            [-1, 512, 4, 4]               0\n",
      "        MaxPool2d-38            [-1, 512, 2, 2]               0\n",
      "           Linear-39                 [-1, 4096]       8,392,704\n",
      "           Linear-40                 [-1, 4096]      16,781,312\n",
      "           Linear-41                    [-1, 2]           8,194\n",
      "================================================================\n",
      "Total params: 39,896,898\n",
      "Trainable params: 39,896,898\n",
      "Non-trainable params: 0\n",
      "----------------------------------------------------------------\n",
      "Input size (MB): 0.05\n",
      "Forward/backward pass size (MB): 21.89\n",
      "Params size (MB): 152.19\n",
      "Estimated Total Size (MB): 174.13\n",
      "----------------------------------------------------------------\n"
     ]
    }
   ],
   "source": [
    "summary(model, (3, 64, 64))"
   ]
  },
  {
   "cell_type": "markdown",
   "metadata": {},
   "source": [
    "## Training "
   ]
  },
  {
   "cell_type": "code",
   "execution_count": 7,
   "metadata": {},
   "outputs": [
    {
     "name": "stdout",
     "output_type": "stream",
     "text": [
      "------ Epoch # 1 ------\n",
      " Iteration 40: TRAIN 0.6936\n",
      " Iteration 80: TRAIN 0.6935\n",
      " Iteration 120: TRAIN 0.6934\n",
      "------ Epoch # 2 ------\n",
      " Iteration 160: TRAIN 0.6940\n",
      " Iteration 200: TRAIN 0.6935\n",
      " [Loss] TRAIN 0.6930 / VALID 0.6932\n",
      " [ACC] TRAIN 0.5008 / VALID 0.4855\n",
      "new checkpoint is saved!\n",
      " Iteration 240: TRAIN 0.6935\n",
      " Iteration 280: TRAIN 0.6926\n",
      "------ Epoch # 3 ------\n",
      " Iteration 320: TRAIN 0.6933\n",
      " Iteration 360: TRAIN 0.6927\n",
      " Iteration 400: TRAIN 0.6930\n",
      " [Loss] TRAIN 0.6923 / VALID 0.6921\n",
      " [ACC] TRAIN 0.5625 / VALID 0.5676\n",
      "new checkpoint is saved!\n",
      " Iteration 440: TRAIN 0.6922\n",
      "------ Epoch # 4 ------\n",
      " Iteration 480: TRAIN 0.6924\n",
      " Iteration 520: TRAIN 0.6904\n",
      " Iteration 560: TRAIN 0.6899\n",
      "------ Epoch # 5 ------\n",
      " Iteration 600: TRAIN 0.6841\n",
      " [Loss] TRAIN 0.6938 / VALID 0.6897\n",
      " [ACC] TRAIN 0.5225 / VALID 0.5345\n",
      "new checkpoint is saved!\n",
      " Iteration 640: TRAIN 0.6837\n",
      " Iteration 680: TRAIN 0.6811\n",
      " Iteration 720: TRAIN 0.6895\n",
      "------ Epoch # 6 ------\n",
      " Iteration 760: TRAIN 0.6934\n",
      " Iteration 800: TRAIN 0.6911\n",
      " [Loss] TRAIN 0.6844 / VALID 0.6852\n",
      " [ACC] TRAIN 0.6036 / VALID 0.5986\n",
      "new checkpoint is saved!\n",
      " Iteration 840: TRAIN 0.6787\n",
      " Iteration 880: TRAIN 0.6660\n",
      "------ Epoch # 7 ------\n",
      " Iteration 920: TRAIN 0.6684\n",
      " Iteration 960: TRAIN 0.6670\n",
      " Iteration 1000: TRAIN 0.6656\n",
      " [Loss] TRAIN 0.6493 / VALID 0.6558\n",
      " [ACC] TRAIN 0.6435 / VALID 0.6236\n",
      "new checkpoint is saved!\n",
      " Iteration 1040: TRAIN 0.6630\n",
      "------ Epoch # 8 ------\n",
      " Iteration 1080: TRAIN 0.6505\n",
      " Iteration 1120: TRAIN 0.6410\n",
      " Iteration 1160: TRAIN 0.6404\n",
      "------ Epoch # 9 ------\n",
      " Iteration 1200: TRAIN 0.6314\n",
      " [Loss] TRAIN 0.6482 / VALID 0.6455\n",
      " [ACC] TRAIN 0.6395 / VALID 0.6426\n",
      "new checkpoint is saved!\n",
      " Iteration 1240: TRAIN 0.6304\n",
      " Iteration 1280: TRAIN 0.6087\n",
      " Iteration 1320: TRAIN 0.6091\n",
      "------ Epoch # 10 ------\n",
      " Iteration 1360: TRAIN 0.6017\n",
      " Iteration 1400: TRAIN 0.5859\n",
      " [Loss] TRAIN 0.5460 / VALID 0.5534\n",
      " [ACC] TRAIN 0.7228 / VALID 0.7167\n",
      "new checkpoint is saved!\n",
      " Iteration 1440: TRAIN 0.5675\n",
      " Iteration 1480: TRAIN 0.5709\n",
      "------ Epoch # 11 ------\n",
      " Iteration 1520: TRAIN 0.5486\n",
      " Iteration 1560: TRAIN 0.5521\n",
      " Iteration 1600: TRAIN 0.5416\n",
      " [Loss] TRAIN 0.5022 / VALID 0.5161\n",
      " [ACC] TRAIN 0.7543 / VALID 0.7588\n",
      "new checkpoint is saved!\n",
      "------ Epoch # 12 ------\n",
      " Iteration 1640: TRAIN 0.5541\n",
      " Iteration 1680: TRAIN 0.5278\n",
      " Iteration 1720: TRAIN 0.5258\n",
      " Iteration 1760: TRAIN 0.5076\n",
      "------ Epoch # 13 ------\n",
      " Iteration 1800: TRAIN 0.5203\n",
      " [Loss] TRAIN 0.4981 / VALID 0.5248\n",
      " [ACC] TRAIN 0.7629 / VALID 0.7337\n",
      "new checkpoint is saved!\n",
      " Iteration 1840: TRAIN 0.4913\n",
      " Iteration 1880: TRAIN 0.5043\n",
      " Iteration 1920: TRAIN 0.4672\n",
      "------ Epoch # 14 ------\n",
      " Iteration 1960: TRAIN 0.4849\n",
      " Iteration 2000: TRAIN 0.4591\n",
      " [Loss] TRAIN 0.4337 / VALID 0.4398\n",
      " [ACC] TRAIN 0.7935 / VALID 0.8048\n",
      "new checkpoint is saved!\n",
      " Iteration 2040: TRAIN 0.4480\n",
      " Iteration 2080: TRAIN 0.4502\n",
      "------ Epoch # 15 ------\n",
      " Iteration 2120: TRAIN 0.4449\n",
      " Iteration 2160: TRAIN 0.4229\n",
      " Iteration 2200: TRAIN 0.4096\n",
      " [Loss] TRAIN 0.4381 / VALID 0.4581\n",
      " [ACC] TRAIN 0.7998 / VALID 0.7968\n",
      "new checkpoint is saved!\n",
      "------ Epoch # 16 ------\n",
      " Iteration 2240: TRAIN 0.4150\n",
      " Iteration 2280: TRAIN 0.3959\n",
      " Iteration 2320: TRAIN 0.3827\n",
      " Iteration 2360: TRAIN 0.3911\n",
      "------ Epoch # 17 ------\n",
      " Iteration 2400: TRAIN 0.3756\n",
      " [Loss] TRAIN 0.5269 / VALID 0.5262\n",
      " [ACC] TRAIN 0.7507 / VALID 0.7668\n",
      "new checkpoint is saved!\n",
      " Iteration 2440: TRAIN 0.3825\n",
      " Iteration 2480: TRAIN 0.3630\n",
      " Iteration 2520: TRAIN 0.3753\n",
      "------ Epoch # 18 ------\n",
      " Iteration 2560: TRAIN 0.3395\n",
      " Iteration 2600: TRAIN 0.3422\n",
      " [Loss] TRAIN 0.3087 / VALID 0.3300\n",
      " [ACC] TRAIN 0.8654 / VALID 0.8448\n",
      "new checkpoint is saved!\n",
      " Iteration 2640: TRAIN 0.3474\n",
      " Iteration 2680: TRAIN 0.3368\n",
      "------ Epoch # 19 ------\n",
      " Iteration 2720: TRAIN 0.3093\n",
      " Iteration 2760: TRAIN 0.3183\n",
      " Iteration 2800: TRAIN 0.3297\n",
      " [Loss] TRAIN 0.3278 / VALID 0.3776\n",
      " [ACC] TRAIN 0.8542 / VALID 0.8258\n",
      "new checkpoint is saved!\n",
      "------ Epoch # 20 ------\n",
      " Iteration 2840: TRAIN 0.3094\n",
      " Iteration 2880: TRAIN 0.3083\n",
      " Iteration 2920: TRAIN 0.2909\n",
      " Iteration 2960: TRAIN 0.2780\n",
      "------ Epoch # 21 ------\n",
      " Iteration 3000: TRAIN 0.2977\n",
      " [Loss] TRAIN 0.2527 / VALID 0.2841\n",
      " [ACC] TRAIN 0.8910 / VALID 0.8799\n",
      "new checkpoint is saved!\n",
      " Iteration 3040: TRAIN 0.2831\n",
      " Iteration 3080: TRAIN 0.2825\n",
      " Iteration 3120: TRAIN 0.2699\n",
      "------ Epoch # 22 ------\n",
      " Iteration 3160: TRAIN 0.2481\n",
      " Iteration 3200: TRAIN 0.2612\n",
      " [Loss] TRAIN 0.2390 / VALID 0.2854\n",
      " [ACC] TRAIN 0.8967 / VALID 0.8739\n",
      "new checkpoint is saved!\n",
      " Iteration 3240: TRAIN 0.2514\n",
      "------ Epoch # 23 ------\n",
      " Iteration 3280: TRAIN 0.2719\n",
      " Iteration 3320: TRAIN 0.2471\n",
      " Iteration 3360: TRAIN 0.2493\n",
      " Iteration 3400: TRAIN 0.2327\n",
      " [Loss] TRAIN 0.1982 / VALID 0.2636\n",
      " [ACC] TRAIN 0.9160 / VALID 0.8879\n",
      "new checkpoint is saved!\n",
      "------ Epoch # 24 ------\n",
      " Iteration 3440: TRAIN 0.2404\n",
      " Iteration 3480: TRAIN 0.2256\n",
      " Iteration 3520: TRAIN 0.2258\n",
      " Iteration 3560: TRAIN 0.2261\n",
      "------ Epoch # 25 ------\n",
      " Iteration 3600: TRAIN 0.2213\n",
      " [Loss] TRAIN 0.2437 / VALID 0.3330\n",
      " [ACC] TRAIN 0.8988 / VALID 0.8709\n",
      "new checkpoint is saved!\n",
      " Iteration 3640: TRAIN 0.2108\n",
      " Iteration 3680: TRAIN 0.2118\n",
      " Iteration 3720: TRAIN 0.2096\n",
      "------ Epoch # 26 ------\n",
      " Iteration 3760: TRAIN 0.2050\n",
      " Iteration 3800: TRAIN 0.2123\n",
      " [Loss] TRAIN 0.1656 / VALID 0.2441\n",
      " [ACC] TRAIN 0.9344 / VALID 0.9029\n",
      "new checkpoint is saved!\n",
      " Iteration 3840: TRAIN 0.1875\n",
      "------ Epoch # 27 ------\n",
      " Iteration 3880: TRAIN 0.1891\n",
      " Iteration 3920: TRAIN 0.2162\n",
      " Iteration 3960: TRAIN 0.1751\n",
      " Iteration 4000: TRAIN 0.1873\n",
      " [Loss] TRAIN 0.1445 / VALID 0.2426\n",
      " [ACC] TRAIN 0.9432 / VALID 0.9029\n",
      "new checkpoint is saved!\n",
      "------ Epoch # 28 ------\n",
      " Iteration 4040: TRAIN 0.1714\n",
      " Iteration 4080: TRAIN 0.1732\n",
      " Iteration 4120: TRAIN 0.1563\n",
      " Iteration 4160: TRAIN 0.1823\n",
      "------ Epoch # 29 ------\n",
      " Iteration 4200: TRAIN 0.1900\n",
      " [Loss] TRAIN 0.1547 / VALID 0.2433\n",
      " [ACC] TRAIN 0.9413 / VALID 0.8949\n",
      "new checkpoint is saved!\n",
      " Iteration 4240: TRAIN 0.1630\n",
      " Iteration 4280: TRAIN 0.1471\n",
      " Iteration 4320: TRAIN 0.1641\n",
      "------ Epoch # 30 ------\n",
      " Iteration 4360: TRAIN 0.1437\n",
      " Iteration 4400: TRAIN 0.1438\n",
      " [Loss] TRAIN 0.1207 / VALID 0.2554\n",
      " [ACC] TRAIN 0.9530 / VALID 0.9029\n",
      "new checkpoint is saved!\n",
      " Iteration 4440: TRAIN 0.1424\n",
      "------ Epoch # 31 ------\n",
      " Iteration 4480: TRAIN 0.1571\n",
      " Iteration 4520: TRAIN 0.1216\n",
      " Iteration 4560: TRAIN 0.1426\n",
      " Iteration 4600: TRAIN 0.1347\n",
      " [Loss] TRAIN 0.1112 / VALID 0.2658\n",
      " [ACC] TRAIN 0.9579 / VALID 0.8999\n",
      "new checkpoint is saved!\n",
      "------ Epoch # 32 ------\n",
      " Iteration 4640: TRAIN 0.1332\n",
      " Iteration 4680: TRAIN 0.1178\n",
      " Iteration 4720: TRAIN 0.1384\n",
      " Iteration 4760: TRAIN 0.1342\n",
      "------ Epoch # 33 ------\n",
      " Iteration 4800: TRAIN 0.0978\n",
      " [Loss] TRAIN 0.0889 / VALID 0.2852\n",
      " [ACC] TRAIN 0.9655 / VALID 0.9039\n",
      "new checkpoint is saved!\n",
      " Iteration 4840: TRAIN 0.1609\n",
      " Iteration 4880: TRAIN 0.1103\n",
      "------ Epoch # 34 ------\n",
      " Iteration 4920: TRAIN 0.1098\n",
      " Iteration 4960: TRAIN 0.1084\n",
      " Iteration 5000: TRAIN 0.0985\n",
      " [Loss] TRAIN 0.0812 / VALID 0.2568\n",
      " [ACC] TRAIN 0.9709 / VALID 0.9099\n",
      "new checkpoint is saved!\n",
      " Iteration 5040: TRAIN 0.1212\n",
      "------ Epoch # 35 ------\n",
      " Iteration 5080: TRAIN 0.1128\n",
      " Iteration 5120: TRAIN 0.0798\n",
      " Iteration 5160: TRAIN 0.0947\n",
      " Iteration 5200: TRAIN 0.1031\n",
      " [Loss] TRAIN 0.0768 / VALID 0.2752\n",
      " [ACC] TRAIN 0.9736 / VALID 0.9039\n",
      "new checkpoint is saved!\n",
      "------ Epoch # 36 ------\n",
      " Iteration 5240: TRAIN 0.0926\n",
      " Iteration 5280: TRAIN 0.0804\n",
      " Iteration 5320: TRAIN 0.0727\n",
      " Iteration 5360: TRAIN 0.0944\n",
      "------ Epoch # 37 ------\n",
      " Iteration 5400: TRAIN 0.0796\n",
      " [Loss] TRAIN 0.0692 / VALID 0.3016\n",
      " [ACC] TRAIN 0.9740 / VALID 0.9029\n",
      "new checkpoint is saved!\n",
      " Iteration 5440: TRAIN 0.0862\n",
      " Iteration 5480: TRAIN 0.1246\n",
      "------ Epoch # 38 ------\n",
      " Iteration 5520: TRAIN 0.0828\n",
      " Iteration 5560: TRAIN 0.0616\n",
      " Iteration 5600: TRAIN 0.0729\n",
      " [Loss] TRAIN 0.0429 / VALID 0.2810\n",
      " [ACC] TRAIN 0.9845 / VALID 0.9129\n",
      "new checkpoint is saved!\n",
      " Iteration 5640: TRAIN 0.0687\n",
      "------ Epoch # 39 ------\n",
      " Iteration 5680: TRAIN 0.0881\n",
      " Iteration 5720: TRAIN 0.0692\n",
      " Iteration 5760: TRAIN 0.0667\n",
      " Iteration 5800: TRAIN 0.0653\n",
      " [Loss] TRAIN 0.0760 / VALID 0.2879\n",
      " [ACC] TRAIN 0.9694 / VALID 0.9009\n",
      "new checkpoint is saved!\n",
      "------ Epoch # 40 ------\n",
      " Iteration 5840: TRAIN 0.0533\n",
      " Iteration 5880: TRAIN 0.0589\n",
      " Iteration 5920: TRAIN 0.0731\n",
      " Iteration 5960: TRAIN 0.0644\n",
      "------ Epoch # 41 ------\n"
     ]
    },
    {
     "name": "stdout",
     "output_type": "stream",
     "text": [
      " Iteration 6000: TRAIN 0.0590\n",
      " [Loss] TRAIN 0.0521 / VALID 0.3563\n",
      " [ACC] TRAIN 0.9803 / VALID 0.9069\n",
      "new checkpoint is saved!\n",
      " Iteration 6040: TRAIN 0.0549\n",
      " Iteration 6080: TRAIN 0.0580\n",
      "------ Epoch # 42 ------\n",
      " Iteration 6120: TRAIN 0.0468\n",
      " Iteration 6160: TRAIN 0.0997\n",
      " Iteration 6200: TRAIN 0.0601\n",
      " [Loss] TRAIN 0.0364 / VALID 0.3178\n",
      " [ACC] TRAIN 0.9856 / VALID 0.9089\n",
      "new checkpoint is saved!\n",
      " Iteration 6240: TRAIN 0.0671\n",
      "------ Epoch # 43 ------\n",
      " Iteration 6280: TRAIN 0.0377\n",
      " Iteration 6320: TRAIN 0.0412\n",
      " Iteration 6360: TRAIN 0.0560\n",
      " Iteration 6400: TRAIN 0.0434\n",
      " [Loss] TRAIN 0.0267 / VALID 0.3094\n",
      " [ACC] TRAIN 0.9908 / VALID 0.9059\n",
      "new checkpoint is saved!\n",
      "------ Epoch # 44 ------\n",
      " Iteration 6440: TRAIN 0.0451\n",
      " Iteration 6480: TRAIN 0.0338\n",
      " Iteration 6520: TRAIN 0.0540\n",
      "------ Epoch # 45 ------\n",
      " Iteration 6560: TRAIN 0.0499\n",
      " Iteration 6600: TRAIN 0.0363\n",
      " [Loss] TRAIN 0.0462 / VALID 0.3419\n",
      " [ACC] TRAIN 0.9823 / VALID 0.9059\n",
      "new checkpoint is saved!\n",
      " Iteration 6640: TRAIN 0.0395\n",
      " Iteration 6680: TRAIN 0.0342\n",
      "------ Epoch # 46 ------\n",
      " Iteration 6720: TRAIN 0.0489\n",
      " Iteration 6760: TRAIN 0.0248\n",
      " Iteration 6800: TRAIN 0.0377\n",
      " [Loss] TRAIN 0.0280 / VALID 0.3247\n",
      " [ACC] TRAIN 0.9918 / VALID 0.9119\n",
      "new checkpoint is saved!\n",
      " Iteration 6840: TRAIN 0.0610\n",
      "------ Epoch # 47 ------\n",
      " Iteration 6880: TRAIN 0.0258\n",
      " Iteration 6920: TRAIN 0.0385\n",
      " Iteration 6960: TRAIN 0.0280\n",
      " Iteration 7000: TRAIN 0.0763\n",
      " [Loss] TRAIN 0.0298 / VALID 0.3036\n",
      " [ACC] TRAIN 0.9898 / VALID 0.9089\n",
      "new checkpoint is saved!\n",
      "------ Epoch # 48 ------\n",
      " Iteration 7040: TRAIN 0.0246\n",
      " Iteration 7080: TRAIN 0.0269\n",
      " Iteration 7120: TRAIN 0.0281\n",
      "------ Epoch # 49 ------\n",
      " Iteration 7160: TRAIN 0.0327\n",
      " Iteration 7200: TRAIN 0.0318\n",
      " [Loss] TRAIN 0.0173 / VALID 0.3595\n",
      " [ACC] TRAIN 0.9948 / VALID 0.9089\n",
      "new checkpoint is saved!\n",
      " Iteration 7240: TRAIN 0.0380\n",
      " Iteration 7280: TRAIN 0.0294\n",
      "------ Epoch # 50 ------\n",
      " Iteration 7320: TRAIN 0.0352\n",
      " Iteration 7360: TRAIN 0.0211\n",
      " Iteration 7400: TRAIN 0.0519\n",
      " [Loss] TRAIN 0.0322 / VALID 0.3096\n",
      " [ACC] TRAIN 0.9881 / VALID 0.9149\n",
      "new checkpoint is saved!\n",
      " Iteration 7440: TRAIN 0.0306\n",
      "Done...\n"
     ]
    }
   ],
   "source": [
    "from Tools.Trainer import Trainer\n",
    "\n",
    "trainer = Trainer(model, optimizer, criterion, train_loader, valid_loader, test_loader, hyperparams)\n",
    "nll_train, nll_valid, acc_train, acc_valid =  trainer.train_model()\n",
    "print('Done...')"
   ]
  },
  {
   "cell_type": "markdown",
   "metadata": {},
   "source": [
    "## Visualization"
   ]
  },
  {
   "cell_type": "markdown",
   "metadata": {},
   "source": [
    "### accuracy and loss plots"
   ]
  },
  {
   "cell_type": "code",
   "execution_count": 13,
   "metadata": {},
   "outputs": [
    {
     "data": {
      "image/png": "[encoded data removed]",
      "text/plain": [
       "<Figure size 432x288 with 1 Axes>"
      ]
     },
     "metadata": {
      "needs_background": "light"
     },
     "output_type": "display_data"
    },
    {
     "data": {
      "image/png": "[encoded data removed]",
      "text/plain": [
       "<Figure size 432x288 with 1 Axes>"
      ]
     },
     "metadata": {
      "needs_background": "light"
     },
     "output_type": "display_data"
    }
   ],
   "source": [
    "import Tools.Visualization as V\n",
    "V.plots(nll_train, nll_valid, acc_train, acc_valid)"
   ]
  },
  {
   "cell_type": "code",
   "execution_count": 17,
   "metadata": {},
   "outputs": [
    {
     "name": "stdout",
     "output_type": "stream",
     "text": [
      "37\n"
     ]
    }
   ],
   "source": [
    "print(len(nll_train))"
   ]
  },
  {
   "cell_type": "markdown",
   "metadata": {},
   "source": [
    "### Confusion Matrix"
   ]
  },
  {
   "cell_type": "code",
   "execution_count": 9,
   "metadata": {},
   "outputs": [
    {
     "data": {
      "image/png": "[encoded data removed]",
      "text/plain": [
       "<Figure size 432x288 with 2 Axes>"
      ]
     },
     "metadata": {
      "needs_background": "light"
     },
     "output_type": "display_data"
    }
   ],
   "source": [
    "import Tools.Visualization as V\n",
    "cnf_matrix = trainer.confusion_matrix()\n",
    "V.plot_confusion_matrix(cnf_matrix)"
   ]
  },
  {
   "cell_type": "markdown",
   "metadata": {},
   "source": [
    "## Saving the model"
   ]
  },
  {
   "cell_type": "code",
   "execution_count": 10,
   "metadata": {},
   "outputs": [],
   "source": [
    "torch.save(model, \"./Experiments/VGG-Dropout-Augmented-5crop\")"
   ]
  },
  {
   "cell_type": "markdown",
   "metadata": {},
   "source": [
    "## Generate Submission"
   ]
  },
  {
   "cell_type": "code",
   "execution_count": 12,
   "metadata": {},
   "outputs": [
    {
     "name": "stdout",
     "output_type": "stream",
     "text": [
      "Done...\n"
     ]
    }
   ],
   "source": [
    "import Tools.Trainer as T\n",
    "results = T.predict_test_set_5crop(model, test_loader)\n",
    "# print(results.size())\n",
    "T.generate_submission(results)"
   ]
  },
  {
   "cell_type": "code",
   "execution_count": null,
   "metadata": {},
   "outputs": [],
   "source": []
  }
 ],
 "metadata": {
  "kernelspec": {
   "display_name": "Python 3",
   "language": "python",
   "name": "python3"
  },
  "language_info": {
   "codemirror_mode": {
    "name": "ipython",
    "version": 3
   },
   "file_extension": ".py",
   "mimetype": "text/x-python",
   "name": "python",
   "nbconvert_exporter": "python",
   "pygments_lexer": "ipython3",
   "version": "3.7.1"
  }
 },
 "nbformat": 4,
 "nbformat_minor": 2
}
