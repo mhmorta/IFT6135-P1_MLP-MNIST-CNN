{
 "cells": [
  {
   "cell_type": "code",
   "execution_count": 1,
   "metadata": {},
   "outputs": [],
   "source": [
    "import torch\n",
    "import torch.nn as nn\n",
    "import torch.optim as optim\n",
    "import torch.nn.init as init\n",
    "import torch.nn.functional as F\n",
    "import torchvision\n",
    "import torchvision.transforms\n",
    "import matplotlib.pyplot as plt\n",
    "import numpy as np\n",
    "import glob\n",
    "import pandas as pd\n",
    "from torch.utils.data import DataLoader\n",
    "from torchsummary import summary\n",
    "from IPython.core.debugger import set_trace\n",
    "\n",
    "from Tools import Trainer"
   ]
  },
  {
   "cell_type": "markdown",
   "metadata": {},
   "source": [
    "## Loading datasets"
   ]
  },
  {
   "cell_type": "code",
   "execution_count": 2,
   "metadata": {},
   "outputs": [],
   "source": [
    "from Tools.Dataloader import datasets_loader\n",
    "train_loader, valid_loader, test_loader = datasets_loader()"
   ]
  },
  {
   "cell_type": "markdown",
   "metadata": {},
   "source": [
    "## Hyper-parameters"
   ]
  },
  {
   "cell_type": "code",
   "execution_count": 3,
   "metadata": {},
   "outputs": [],
   "source": [
    "hyperparams = {'num_epochs': 30,\n",
    "               'lr0' :0.01, \n",
    "               'gamma': 1,\n",
    "               'adjust_lr': False,\n",
    "               'save_checkpoint': False\n",
    "                  }\n",
    "cuda_available = torch.cuda.is_available()\n"
   ]
  },
  {
   "cell_type": "markdown",
   "metadata": {},
   "source": [
    "## Creating the model"
   ]
  },
  {
   "cell_type": "code",
   "execution_count": 4,
   "metadata": {},
   "outputs": [],
   "source": [
    "from Classifier.VGG import VGG16\n",
    "\n",
    "model = VGG16()\n",
    "\n",
    "if cuda_available:\n",
    "    model = model.cuda()\n",
    "\n",
    "optimizer = torch.optim.SGD(model.parameters(), lr=hyperparams['lr0'])\n",
    "criterion = nn.CrossEntropyLoss()"
   ]
  },
  {
   "cell_type": "code",
   "execution_count": 5,
   "metadata": {},
   "outputs": [
    {
     "name": "stdout",
     "output_type": "stream",
     "text": [
      "----------------------------------------------------------------\n",
      "        Layer (type)               Output Shape         Param #\n",
      "================================================================\n",
      "            Conv2d-1           [-1, 64, 64, 64]           1,792\n",
      "              ReLU-2           [-1, 64, 64, 64]               0\n",
      "            Conv2d-3           [-1, 64, 64, 64]          36,928\n",
      "              ReLU-4           [-1, 64, 64, 64]               0\n",
      "         MaxPool2d-5           [-1, 64, 32, 32]               0\n",
      "            Conv2d-6          [-1, 128, 32, 32]          73,856\n",
      "              ReLU-7          [-1, 128, 32, 32]               0\n",
      "            Conv2d-8          [-1, 128, 32, 32]         147,584\n",
      "              ReLU-9          [-1, 128, 32, 32]               0\n",
      "        MaxPool2d-10          [-1, 128, 16, 16]               0\n",
      "           Conv2d-11          [-1, 256, 16, 16]         295,168\n",
      "             ReLU-12          [-1, 256, 16, 16]               0\n",
      "           Conv2d-13          [-1, 256, 16, 16]         590,080\n",
      "             ReLU-14          [-1, 256, 16, 16]               0\n",
      "           Conv2d-15          [-1, 256, 16, 16]         590,080\n",
      "             ReLU-16          [-1, 256, 16, 16]               0\n",
      "        MaxPool2d-17            [-1, 256, 8, 8]               0\n",
      "           Conv2d-18            [-1, 512, 8, 8]       1,180,160\n",
      "             ReLU-19            [-1, 512, 8, 8]               0\n",
      "           Conv2d-20            [-1, 512, 8, 8]       2,359,808\n",
      "             ReLU-21            [-1, 512, 8, 8]               0\n",
      "           Conv2d-22            [-1, 512, 8, 8]       2,359,808\n",
      "             ReLU-23            [-1, 512, 8, 8]               0\n",
      "        MaxPool2d-24            [-1, 512, 4, 4]               0\n",
      "           Conv2d-25            [-1, 512, 4, 4]       2,359,808\n",
      "             ReLU-26            [-1, 512, 4, 4]               0\n",
      "           Conv2d-27            [-1, 512, 4, 4]       2,359,808\n",
      "             ReLU-28            [-1, 512, 4, 4]               0\n",
      "           Conv2d-29            [-1, 512, 4, 4]       2,359,808\n",
      "             ReLU-30            [-1, 512, 4, 4]               0\n",
      "        MaxPool2d-31            [-1, 512, 2, 2]               0\n",
      "           Linear-32                 [-1, 4096]       8,392,704\n",
      "           Linear-33                 [-1, 4096]      16,781,312\n",
      "           Linear-34                    [-1, 2]           8,194\n",
      "================================================================\n",
      "Total params: 39,896,898\n",
      "Trainable params: 39,896,898\n",
      "Non-trainable params: 0\n",
      "----------------------------------------------------------------\n",
      "Input size (MB): 0.05\n",
      "Forward/backward pass size (MB): 17.89\n",
      "Params size (MB): 152.19\n",
      "Estimated Total Size (MB): 170.13\n",
      "----------------------------------------------------------------\n"
     ]
    }
   ],
   "source": [
    "summary(model, (3, 64, 64))"
   ]
  },
  {
   "cell_type": "markdown",
   "metadata": {},
   "source": [
    "## Training "
   ]
  },
  {
   "cell_type": "code",
   "execution_count": 7,
   "metadata": {},
   "outputs": [
    {
     "name": "stdout",
     "output_type": "stream",
     "text": [
      "------ Epoch # 1 ------\n",
      " Iteration 40: TRAIN 0.6932\n",
      " Iteration 80: TRAIN 0.6931\n",
      " Iteration 120: TRAIN 0.6932\n",
      "------ Epoch # 2 ------\n",
      " Iteration 160: TRAIN 0.6931\n",
      " Iteration 200: TRAIN 0.6932\n",
      " [Loss] TRAIN 0.6932 / VALID 0.6931\n",
      " [ACC] TRAIN 0.4997 / VALID 0.5055\n",
      " Iteration 240: TRAIN 0.6932\n",
      " Iteration 280: TRAIN 0.6932\n",
      "------ Epoch # 3 ------\n",
      " Iteration 320: TRAIN 0.6932\n",
      " Iteration 360: TRAIN 0.6932\n",
      " Iteration 400: TRAIN 0.6932\n",
      " [Loss] TRAIN 0.6932 / VALID 0.6931\n",
      " [ACC] TRAIN 0.4997 / VALID 0.5055\n",
      " Iteration 440: TRAIN 0.6932\n",
      "------ Epoch # 4 ------\n",
      " Iteration 480: TRAIN 0.6932\n",
      " Iteration 520: TRAIN 0.6931\n",
      " Iteration 560: TRAIN 0.6933\n",
      "------ Epoch # 5 ------\n",
      " Iteration 600: TRAIN 0.6932\n",
      " [Loss] TRAIN 0.6932 / VALID 0.6931\n",
      " [ACC] TRAIN 0.4997 / VALID 0.5055\n",
      " Iteration 640: TRAIN 0.6932\n",
      " Iteration 680: TRAIN 0.6932\n",
      " Iteration 720: TRAIN 0.6932\n",
      "------ Epoch # 6 ------\n",
      " Iteration 760: TRAIN 0.6932\n",
      " Iteration 800: TRAIN 0.6932\n",
      " [Loss] TRAIN 0.6931 / VALID 0.6931\n",
      " [ACC] TRAIN 0.4997 / VALID 0.5055\n",
      " Iteration 840: TRAIN 0.6931\n",
      " Iteration 880: TRAIN 0.6933\n",
      "------ Epoch # 7 ------\n",
      " Iteration 920: TRAIN 0.6932\n",
      " Iteration 960: TRAIN 0.6932\n",
      " Iteration 1000: TRAIN 0.6932\n",
      " [Loss] TRAIN 0.6932 / VALID 0.6931\n",
      " [ACC] TRAIN 0.4997 / VALID 0.5055\n",
      " Iteration 1040: TRAIN 0.6932\n",
      "------ Epoch # 8 ------\n",
      " Iteration 1080: TRAIN 0.6932\n",
      " Iteration 1120: TRAIN 0.6932\n",
      " Iteration 1160: TRAIN 0.6932\n",
      "------ Epoch # 9 ------\n",
      " Iteration 1200: TRAIN 0.6931\n",
      " [Loss] TRAIN 0.6932 / VALID 0.6933\n",
      " [ACC] TRAIN 0.5003 / VALID 0.4945\n",
      " Iteration 1240: TRAIN 0.6932\n",
      " Iteration 1280: TRAIN 0.6931\n",
      " Iteration 1320: TRAIN 0.6932\n",
      "------ Epoch # 10 ------\n",
      " Iteration 1360: TRAIN 0.6932\n",
      " Iteration 1400: TRAIN 0.6932\n",
      " [Loss] TRAIN 0.6932 / VALID 0.6931\n",
      " [ACC] TRAIN 0.4997 / VALID 0.5055\n",
      " Iteration 1440: TRAIN 0.6932\n",
      " Iteration 1480: TRAIN 0.6932\n",
      "------ Epoch # 11 ------\n",
      " Iteration 1520: TRAIN 0.6932\n",
      " Iteration 1560: TRAIN 0.6932\n",
      " Iteration 1600: TRAIN 0.6932\n",
      " [Loss] TRAIN 0.6932 / VALID 0.6932\n",
      " [ACC] TRAIN 0.5003 / VALID 0.4945\n",
      "------ Epoch # 12 ------\n",
      " Iteration 1640: TRAIN 0.6932\n",
      " Iteration 1680: TRAIN 0.6932\n",
      " Iteration 1720: TRAIN 0.6932\n",
      " Iteration 1760: TRAIN 0.6932\n",
      "------ Epoch # 13 ------\n",
      " Iteration 1800: TRAIN 0.6932\n",
      " [Loss] TRAIN 0.6931 / VALID 0.6932\n",
      " [ACC] TRAIN 0.5003 / VALID 0.4945\n",
      " Iteration 1840: TRAIN 0.6932\n",
      " Iteration 1880: TRAIN 0.6932\n",
      " Iteration 1920: TRAIN 0.6932\n",
      "------ Epoch # 14 ------\n",
      " Iteration 1960: TRAIN 0.6932\n",
      " Iteration 2000: TRAIN 0.6932\n",
      " [Loss] TRAIN 0.6931 / VALID 0.6932\n",
      " [ACC] TRAIN 0.5003 / VALID 0.4945\n",
      " Iteration 2040: TRAIN 0.6932\n",
      " Iteration 2080: TRAIN 0.6932\n",
      "------ Epoch # 15 ------\n",
      " Iteration 2120: TRAIN 0.6932\n",
      " Iteration 2160: TRAIN 0.6932\n",
      " Iteration 2200: TRAIN 0.6932\n",
      " [Loss] TRAIN 0.6931 / VALID 0.6932\n",
      " [ACC] TRAIN 0.5003 / VALID 0.4945\n",
      "------ Epoch # 16 ------\n",
      " Iteration 2240: TRAIN 0.6932\n",
      " Iteration 2280: TRAIN 0.6931\n",
      " Iteration 2320: TRAIN 0.6932\n",
      " Iteration 2360: TRAIN 0.6932\n",
      "------ Epoch # 17 ------\n",
      " Iteration 2400: TRAIN 0.6932\n",
      " [Loss] TRAIN 0.6931 / VALID 0.6931\n",
      " [ACC] TRAIN 0.4997 / VALID 0.5055\n",
      " Iteration 2440: TRAIN 0.6931\n",
      " Iteration 2480: TRAIN 0.6932\n",
      " Iteration 2520: TRAIN 0.6931\n",
      "------ Epoch # 18 ------\n",
      " Iteration 2560: TRAIN 0.6931\n",
      " Iteration 2600: TRAIN 0.6932\n",
      " [Loss] TRAIN 0.6932 / VALID 0.6931\n",
      " [ACC] TRAIN 0.4997 / VALID 0.5055\n",
      " Iteration 2640: TRAIN 0.6932\n",
      " Iteration 2680: TRAIN 0.6932\n",
      "------ Epoch # 19 ------\n",
      " Iteration 2720: TRAIN 0.6932\n",
      " Iteration 2760: TRAIN 0.6932\n",
      " Iteration 2800: TRAIN 0.6932\n",
      " [Loss] TRAIN 0.6932 / VALID 0.6932\n",
      " [ACC] TRAIN 0.5003 / VALID 0.4945\n",
      "------ Epoch # 20 ------\n",
      " Iteration 2840: TRAIN 0.6932\n",
      " Iteration 2880: TRAIN 0.6932\n",
      " Iteration 2920: TRAIN 0.6932\n",
      " Iteration 2960: TRAIN 0.6932\n",
      "------ Epoch # 21 ------\n",
      " Iteration 3000: TRAIN 0.6931\n",
      " [Loss] TRAIN 0.6932 / VALID 0.6933\n",
      " [ACC] TRAIN 0.5003 / VALID 0.4945\n",
      " Iteration 3040: TRAIN 0.6932\n",
      " Iteration 3080: TRAIN 0.6932\n",
      " Iteration 3120: TRAIN 0.6932\n",
      "------ Epoch # 22 ------\n",
      " Iteration 3160: TRAIN 0.6932\n",
      " Iteration 3200: TRAIN 0.6932\n",
      " [Loss] TRAIN 0.6931 / VALID 0.6932\n",
      " [ACC] TRAIN 0.5003 / VALID 0.4945\n",
      " Iteration 3240: TRAIN 0.6932\n",
      "------ Epoch # 23 ------\n",
      " Iteration 3280: TRAIN 0.6932\n",
      " Iteration 3320: TRAIN 0.6932\n",
      " Iteration 3360: TRAIN 0.6932\n",
      " Iteration 3400: TRAIN 0.6932\n",
      " [Loss] TRAIN 0.6932 / VALID 0.6932\n",
      " [ACC] TRAIN 0.5003 / VALID 0.4945\n",
      "------ Epoch # 24 ------\n",
      " Iteration 3440: TRAIN 0.6932\n",
      " Iteration 3480: TRAIN 0.6932\n",
      " Iteration 3520: TRAIN 0.6932\n",
      " Iteration 3560: TRAIN 0.6932\n",
      "------ Epoch # 25 ------\n",
      " Iteration 3600: TRAIN 0.6931\n",
      " [Loss] TRAIN 0.6932 / VALID 0.6931\n",
      " [ACC] TRAIN 0.4997 / VALID 0.5055\n",
      " Iteration 3640: TRAIN 0.6932\n",
      " Iteration 3680: TRAIN 0.6932\n",
      " Iteration 3720: TRAIN 0.6932\n",
      "------ Epoch # 26 ------\n",
      " Iteration 3760: TRAIN 0.6931\n",
      " Iteration 3800: TRAIN 0.6933\n",
      " [Loss] TRAIN 0.6932 / VALID 0.6932\n",
      " [ACC] TRAIN 0.5003 / VALID 0.4945\n",
      " Iteration 3840: TRAIN 0.6932\n",
      "------ Epoch # 27 ------\n",
      " Iteration 3880: TRAIN 0.6932\n",
      " Iteration 3920: TRAIN 0.6932\n",
      " Iteration 3960: TRAIN 0.6932\n",
      " Iteration 4000: TRAIN 0.6932\n",
      " [Loss] TRAIN 0.6931 / VALID 0.6931\n",
      " [ACC] TRAIN 0.5003 / VALID 0.4945\n",
      "------ Epoch # 28 ------\n",
      " Iteration 4040: TRAIN 0.6932\n",
      " Iteration 4080: TRAIN 0.6932\n",
      " Iteration 4120: TRAIN 0.6932\n",
      " Iteration 4160: TRAIN 0.6932\n",
      "------ Epoch # 29 ------\n",
      " Iteration 4200: TRAIN 0.6932\n",
      " [Loss] TRAIN 0.6931 / VALID 0.6931\n",
      " [ACC] TRAIN 0.4997 / VALID 0.5055\n",
      " Iteration 4240: TRAIN 0.6932\n",
      " Iteration 4280: TRAIN 0.6932\n",
      " Iteration 4320: TRAIN 0.6932\n",
      "------ Epoch # 30 ------\n",
      " Iteration 4360: TRAIN 0.6932\n",
      " Iteration 4400: TRAIN 0.6932\n",
      " [Loss] TRAIN 0.6931 / VALID 0.6932\n",
      " [ACC] TRAIN 0.5003 / VALID 0.4945\n",
      " Iteration 4440: TRAIN 0.6932\n",
      "Done...\n"
     ]
    }
   ],
   "source": [
    "from Tools.Trainer import Trainer\n",
    "\n",
    "trainer = Trainer(model, optimizer, criterion, train_loader, valid_loader, test_loader, hyperparams)\n",
    "nll_train, nll_valid, acc_train, acc_valid =  trainer.train_model()\n",
    "print('Done...')"
   ]
  },
  {
   "cell_type": "markdown",
   "metadata": {},
   "source": [
    "## Visualization"
   ]
  },
  {
   "cell_type": "code",
   "execution_count": 8,
   "metadata": {},
   "outputs": [
    {
     "data": {
      "image/png": "[encoded data removed]",
      "text/plain": [
       "<Figure size 432x288 with 1 Axes>"
      ]
     },
     "metadata": {
      "needs_background": "light"
     },
     "output_type": "display_data"
    },
    {
     "data": {
      "image/png": "[encoded data removed]",
      "text/plain": [
       "<Figure size 432x288 with 1 Axes>"
      ]
     },
     "metadata": {
      "needs_background": "light"
     },
     "output_type": "display_data"
    }
   ],
   "source": [
    "import Tools.Visualization as V\n",
    "\n",
    "V.plots(nll_train, nll_valid, acc_train, acc_valid)"
   ]
  },
  {
   "cell_type": "markdown",
   "metadata": {},
   "source": [
    "## Generate Submission"
   ]
  },
  {
   "cell_type": "code",
   "execution_count": 15,
   "metadata": {},
   "outputs": [
    {
     "ename": "AttributeError",
     "evalue": "module 'Tools.Trainer' has no attribute 'predict_test_set'",
     "output_type": "error",
     "traceback": [
      "\u001b[0;31m---------------------------------------------------------------------------\u001b[0m",
      "\u001b[0;31mAttributeError\u001b[0m                            Traceback (most recent call last)",
      "\u001b[0;32m<ipython-input-15-247639e78fd5>\u001b[0m in \u001b[0;36m<module>\u001b[0;34m\u001b[0m\n\u001b[1;32m      1\u001b[0m \u001b[0;32mimport\u001b[0m \u001b[0mTools\u001b[0m\u001b[0;34m.\u001b[0m\u001b[0mTrainer\u001b[0m \u001b[0;32mas\u001b[0m \u001b[0mT\u001b[0m\u001b[0;34m\u001b[0m\u001b[0;34m\u001b[0m\u001b[0m\n\u001b[0;32m----> 2\u001b[0;31m \u001b[0mresults\u001b[0m \u001b[0;34m=\u001b[0m \u001b[0mT\u001b[0m\u001b[0;34m.\u001b[0m\u001b[0mpredict_test_set\u001b[0m\u001b[0;34m(\u001b[0m\u001b[0mtest_loader\u001b[0m\u001b[0;34m)\u001b[0m\u001b[0;34m\u001b[0m\u001b[0;34m\u001b[0m\u001b[0m\n\u001b[0m\u001b[1;32m      3\u001b[0m \u001b[0mT\u001b[0m\u001b[0;34m.\u001b[0m\u001b[0mgenerate_submission\u001b[0m\u001b[0;34m(\u001b[0m\u001b[0mresults\u001b[0m\u001b[0;34m)\u001b[0m\u001b[0;34m\u001b[0m\u001b[0;34m\u001b[0m\u001b[0m\n",
      "\u001b[0;31mAttributeError\u001b[0m: module 'Tools.Trainer' has no attribute 'predict_test_set'"
     ]
    }
   ],
   "source": [
    "import Tools.Trainer as T\n",
    "results = T.predict_test_set(test_loader)\n",
    "T.generate_submission(results)"
   ]
  },
  {
   "cell_type": "code",
   "execution_count": null,
   "metadata": {},
   "outputs": [],
   "source": [
    "torch.save(model, \"./Experiments/VGG-WI+N\")"
   ]
  }
 ],
 "metadata": {
  "kernelspec": {
   "display_name": "Python 3",
   "language": "python",
   "name": "python3"
  },
  "language_info": {
   "codemirror_mode": {
    "name": "ipython",
    "version": 3
   },
   "file_extension": ".py",
   "mimetype": "text/x-python",
   "name": "python",
   "nbconvert_exporter": "python",
   "pygments_lexer": "ipython3",
   "version": "3.7.1"
  }
 },
 "nbformat": 4,
 "nbformat_minor": 2
}
