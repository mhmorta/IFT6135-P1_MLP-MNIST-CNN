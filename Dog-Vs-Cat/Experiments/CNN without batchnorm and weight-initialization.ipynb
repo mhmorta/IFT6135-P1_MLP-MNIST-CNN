{
 "cells": [
  {
   "cell_type": "code",
   "execution_count": 1,
   "metadata": {},
   "outputs": [],
   "source": [
    "import torch\n",
    "import torch.nn as nn\n",
    "import torch.optim as optim\n",
    "import torch.nn.init as init\n",
    "import torch.nn.functional as F\n",
    "import torchvision\n",
    "import torchvision.transforms\n",
    "import matplotlib.pyplot as plt\n",
    "import numpy as np\n",
    "import glob\n",
    "import pandas as pd\n",
    "from torch.utils.data import DataLoader\n",
    "from torchsummary import summary\n",
    "from IPython.core.debugger import set_trace\n",
    "\n",
    "from Tools import Trainer"
   ]
  },
  {
   "cell_type": "markdown",
   "metadata": {},
   "source": [
    "## Loading datasets"
   ]
  },
  {
   "cell_type": "code",
   "execution_count": 2,
   "metadata": {},
   "outputs": [],
   "source": [
    "from Tools.Dataloader import datasets_loader\n",
    "train_loader, valid_loader, test_loader = datasets_loader()"
   ]
  },
  {
   "cell_type": "markdown",
   "metadata": {},
   "source": [
    "## Hyper-parameters"
   ]
  },
  {
   "cell_type": "code",
   "execution_count": 3,
   "metadata": {},
   "outputs": [],
   "source": [
    "hyperparams = {'num_epochs': 30,\n",
    "               'lr0' :0.1, \n",
    "               'save_checkpoint': False\n",
    "                  }\n",
    "cuda_available = torch.cuda.is_available()"
   ]
  },
  {
   "cell_type": "markdown",
   "metadata": {},
   "source": [
    "## Creating the model"
   ]
  },
  {
   "cell_type": "code",
   "execution_count": 4,
   "metadata": {},
   "outputs": [],
   "source": [
    "from Classifier.CNN import VanilaCNN\n",
    "\n",
    "model = VanilaCNN()\n",
    "\n",
    "if cuda_available:\n",
    "    model = model.cuda()\n",
    "\n",
    "optimizer = torch.optim.SGD(model.parameters(), lr=hyperparams['lr0'])\n",
    "criterion = nn.CrossEntropyLoss()"
   ]
  },
  {
   "cell_type": "code",
   "execution_count": 5,
   "metadata": {},
   "outputs": [
    {
     "name": "stdout",
     "output_type": "stream",
     "text": [
      "----------------------------------------------------------------\n",
      "        Layer (type)               Output Shape         Param #\n",
      "================================================================\n",
      "            Conv2d-1           [-1, 16, 64, 64]             448\n",
      "              ReLU-2           [-1, 16, 64, 64]               0\n",
      "            Conv2d-3           [-1, 32, 64, 64]           4,640\n",
      "              ReLU-4           [-1, 32, 64, 64]               0\n",
      "         MaxPool2d-5           [-1, 32, 32, 32]               0\n",
      "            Conv2d-6           [-1, 64, 32, 32]          18,496\n",
      "              ReLU-7           [-1, 64, 32, 32]               0\n",
      "            Conv2d-8          [-1, 128, 32, 32]          73,856\n",
      "              ReLU-9          [-1, 128, 32, 32]               0\n",
      "        MaxPool2d-10          [-1, 128, 16, 16]               0\n",
      "           Conv2d-11          [-1, 128, 16, 16]         147,584\n",
      "             ReLU-12          [-1, 128, 16, 16]               0\n",
      "        MaxPool2d-13            [-1, 128, 8, 8]               0\n",
      "           Conv2d-14            [-1, 256, 8, 8]         295,168\n",
      "             ReLU-15            [-1, 256, 8, 8]               0\n",
      "        MaxPool2d-16            [-1, 256, 4, 4]               0\n",
      "           Conv2d-17            [-1, 256, 4, 4]         590,080\n",
      "             ReLU-18            [-1, 256, 4, 4]               0\n",
      "        MaxPool2d-19            [-1, 256, 2, 2]               0\n",
      "           Conv2d-20            [-1, 512, 2, 2]       1,180,160\n",
      "             ReLU-21            [-1, 512, 2, 2]               0\n",
      "           Conv2d-22            [-1, 512, 2, 2]       2,359,808\n",
      "             ReLU-23            [-1, 512, 2, 2]               0\n",
      "        MaxPool2d-24            [-1, 512, 1, 1]               0\n",
      "           Linear-25                    [-1, 2]           1,026\n",
      "================================================================\n",
      "Total params: 4,671,266\n",
      "Trainable params: 4,671,266\n",
      "Non-trainable params: 0\n",
      "----------------------------------------------------------------\n",
      "Input size (MB): 0.05\n",
      "Forward/backward pass size (MB): 7.48\n",
      "Params size (MB): 17.82\n",
      "Estimated Total Size (MB): 25.35\n",
      "----------------------------------------------------------------\n"
     ]
    }
   ],
   "source": [
    "summary(model, (3, 64, 64))"
   ]
  },
  {
   "cell_type": "markdown",
   "metadata": {},
   "source": [
    "## Training "
   ]
  },
  {
   "cell_type": "code",
   "execution_count": 6,
   "metadata": {},
   "outputs": [
    {
     "name": "stdout",
     "output_type": "stream",
     "text": [
      "------ Epoch # 1 ------\n",
      " Iteration 40: TRAIN 0.6932\n",
      " Iteration 80: TRAIN 0.6933\n",
      " Iteration 120: TRAIN 0.6933\n",
      "------ Epoch # 2 ------\n",
      " Iteration 160: TRAIN 0.6932\n",
      " Iteration 200: TRAIN 0.6932\n",
      " [Loss] TRAIN 0.6933 / VALID 0.6928\n",
      " [ACC] TRAIN 0.4992 / VALID 0.5145\n",
      " Iteration 240: TRAIN 0.6935\n",
      " Iteration 280: TRAIN 0.6929\n",
      "------ Epoch # 3 ------\n",
      " Iteration 320: TRAIN 0.6934\n",
      " Iteration 360: TRAIN 0.6932\n",
      " Iteration 400: TRAIN 0.6933\n",
      " [Loss] TRAIN 0.6932 / VALID 0.6929\n",
      " [ACC] TRAIN 0.4992 / VALID 0.5145\n",
      " Iteration 440: TRAIN 0.6934\n",
      "------ Epoch # 4 ------\n",
      " Iteration 480: TRAIN 0.6932\n",
      " Iteration 520: TRAIN 0.6932\n",
      " Iteration 560: TRAIN 0.6933\n",
      "------ Epoch # 5 ------\n",
      " Iteration 600: TRAIN 0.6930\n",
      " [Loss] TRAIN 0.6939 / VALID 0.6951\n",
      " [ACC] TRAIN 0.5008 / VALID 0.4855\n",
      " Iteration 640: TRAIN 0.6931\n",
      " Iteration 680: TRAIN 0.6932\n",
      " Iteration 720: TRAIN 0.6934\n",
      "------ Epoch # 6 ------\n",
      " Iteration 760: TRAIN 0.6935\n",
      " Iteration 800: TRAIN 0.6933\n",
      " [Loss] TRAIN 0.6933 / VALID 0.6940\n",
      " [ACC] TRAIN 0.5008 / VALID 0.4855\n",
      " Iteration 840: TRAIN 0.6929\n",
      " Iteration 880: TRAIN 0.6935\n",
      "------ Epoch # 7 ------\n",
      " Iteration 920: TRAIN 0.6933\n",
      " Iteration 960: TRAIN 0.6931\n",
      " Iteration 1000: TRAIN 0.6934\n",
      " [Loss] TRAIN 0.6932 / VALID 0.6929\n",
      " [ACC] TRAIN 0.4992 / VALID 0.5145\n",
      " Iteration 1040: TRAIN 0.6933\n",
      "------ Epoch # 8 ------\n",
      " Iteration 1080: TRAIN 0.6934\n",
      " Iteration 1120: TRAIN 0.6932\n",
      " Iteration 1160: TRAIN 0.6933\n",
      "------ Epoch # 9 ------\n",
      " Iteration 1200: TRAIN 0.6934\n",
      " [Loss] TRAIN 0.6931 / VALID 0.6933\n",
      " [ACC] TRAIN 0.5008 / VALID 0.4855\n",
      " Iteration 1240: TRAIN 0.6932\n",
      " Iteration 1280: TRAIN 0.6933\n",
      " Iteration 1320: TRAIN 0.6933\n",
      "------ Epoch # 10 ------\n",
      " Iteration 1360: TRAIN 0.6934\n",
      " Iteration 1400: TRAIN 0.6934\n",
      " [Loss] TRAIN 0.6931 / VALID 0.6932\n",
      " [ACC] TRAIN 0.5008 / VALID 0.4855\n",
      " Iteration 1440: TRAIN 0.6931\n",
      " Iteration 1480: TRAIN 0.6933\n",
      "------ Epoch # 11 ------\n",
      " Iteration 1520: TRAIN 0.6932\n",
      " Iteration 1560: TRAIN 0.6932\n",
      " Iteration 1600: TRAIN 0.6933\n",
      " [Loss] TRAIN 0.6931 / VALID 0.6931\n",
      " [ACC] TRAIN 0.5008 / VALID 0.4855\n",
      "------ Epoch # 12 ------\n",
      " Iteration 1640: TRAIN 0.6931\n",
      " Iteration 1680: TRAIN 0.6932\n",
      " Iteration 1720: TRAIN 0.6933\n",
      " Iteration 1760: TRAIN 0.6933\n",
      "------ Epoch # 13 ------\n",
      " Iteration 1800: TRAIN 0.6931\n",
      " [Loss] TRAIN 0.6935 / VALID 0.6943\n",
      " [ACC] TRAIN 0.5008 / VALID 0.4855\n",
      " Iteration 1840: TRAIN 0.6933\n",
      " Iteration 1880: TRAIN 0.6934\n",
      " Iteration 1920: TRAIN 0.6932\n",
      "------ Epoch # 14 ------\n",
      " Iteration 1960: TRAIN 0.6933\n",
      " Iteration 2000: TRAIN 0.6933\n",
      " [Loss] TRAIN 0.6932 / VALID 0.6935\n",
      " [ACC] TRAIN 0.5008 / VALID 0.4855\n",
      " Iteration 2040: TRAIN 0.6933\n",
      " Iteration 2080: TRAIN 0.6933\n",
      "------ Epoch # 15 ------\n",
      " Iteration 2120: TRAIN 0.6932\n",
      " Iteration 2160: TRAIN 0.6932\n",
      " Iteration 2200: TRAIN 0.6932\n",
      " [Loss] TRAIN 0.6932 / VALID 0.6936\n",
      " [ACC] TRAIN 0.5008 / VALID 0.4855\n",
      "------ Epoch # 16 ------\n",
      " Iteration 2240: TRAIN 0.6933\n",
      " Iteration 2280: TRAIN 0.6933\n",
      " Iteration 2320: TRAIN 0.6932\n",
      " Iteration 2360: TRAIN 0.6934\n",
      "------ Epoch # 17 ------\n",
      " Iteration 2400: TRAIN 0.6931\n",
      " [Loss] TRAIN 0.6933 / VALID 0.6928\n",
      " [ACC] TRAIN 0.4992 / VALID 0.5145\n",
      " Iteration 2440: TRAIN 0.6933\n",
      " Iteration 2480: TRAIN 0.6933\n",
      " Iteration 2520: TRAIN 0.6932\n",
      "------ Epoch # 18 ------\n",
      " Iteration 2560: TRAIN 0.6932\n",
      " Iteration 2600: TRAIN 0.6932\n",
      " [Loss] TRAIN 0.6933 / VALID 0.6928\n",
      " [ACC] TRAIN 0.4992 / VALID 0.5145\n",
      " Iteration 2640: TRAIN 0.6932\n",
      " Iteration 2680: TRAIN 0.6934\n",
      "------ Epoch # 19 ------\n",
      " Iteration 2720: TRAIN 0.6932\n",
      " Iteration 2760: TRAIN 0.6933\n",
      " Iteration 2800: TRAIN 0.6932\n",
      " [Loss] TRAIN 0.6931 / VALID 0.6932\n",
      " [ACC] TRAIN 0.5008 / VALID 0.4855\n",
      "------ Epoch # 20 ------\n",
      " Iteration 2840: TRAIN 0.6933\n",
      " Iteration 2880: TRAIN 0.6931\n",
      " Iteration 2920: TRAIN 0.6934\n",
      " Iteration 2960: TRAIN 0.6933\n",
      "------ Epoch # 21 ------\n",
      " Iteration 3000: TRAIN 0.6929\n",
      " [Loss] TRAIN 0.6932 / VALID 0.6939\n",
      " [ACC] TRAIN 0.5008 / VALID 0.4855\n",
      " Iteration 3040: TRAIN 0.6932\n",
      " Iteration 3080: TRAIN 0.6932\n",
      " Iteration 3120: TRAIN 0.6932\n",
      "------ Epoch # 22 ------\n",
      " Iteration 3160: TRAIN 0.6932\n",
      " Iteration 3200: TRAIN 0.6933\n",
      " [Loss] TRAIN 0.6931 / VALID 0.6932\n",
      " [ACC] TRAIN 0.5008 / VALID 0.4855\n",
      " Iteration 3240: TRAIN 0.6931\n",
      "------ Epoch # 23 ------\n",
      " Iteration 3280: TRAIN 0.6932\n",
      " Iteration 3320: TRAIN 0.6932\n",
      " Iteration 3360: TRAIN 0.6931\n",
      " Iteration 3400: TRAIN 0.6932\n",
      " [Loss] TRAIN 0.6934 / VALID 0.6943\n",
      " [ACC] TRAIN 0.5008 / VALID 0.4855\n",
      "------ Epoch # 24 ------\n",
      " Iteration 3440: TRAIN 0.6932\n",
      " Iteration 3480: TRAIN 0.6933\n",
      " Iteration 3520: TRAIN 0.6932\n",
      " Iteration 3560: TRAIN 0.6932\n",
      "------ Epoch # 25 ------\n",
      " Iteration 3600: TRAIN 0.6931\n",
      " [Loss] TRAIN 0.6930 / VALID 0.6933\n",
      " [ACC] TRAIN 0.5008 / VALID 0.4855\n",
      " Iteration 3640: TRAIN 0.6933\n",
      " Iteration 3680: TRAIN 0.6931\n",
      " Iteration 3720: TRAIN 0.6931\n",
      "------ Epoch # 26 ------\n",
      " Iteration 3760: TRAIN 0.6928\n",
      " Iteration 3800: TRAIN 0.6932\n",
      " [Loss] TRAIN 0.6929 / VALID 0.6932\n",
      " [ACC] TRAIN 0.5008 / VALID 0.4855\n",
      " Iteration 3840: TRAIN 0.6929\n",
      "------ Epoch # 27 ------\n",
      " Iteration 3880: TRAIN 0.6931\n",
      " Iteration 3920: TRAIN 0.6932\n",
      " Iteration 3960: TRAIN 0.6930\n",
      " Iteration 4000: TRAIN 0.6929\n",
      " [Loss] TRAIN 0.6928 / VALID 0.6927\n",
      " [ACC] TRAIN 0.4992 / VALID 0.5145\n",
      "------ Epoch # 28 ------\n",
      " Iteration 4040: TRAIN 0.6932\n",
      " Iteration 4080: TRAIN 0.6929\n",
      " Iteration 4120: TRAIN 0.6929\n",
      " Iteration 4160: TRAIN 0.6928\n",
      "------ Epoch # 29 ------\n",
      " Iteration 4200: TRAIN 0.6928\n",
      " [Loss] TRAIN 0.6925 / VALID 0.6926\n",
      " [ACC] TRAIN 0.5739 / VALID 0.5556\n",
      " Iteration 4240: TRAIN 0.6927\n",
      " Iteration 4280: TRAIN 0.6925\n",
      " Iteration 4320: TRAIN 0.6923\n",
      "------ Epoch # 30 ------\n",
      " Iteration 4360: TRAIN 0.6921\n",
      " Iteration 4400: TRAIN 0.6916\n",
      " [Loss] TRAIN 0.6913 / VALID 0.6914\n",
      " [ACC] TRAIN 0.5722 / VALID 0.5716\n",
      " Iteration 4440: TRAIN 0.6912\n",
      "Done in  347.2544672489166\n"
     ]
    }
   ],
   "source": [
    "from Tools.Trainer import Trainer\n",
    "import time \n",
    "\n",
    "trainer = Trainer(model, optimizer, criterion, train_loader, valid_loader, test_loader, hyperparams)\n",
    "\n",
    "start_time = time.time()\n",
    "nll_train, nll_valid, acc_train, acc_valid =  trainer.train_model()\n",
    "end_time = time.time()\n",
    "print('Done in ', (end_time- start_time))"
   ]
  },
  {
   "cell_type": "markdown",
   "metadata": {},
   "source": [
    "## Visualization"
   ]
  },
  {
   "cell_type": "markdown",
   "metadata": {},
   "source": [
    "### accuracy and loss plots"
   ]
  },
  {
   "cell_type": "code",
   "execution_count": 7,
   "metadata": {},
   "outputs": [
    {
     "data": {
      "image/png": "[encoded data removed]",
      "text/plain": [
       "<Figure size 432x288 with 1 Axes>"
      ]
     },
     "metadata": {
      "needs_background": "light"
     },
     "output_type": "display_data"
    },
    {
     "data": {
      "image/png": "[encoded data removed]",
      "text/plain": [
       "<Figure size 432x288 with 1 Axes>"
      ]
     },
     "metadata": {
      "needs_background": "light"
     },
     "output_type": "display_data"
    }
   ],
   "source": [
    "import Tools.Visualization as V\n",
    "V.plots(nll_train, nll_valid, acc_train, acc_valid)"
   ]
  },
  {
   "cell_type": "markdown",
   "metadata": {},
   "source": [
    "### Confusion Matrix"
   ]
  },
  {
   "cell_type": "code",
   "execution_count": 8,
   "metadata": {},
   "outputs": [
    {
     "data": {
      "image/png": "[encoded data removed]",
      "text/plain": [
       "<Figure size 432x288 with 2 Axes>"
      ]
     },
     "metadata": {
      "needs_background": "light"
     },
     "output_type": "display_data"
    }
   ],
   "source": [
    "cnf_matrix = trainer.confusion_matrix()\n",
    "V.plot_confusion_matrix(cnf_matrix)"
   ]
  },
  {
   "cell_type": "markdown",
   "metadata": {},
   "source": [
    "## Generate Submission"
   ]
  },
  {
   "cell_type": "code",
   "execution_count": 9,
   "metadata": {},
   "outputs": [
    {
     "name": "stdout",
     "output_type": "stream",
     "text": [
      "Done...\n"
     ]
    }
   ],
   "source": [
    "import Tools.Trainer as T\n",
    "results = T.predict_test_set(model, test_loader)\n",
    "T.generate_submission(results)"
   ]
  },
  {
   "cell_type": "markdown",
   "metadata": {},
   "source": [
    "## Saving the model"
   ]
  },
  {
   "cell_type": "code",
   "execution_count": 11,
   "metadata": {},
   "outputs": [],
   "source": [
    "torch.save(model, \"./Experiments/VanilaCNN-25-0.01\")"
   ]
  }
 ],
 "metadata": {
  "kernelspec": {
   "display_name": "Python 3",
   "language": "python",
   "name": "python3"
  },
  "language_info": {
   "codemirror_mode": {
    "name": "ipython",
    "version": 3
   },
   "file_extension": ".py",
   "mimetype": "text/x-python",
   "name": "python",
   "nbconvert_exporter": "python",
   "pygments_lexer": "ipython3",
   "version": "3.7.1"
  }
 },
 "nbformat": 4,
 "nbformat_minor": 2
}
