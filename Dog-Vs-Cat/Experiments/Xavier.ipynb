{
 "cells": [
  {
   "cell_type": "code",
   "execution_count": 1,
   "metadata": {},
   "outputs": [],
   "source": [
    "import torch\n",
    "import torch.nn as nn\n",
    "import torch.optim as optim\n",
    "import torch.nn.init as init\n",
    "import torch.nn.functional as F\n",
    "import torchvision\n",
    "import torchvision.transforms\n",
    "import matplotlib.pyplot as plt\n",
    "import numpy as np\n",
    "import glob\n",
    "import pandas as pd\n",
    "from torch.utils.data import DataLoader\n",
    "from torchsummary import summary\n",
    "from IPython.core.debugger import set_trace\n",
    "\n",
    "from Tools import Trainer"
   ]
  },
  {
   "cell_type": "markdown",
   "metadata": {},
   "source": [
    "## Loading datasets"
   ]
  },
  {
   "cell_type": "code",
   "execution_count": 2,
   "metadata": {},
   "outputs": [],
   "source": [
    "from Tools.Dataloader import datasets_loader\n",
    "train_loader, valid_loader, test_loader = datasets_loader()"
   ]
  },
  {
   "cell_type": "markdown",
   "metadata": {},
   "source": [
    "## Hyper-parameters"
   ]
  },
  {
   "cell_type": "code",
   "execution_count": 3,
   "metadata": {},
   "outputs": [],
   "source": [
    "hyperparams = {'num_epochs': 25,\n",
    "               'lr0' :0.1, \n",
    "               'save_checkpoint': False\n",
    "                  }\n",
    "cuda_available = torch.cuda.is_available()"
   ]
  },
  {
   "cell_type": "markdown",
   "metadata": {},
   "source": [
    "## Creating the model"
   ]
  },
  {
   "cell_type": "code",
   "execution_count": 4,
   "metadata": {},
   "outputs": [],
   "source": [
    "from Classifier.XavierCNN import XavierClassifier\n",
    "\n",
    "model = XavierClassifier()\n",
    "\n",
    "if cuda_available:\n",
    "    model = model.cuda()\n",
    "\n",
    "optimizer = torch.optim.SGD(model.parameters(), lr=hyperparams['lr0'])\n",
    "criterion = nn.CrossEntropyLoss()"
   ]
  },
  {
   "cell_type": "code",
   "execution_count": 5,
   "metadata": {},
   "outputs": [
    {
     "name": "stdout",
     "output_type": "stream",
     "text": [
      "----------------------------------------------------------------\n",
      "        Layer (type)               Output Shape         Param #\n",
      "================================================================\n",
      "            Conv2d-1           [-1, 16, 64, 64]             448\n",
      "              ReLU-2           [-1, 16, 64, 64]               0\n",
      "   GaussianDropout-3           [-1, 16, 64, 64]               0\n",
      "            Conv2d-4           [-1, 32, 64, 64]           4,640\n",
      "              ReLU-5           [-1, 32, 64, 64]               0\n",
      "         MaxPool2d-6           [-1, 32, 32, 32]               0\n",
      "   GaussianDropout-7           [-1, 32, 32, 32]               0\n",
      "            Conv2d-8           [-1, 64, 32, 32]          18,496\n",
      "              ReLU-9           [-1, 64, 32, 32]               0\n",
      "  GaussianDropout-10           [-1, 64, 32, 32]               0\n",
      "           Conv2d-11          [-1, 128, 32, 32]          73,856\n",
      "             ReLU-12          [-1, 128, 32, 32]               0\n",
      "        MaxPool2d-13          [-1, 128, 16, 16]               0\n",
      "           Conv2d-14          [-1, 128, 16, 16]         147,584\n",
      "             ReLU-15          [-1, 128, 16, 16]               0\n",
      "        MaxPool2d-16            [-1, 128, 8, 8]               0\n",
      "           Conv2d-17            [-1, 256, 8, 8]         295,168\n",
      "             ReLU-18            [-1, 256, 8, 8]               0\n",
      "        MaxPool2d-19            [-1, 256, 4, 4]               0\n",
      "  GaussianDropout-20            [-1, 256, 4, 4]               0\n",
      "           Conv2d-21            [-1, 256, 4, 4]         590,080\n",
      "             ReLU-22            [-1, 256, 4, 4]               0\n",
      "        MaxPool2d-23            [-1, 256, 2, 2]               0\n",
      "           Conv2d-24            [-1, 512, 2, 2]       1,180,160\n",
      "             ReLU-25            [-1, 512, 2, 2]               0\n",
      "           Conv2d-26            [-1, 512, 2, 2]       2,359,808\n",
      "             ReLU-27            [-1, 512, 2, 2]               0\n",
      "        MaxPool2d-28            [-1, 512, 1, 1]               0\n",
      "  GaussianDropout-29            [-1, 512, 1, 1]               0\n",
      "           Linear-30                    [-1, 2]           1,026\n",
      "================================================================\n",
      "Total params: 4,671,266\n",
      "Trainable params: 4,671,266\n",
      "Non-trainable params: 0\n",
      "----------------------------------------------------------------\n",
      "Input size (MB): 0.05\n",
      "Forward/backward pass size (MB): 8.77\n",
      "Params size (MB): 17.82\n",
      "Estimated Total Size (MB): 26.63\n",
      "----------------------------------------------------------------\n"
     ]
    }
   ],
   "source": [
    "summary(model, (3, 64, 64))"
   ]
  },
  {
   "cell_type": "markdown",
   "metadata": {},
   "source": [
    "## Training "
   ]
  },
  {
   "cell_type": "code",
   "execution_count": 6,
   "metadata": {},
   "outputs": [
    {
     "name": "stdout",
     "output_type": "stream",
     "text": [
      "------ Epoch # 1 ------\n",
      " Iteration 40: TRAIN 0.6921\n",
      " Iteration 80: TRAIN 0.6848\n",
      " Iteration 120: TRAIN 0.6819\n",
      "------ Epoch # 2 ------\n",
      " Iteration 160: TRAIN 0.6754\n",
      " Iteration 200: TRAIN 0.6630\n",
      " [Loss] TRAIN 0.7130 / VALID 0.7351\n",
      " [ACC] TRAIN 0.5324 / VALID 0.5105\n",
      " Iteration 240: TRAIN 0.6571\n",
      " Iteration 280: TRAIN 0.6385\n",
      "------ Epoch # 3 ------\n",
      " Iteration 320: TRAIN 0.6334\n",
      " Iteration 360: TRAIN 0.6247\n",
      " Iteration 400: TRAIN 0.6012\n",
      " [Loss] TRAIN 0.5719 / VALID 0.5679\n",
      " [ACC] TRAIN 0.7104 / VALID 0.6957\n",
      " Iteration 440: TRAIN 0.5816\n",
      "------ Epoch # 4 ------\n",
      " Iteration 480: TRAIN 0.5916\n",
      " Iteration 520: TRAIN 0.5657\n",
      " Iteration 560: TRAIN 0.5495\n",
      "------ Epoch # 5 ------\n",
      " Iteration 600: TRAIN 0.5572\n",
      " [Loss] TRAIN 0.5128 / VALID 0.5099\n",
      " [ACC] TRAIN 0.7488 / VALID 0.7417\n",
      " Iteration 640: TRAIN 0.5412\n",
      " Iteration 680: TRAIN 0.5343\n",
      " Iteration 720: TRAIN 0.5382\n",
      "------ Epoch # 6 ------\n",
      " Iteration 760: TRAIN 0.4992\n",
      " Iteration 800: TRAIN 0.5065\n",
      " [Loss] TRAIN 0.4831 / VALID 0.4885\n",
      " [ACC] TRAIN 0.7665 / VALID 0.7447\n",
      " Iteration 840: TRAIN 0.4870\n",
      " Iteration 880: TRAIN 0.4714\n",
      "------ Epoch # 7 ------\n",
      " Iteration 920: TRAIN 0.4742\n",
      " Iteration 960: TRAIN 0.4496\n",
      " Iteration 1000: TRAIN 0.4451\n",
      " [Loss] TRAIN 0.4016 / VALID 0.4360\n",
      " [ACC] TRAIN 0.8181 / VALID 0.7888\n",
      " Iteration 1040: TRAIN 0.4252\n",
      "------ Epoch # 8 ------\n",
      " Iteration 1080: TRAIN 0.4101\n",
      " Iteration 1120: TRAIN 0.4274\n",
      " Iteration 1160: TRAIN 0.3998\n",
      "------ Epoch # 9 ------\n",
      " Iteration 1200: TRAIN 0.3916\n",
      " [Loss] TRAIN 0.3387 / VALID 0.3994\n",
      " [ACC] TRAIN 0.8517 / VALID 0.8178\n",
      " Iteration 1240: TRAIN 0.4000\n",
      " Iteration 1280: TRAIN 0.3602\n",
      " Iteration 1320: TRAIN 0.3834\n",
      "------ Epoch # 10 ------\n",
      " Iteration 1360: TRAIN 0.3659\n",
      " Iteration 1400: TRAIN 0.3100\n",
      " [Loss] TRAIN 0.2611 / VALID 0.3731\n",
      " [ACC] TRAIN 0.8918 / VALID 0.8218\n",
      " Iteration 1440: TRAIN 0.3395\n",
      " Iteration 1480: TRAIN 0.3163\n",
      "------ Epoch # 11 ------\n",
      " Iteration 1520: TRAIN 0.3701\n",
      " Iteration 1560: TRAIN 0.3536\n",
      " Iteration 1600: TRAIN 0.3314\n",
      " [Loss] TRAIN 0.3150 / VALID 0.4219\n",
      " [ACC] TRAIN 0.8606 / VALID 0.7968\n",
      "------ Epoch # 12 ------\n",
      " Iteration 1640: TRAIN 0.3050\n",
      " Iteration 1680: TRAIN 0.2992\n",
      " Iteration 1720: TRAIN 0.2700\n",
      " Iteration 1760: TRAIN 0.2764\n",
      "------ Epoch # 13 ------\n",
      " Iteration 1800: TRAIN 0.2680\n",
      " [Loss] TRAIN 0.2609 / VALID 0.3807\n",
      " [ACC] TRAIN 0.8946 / VALID 0.8098\n",
      " Iteration 1840: TRAIN 0.2575\n",
      " Iteration 1880: TRAIN 0.2500\n",
      " Iteration 1920: TRAIN 0.2491\n",
      "------ Epoch # 14 ------\n",
      " Iteration 1960: TRAIN 0.2489\n",
      " Iteration 2000: TRAIN 0.2463\n",
      " [Loss] TRAIN 0.2410 / VALID 0.3668\n",
      " [ACC] TRAIN 0.9069 / VALID 0.8198\n",
      " Iteration 2040: TRAIN 0.2459\n",
      " Iteration 2080: TRAIN 0.2272\n",
      "------ Epoch # 15 ------\n",
      " Iteration 2120: TRAIN 0.2436\n",
      " Iteration 2160: TRAIN 0.2327\n",
      " Iteration 2200: TRAIN 0.2216\n",
      " [Loss] TRAIN 0.2313 / VALID 0.3636\n",
      " [ACC] TRAIN 0.9117 / VALID 0.8288\n",
      "------ Epoch # 16 ------\n",
      " Iteration 2240: TRAIN 0.2323\n",
      " Iteration 2280: TRAIN 0.2271\n",
      " Iteration 2320: TRAIN 0.2330\n",
      " Iteration 2360: TRAIN 0.2184\n",
      "------ Epoch # 17 ------\n",
      " Iteration 2400: TRAIN 0.2346\n",
      " [Loss] TRAIN 0.2239 / VALID 0.3595\n",
      " [ACC] TRAIN 0.9164 / VALID 0.8298\n",
      " Iteration 2440: TRAIN 0.2301\n",
      " Iteration 2480: TRAIN 0.2227\n",
      " Iteration 2520: TRAIN 0.2187\n",
      "------ Epoch # 18 ------\n",
      " Iteration 2560: TRAIN 0.2221\n",
      " Iteration 2600: TRAIN 0.2143\n",
      " [Loss] TRAIN 0.2194 / VALID 0.3609\n",
      " [ACC] TRAIN 0.9184 / VALID 0.8288\n",
      " Iteration 2640: TRAIN 0.2266\n",
      " Iteration 2680: TRAIN 0.2121\n",
      "------ Epoch # 19 ------\n",
      " Iteration 2720: TRAIN 0.2196\n",
      " Iteration 2760: TRAIN 0.2280\n",
      " Iteration 2800: TRAIN 0.2052\n",
      " [Loss] TRAIN 0.2156 / VALID 0.3593\n",
      " [ACC] TRAIN 0.9195 / VALID 0.8348\n",
      "------ Epoch # 20 ------\n",
      " Iteration 2840: TRAIN 0.2155\n",
      " Iteration 2880: TRAIN 0.2134\n",
      " Iteration 2920: TRAIN 0.2121\n",
      " Iteration 2960: TRAIN 0.2177\n",
      "------ Epoch # 21 ------\n",
      " Iteration 3000: TRAIN 0.2130\n",
      " [Loss] TRAIN 0.2127 / VALID 0.3614\n",
      " [ACC] TRAIN 0.9205 / VALID 0.8348\n",
      " Iteration 3040: TRAIN 0.2098\n",
      " Iteration 3080: TRAIN 0.2161\n",
      " Iteration 3120: TRAIN 0.2149\n",
      "------ Epoch # 22 ------\n",
      " Iteration 3160: TRAIN 0.2171\n",
      " Iteration 3200: TRAIN 0.2081\n",
      " [Loss] TRAIN 0.2132 / VALID 0.3587\n",
      " [ACC] TRAIN 0.9202 / VALID 0.8368\n",
      " Iteration 3240: TRAIN 0.2085\n",
      "------ Epoch # 23 ------\n",
      " Iteration 3280: TRAIN 0.2203\n",
      " Iteration 3320: TRAIN 0.2119\n",
      " Iteration 3360: TRAIN 0.2201\n",
      " Iteration 3400: TRAIN 0.2104\n",
      " [Loss] TRAIN 0.2132 / VALID 0.3585\n",
      " [ACC] TRAIN 0.9205 / VALID 0.8308\n",
      "------ Epoch # 24 ------\n",
      " Iteration 3440: TRAIN 0.2059\n",
      " Iteration 3480: TRAIN 0.2138\n",
      " Iteration 3520: TRAIN 0.2182\n",
      " Iteration 3560: TRAIN 0.2043\n",
      "------ Epoch # 25 ------\n",
      " Iteration 3600: TRAIN 0.2212\n",
      " [Loss] TRAIN 0.2130 / VALID 0.3588\n",
      " [ACC] TRAIN 0.9199 / VALID 0.8378\n",
      " Iteration 3640: TRAIN 0.2128\n",
      " Iteration 3680: TRAIN 0.2075\n",
      " Iteration 3720: TRAIN 0.2164\n",
      "Done...\n"
     ]
    }
   ],
   "source": [
    "from Tools.Trainer import Trainer\n",
    "\n",
    "trainer = Trainer(model, optimizer, criterion, train_loader, valid_loader, test_loader, hyperparams)\n",
    "nll_train, nll_valid, acc_train, acc_valid =  trainer.train_model()\n",
    "print('Done...')"
   ]
  },
  {
   "cell_type": "markdown",
   "metadata": {},
   "source": [
    "## Visualization"
   ]
  },
  {
   "cell_type": "markdown",
   "metadata": {},
   "source": [
    "### accuracy and loss plots"
   ]
  },
  {
   "cell_type": "code",
   "execution_count": 7,
   "metadata": {},
   "outputs": [
    {
     "data": {
      "image/png": "[encoded data removed]",
      "text/plain": [
       "<Figure size 432x288 with 1 Axes>"
      ]
     },
     "metadata": {
      "needs_background": "light"
     },
     "output_type": "display_data"
    },
    {
     "data": {
      "image/png": "[encoded data removed]",
      "text/plain": [
       "<Figure size 432x288 with 1 Axes>"
      ]
     },
     "metadata": {
      "needs_background": "light"
     },
     "output_type": "display_data"
    }
   ],
   "source": [
    "import Tools.Visualization as V\n",
    "V.plots(nll_train, nll_valid, acc_train, acc_valid)"
   ]
  },
  {
   "cell_type": "markdown",
   "metadata": {},
   "source": [
    "### Confusion Matrix"
   ]
  },
  {
   "cell_type": "code",
   "execution_count": 8,
   "metadata": {},
   "outputs": [
    {
     "data": {
      "image/png": "[encoded data removed]",
      "text/plain": [
       "<Figure size 432x288 with 2 Axes>"
      ]
     },
     "metadata": {
      "needs_background": "light"
     },
     "output_type": "display_data"
    }
   ],
   "source": [
    "cnf_matrix = trainer.confusion_matrix()\n",
    "V.plot_confusion_matrix(cnf_matrix)"
   ]
  },
  {
   "cell_type": "markdown",
   "metadata": {},
   "source": [
    "## Generate Submission"
   ]
  },
  {
   "cell_type": "code",
   "execution_count": 10,
   "metadata": {},
   "outputs": [
    {
     "name": "stdout",
     "output_type": "stream",
     "text": [
      "Done...\n"
     ]
    }
   ],
   "source": [
    "import Tools.Trainer as T\n",
    "results = T.predict_test_set(model, test_loader)\n",
    "T.generate_submission(results)"
   ]
  },
  {
   "cell_type": "markdown",
   "metadata": {},
   "source": [
    "## Saving the model"
   ]
  },
  {
   "cell_type": "code",
   "execution_count": 12,
   "metadata": {},
   "outputs": [],
   "source": [
    "torch.save(model, \"./Experiments/Xavier-25-0.01\")"
   ]
  },
  {
   "cell_type": "code",
   "execution_count": null,
   "metadata": {},
   "outputs": [],
   "source": []
  }
 ],
 "metadata": {
  "kernelspec": {
   "display_name": "Python 3",
   "language": "python",
   "name": "python3"
  },
  "language_info": {
   "codemirror_mode": {
    "name": "ipython",
    "version": 3
   },
   "file_extension": ".py",
   "mimetype": "text/x-python",
   "name": "python",
   "nbconvert_exporter": "python",
   "pygments_lexer": "ipython3",
   "version": "3.7.1"
  }
 },
 "nbformat": 4,
 "nbformat_minor": 2
}
